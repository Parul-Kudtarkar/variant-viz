{
 "cells": [
  {
   "cell_type": "code",
   "execution_count": 124,
   "metadata": {},
   "outputs": [
    {
     "data": {
      "text/html": [
       "<script>requirejs.config({paths: { 'plotly': ['https://cdn.plot.ly/plotly-latest.min']},});if(!window.Plotly) {{require(['plotly'],function(plotly) {window.Plotly=plotly;});}}</script>"
      ],
      "text/vnd.plotly.v1+html": [
       "<script>requirejs.config({paths: { 'plotly': ['https://cdn.plot.ly/plotly-latest.min']},});if(!window.Plotly) {{require(['plotly'],function(plotly) {window.Plotly=plotly;});}}</script>"
      ]
     },
     "metadata": {},
     "output_type": "display_data"
    }
   ],
   "source": [
    "import plotly\n",
    "import plotly.plotly as py\n",
    "import plotly.graph_objs as go\n",
    "import plotly.figure_factory as ff\n",
    "from plotly.offline import download_plotlyjs, init_notebook_mode, plot, iplot\n",
    "import numpy as np\n",
    "import json\n",
    "import urllib.request\n",
    "import numpy as np\n",
    "import time\n",
    "import dash\n",
    "import dash_core_components as dcc\n",
    "import dash_html_components as html\n",
    "import colorlover as cl\n",
    "from IPython.display import HTML\n",
    "\n",
    "#authenticate plotly:\n",
    "plotly.tools.set_credentials_file(username='smorabito', api_key='BoBmLuy3saDfBmpvhsM7')\n",
    "\n",
    "#necessary for plotly offline:\n",
    "init_notebook_mode(connected=True)"
   ]
  },
  {
   "cell_type": "code",
   "execution_count": 319,
   "metadata": {},
   "outputs": [
    {
     "data": {
      "application/vnd.plotly.v1+json": {
       "data": [
        {
         "hoverinfo": "text",
         "hovertext": [
          "apple",
          "orange",
          "banana",
          "grape",
          "lime"
         ],
         "mode": "markers+text",
         "name": "markers",
         "text": [
          "test 0",
          "test 1",
          "test 2",
          "test 3",
          "test 4",
          "test 5",
          "test 6",
          "test 7",
          "test 8",
          "test 9"
         ],
         "textposition": "bottom",
         "type": "scatter",
         "x": [
          1,
          1,
          1,
          1,
          1
         ],
         "y": [
          0,
          1,
          2,
          3,
          4
         ]
        }
       ],
       "layout": {
        "hoverlabel": {},
        "hovermode": "closest",
        "showlegend": false,
        "xaxis": {
         "showticklabels": false,
         "ticks": "",
         "zeroline": false
        },
        "yaxis": {
         "showline": false,
         "showticklabels": false,
         "ticks": "",
         "zeroline": false
        }
       }
      },
      "text/html": [
       "<div id=\"fa02bf6f-ee2c-48b2-a678-32af551d0250\" style=\"height: 525px; width: 100%;\" class=\"plotly-graph-div\"></div><script type=\"text/javascript\">require([\"plotly\"], function(Plotly) { window.PLOTLYENV=window.PLOTLYENV || {};window.PLOTLYENV.BASE_URL=\"https://plot.ly\";Plotly.newPlot(\"fa02bf6f-ee2c-48b2-a678-32af551d0250\", [{\"type\": \"scatter\", \"x\": [1, 1, 1, 1, 1], \"y\": [0, 1, 2, 3, 4], \"text\": [\"test 0\", \"test 1\", \"test 2\", \"test 3\", \"test 4\", \"test 5\", \"test 6\", \"test 7\", \"test 8\", \"test 9\"], \"mode\": \"markers+text\", \"name\": \"markers\", \"hoverinfo\": \"text\", \"hovertext\": [\"apple\", \"orange\", \"banana\", \"grape\", \"lime\"], \"textposition\": \"bottom\"}], {\"xaxis\": {\"ticks\": \"\", \"zeroline\": false, \"showticklabels\": false}, \"yaxis\": {\"zeroline\": false, \"showline\": false, \"ticks\": \"\", \"showticklabels\": false}, \"hovermode\": \"closest\", \"hoverlabel\": {}, \"showlegend\": false}, {\"showLink\": true, \"linkText\": \"Export to plot.ly\"})});</script>"
      ],
      "text/vnd.plotly.v1+html": [
       "<div id=\"fa02bf6f-ee2c-48b2-a678-32af551d0250\" style=\"height: 525px; width: 100%;\" class=\"plotly-graph-div\"></div><script type=\"text/javascript\">require([\"plotly\"], function(Plotly) { window.PLOTLYENV=window.PLOTLYENV || {};window.PLOTLYENV.BASE_URL=\"https://plot.ly\";Plotly.newPlot(\"fa02bf6f-ee2c-48b2-a678-32af551d0250\", [{\"type\": \"scatter\", \"x\": [1, 1, 1, 1, 1], \"y\": [0, 1, 2, 3, 4], \"text\": [\"test 0\", \"test 1\", \"test 2\", \"test 3\", \"test 4\", \"test 5\", \"test 6\", \"test 7\", \"test 8\", \"test 9\"], \"mode\": \"markers+text\", \"name\": \"markers\", \"hoverinfo\": \"text\", \"hovertext\": [\"apple\", \"orange\", \"banana\", \"grape\", \"lime\"], \"textposition\": \"bottom\"}], {\"xaxis\": {\"ticks\": \"\", \"zeroline\": false, \"showticklabels\": false}, \"yaxis\": {\"zeroline\": false, \"showline\": false, \"ticks\": \"\", \"showticklabels\": false}, \"hovermode\": \"closest\", \"hoverlabel\": {}, \"showlegend\": false}, {\"showLink\": true, \"linkText\": \"Export to plot.ly\"})});</script>"
      ]
     },
     "metadata": {},
     "output_type": "display_data"
    }
   ],
   "source": [
    "ht = [\"apple\", \"orange\", \"banana\", \"grape\", \"lime\"]\n",
    "\n",
    "tr = go.Scatter(\n",
    "    x = [1,1,1,1,1],\n",
    "    y = [0,1,2,3,4],\n",
    "    text = [\"test \" + str(i) for i in range(10)],\n",
    "    mode = 'markers+text',\n",
    "    name = 'markers',\n",
    "    hoverinfo='text',\n",
    "    hovertext = [],\n",
    "    textposition = 'bottom',\n",
    "    #hoveron = 'points'\n",
    ")\n",
    "\n",
    "layout = go.Layout(\n",
    "    xaxis = dict(\n",
    "        ticks='',\n",
    "        zeroline=False,\n",
    "        showticklabels=False\n",
    "    ),\n",
    "    yaxis = dict(\n",
    "        zeroline=False,\n",
    "        showline=False,\n",
    "        ticks='',\n",
    "        showticklabels=False\n",
    "    ),\n",
    "    hovermode='closest',\n",
    "    hoverlabel=dict(),\n",
    "    showlegend=False,\n",
    ")\n",
    "\n",
    "#print(tr['hovertext'])\n",
    "#tr['hovertext'].append(\"lemon\")\n",
    "for h in ht:\n",
    "    tr['hovertext'].append(h)\n",
    "\n",
    "fig = go.Figure(data=[tr], layout=layout)\n",
    "iplot(fig)"
   ]
  },
  {
   "cell_type": "code",
   "execution_count": 184,
   "metadata": {},
   "outputs": [],
   "source": [
    "def rsid_url(rsid):\n",
    "    return \"https://www.t2depigenome.org/peak_metadata/region=%s&genome=GRCh37/peak_metadata.tsv\" % rsid"
   ]
  },
  {
   "cell_type": "code",
   "execution_count": 246,
   "metadata": {},
   "outputs": [],
   "source": [
    "#remake generate shapes to only draw one shape around all annnotations with a common biosample\n",
    "def generate_shapes(positions, var_name, biosample_colors):\n",
    "    \n",
    "    shape_coords = [positions[var_name][\"shape-coords\"]]\n",
    "    shape_biosamples = [var_name]\n",
    "    shapes = []\n",
    "    \n",
    "    for anno in positions[var_name][\"annotations\"].keys():\n",
    "        shape_coords.append(positions[var_name][\"annotations\"][anno][\"shape-coords\"])\n",
    "        shape_biosamples.append(anno)\n",
    "        last_biosample = \"\"\n",
    "        for item in positions[var_name][\"annotations\"][anno][\"items\"]:\n",
    "            cur_biosample = item[\"biosample_term_name\"]\n",
    "            if cur_biosample != last_biosample:\n",
    "                shape_coords.append(item[\"shape-coords\"])\n",
    "                shape_biosamples.append(item[\"biosample_term_name\"])\n",
    "            last_biosample = cur_biosample\n",
    "    \n",
    "    colors = []\n",
    "    cur_color = \"#A9A9A9\"\n",
    "    for i, item in enumerate(shape_biosamples):\n",
    "        #is this an annotation name?\n",
    "        if item in positions[var_name][\"annotations\"].keys():\n",
    "            colors.append('#808080')\n",
    "        else: \n",
    "            colors.append(cur_color)\n",
    "            if cur_color == \"#A9A9A9\":\n",
    "                cur_color = \"#D3D3D3\"\n",
    "            elif cur_color == \"#D3D3D3\":\n",
    "                cur_color = \"#A9A9A9\"\n",
    "    \n",
    "    #make shape color list:\n",
    "    '''\n",
    "    colors = []\n",
    "    for i, biosample in enumerate(shape_biosamples):\n",
    "        if biosample in biosample_colors.keys():\n",
    "            colors.append(biosample_colors[biosample])\n",
    "        else:\n",
    "            colors.append('rgba(55, 128, 191, 0.6)')\n",
    "    print(\"colors:\", len(colors))\n",
    "    print(\"shape coords:\", len(shape_coords))\n",
    "    print(\"shape biosamples:\", len(shape_biosamples))\n",
    "    '''\n",
    "    \n",
    "    for i, coords in enumerate(shape_coords):\n",
    "        shapes.append({\n",
    "            'type': 'rect',\n",
    "            'xref': 'x',\n",
    "            'yref': 'y',\n",
    "            'x0': coords[0][0],\n",
    "            'y0': coords[0][1],\n",
    "            'x1': coords[1][0],\n",
    "            'y1': coords[1][1],\n",
    "            'line': {\n",
    "                'color': '#888',\n",
    "                'width': 2,\n",
    "            },\n",
    "            #'fillcolor': 'rgba(55, 128, 191, 0.6)',\n",
    "            'fillcolor': colors[i],\n",
    "            'opacity': 0.275\n",
    "        })\n",
    "    return shapes"
   ]
  },
  {
   "cell_type": "code",
   "execution_count": 247,
   "metadata": {},
   "outputs": [],
   "source": [
    "#new generate positions grouping annotation in the same biosample in one box\n",
    "def generate_positions(var_data, var_name, vert_space=4, box_width=10, \\\n",
    "                       box_height=4, text_y0=100, plot_width=100, offset=20, expanded=True, biosamples=\"\"):\n",
    "    \n",
    "    #sort items within var_data (should I do this outside of this function??):\n",
    "    var_data = {anno: sorted(items, key=lambda x: x['biosample_term_name']) for anno, items in var_data.items()}\n",
    "    \n",
    "    #get number of annotations\n",
    "    num_annotations = len(var_data.keys())\n",
    "    num_sides = int(num_annotations/2)   \n",
    "    \n",
    "    positions = {\n",
    "        var_name: {\n",
    "            \"text-coords\": [plot_width/2, text_y0],\n",
    "            \"shape-coords\": [\n",
    "                [(plot_width/2)-box_width/2, text_y0-box_height/2],\n",
    "                [(plot_width/2)+box_width/2, text_y0+box_height/2]\n",
    "            ],\n",
    "            \"annotations\": {key: {\"items\": val} for key, val in var_data.items()}\n",
    "        }\n",
    "    }\n",
    "    \n",
    "    for i, anno in enumerate(positions[var_name][\"annotations\"].keys()):\n",
    "        #get x offset:\n",
    "        if num_annotations % 2 == 1 and i == int(num_annotations/2)+1:\n",
    "            x_offset = positions[var_name][\"text-coords\"][0] + offset\n",
    "        elif i+1 <= num_sides: \n",
    "            x_offset = positions[var_name][\"text-coords\"][0] - offset*(i+1)\n",
    "        elif i+1 > num_sides and num_annotations % 2 == 1:\n",
    "            x_offset = positions[var_name][\"text-coords\"][0] + offset*(i-int(num_annotations/2))\n",
    "        else:\n",
    "            x_offset = positions[var_name][\"text-coords\"][0] + offset*((i+1)-int(num_annotations/2))\n",
    "            \n",
    "        #set text coordinates for this annotation\n",
    "        positions[var_name][\"annotations\"][anno][\"text-coords\"] = [\n",
    "            x_offset, \n",
    "            text_y0-(2*vert_space)\n",
    "        ]\n",
    "        \n",
    "        #set shape coordinates for this annotation\n",
    "        positions[var_name][\"annotations\"][anno][\"shape-coords\"] = [\n",
    "            [\n",
    "                positions[var_name][\"annotations\"][anno][\"text-coords\"][0]-box_width/2,\n",
    "                positions[var_name][\"annotations\"][anno][\"text-coords\"][1]-box_height/2\n",
    "            ],\n",
    "            [\n",
    "                positions[var_name][\"annotations\"][anno][\"text-coords\"][0]+box_width/2,\n",
    "                positions[var_name][\"annotations\"][anno][\"text-coords\"][1]+box_height/2\n",
    "            ]\n",
    "        ]\n",
    "        \n",
    "        cur_text_coords = []\n",
    "        cur_shape_coords = []\n",
    "        last_biosample = \"\"\n",
    "\n",
    "        if expanded == True:\n",
    "            for j, item in enumerate(positions[var_name][\"annotations\"][anno][\"items\"]):\n",
    "                cur_biosample = item[\"biosample_term_name\"]\n",
    "                if cur_biosample in biosamples:\n",
    "                    #text coordinates\n",
    "                    if len(cur_text_coords) == 0:\n",
    "                        item[\"text-coords\"] = [\n",
    "                            positions[var_name][\"annotations\"][anno][\"text-coords\"][0],\n",
    "                            positions[var_name][\"annotations\"][anno][\"text-coords\"][1] - box_height\n",
    "                        ]\n",
    "                        cur_text_coords.append(item[\"text-coords\"])\n",
    "                    else:\n",
    "                        item['text-coords'] = [\n",
    "                            cur_text_coords[-1][0],\n",
    "                            cur_text_coords[-1][1] - box_height\n",
    "                        ]\n",
    "                        cur_text_coords.append(item[\"text-coords\"])\n",
    "                    #shape coordinates (make a new shape or extend last shape):\n",
    "                    #make a new shape\n",
    "                    if j == 0 or cur_biosample != last_biosample:\n",
    "                        cur_shape_coords = [\n",
    "                            [item[\"text-coords\"][0]-box_width/2, item[\"text-coords\"][1]-box_height/2],\n",
    "                            [item[\"text-coords\"][0]+box_width/2, item[\"text-coords\"][1]+box_height/2]\n",
    "                        ]                        \n",
    "                    #extend y value of current shape\n",
    "                    elif cur_biosample == last_biosample:\n",
    "                        cur_shape_coords[0][1] -= box_height\n",
    "                    item[\"shape-coords\"] = cur_shape_coords\n",
    "                    \n",
    "                    #set last biosample to cur biosample\n",
    "                    last_biosample = cur_biosample           \n",
    "        \n",
    "    return positions"
   ]
  },
  {
   "cell_type": "code",
   "execution_count": 263,
   "metadata": {},
   "outputs": [],
   "source": [
    "#finds the longest label name\n",
    "def max_text_len(var_data):\n",
    "    \n",
    "    max_text_len = 0\n",
    "    \n",
    "    for anno, items in var_data.items():\n",
    "        if len(anno) > max_text_len:\n",
    "            max_text_len = len(anno)\n",
    "        for item in items:\n",
    "            text = item[\"biosample_term_name\"] + \": \"\n",
    "            if \"state\" in item.keys():\n",
    "                text += \"state\"\n",
    "            elif \"target\" in item.keys():\n",
    "                text += \"target\"\n",
    "            elif \"footprint\" in item.keys():\n",
    "                text += \"footprint\"\n",
    "            if len(text) > max_text_len:\n",
    "                max_text_len = len(text)\n",
    "    \n",
    "    return max_text_len"
   ]
  },
  {
   "cell_type": "code",
   "execution_count": 265,
   "metadata": {},
   "outputs": [],
   "source": [
    "#get all biosample_term_names in var_data:\n",
    "def get_biosamples(var_data):\n",
    "    biosamples = []\n",
    "    for anno in var_data.keys():\n",
    "        for item in var_data[anno]:\n",
    "            biosamples.append(item[\"biosample_term_name\"])\n",
    "\n",
    "    return list(set(biosamples))"
   ]
  },
  {
   "cell_type": "code",
   "execution_count": 266,
   "metadata": {},
   "outputs": [],
   "source": [
    "#get a unique random color for each biosample:\n",
    "def get_biosample_colors(biosamples):\n",
    "    print(\"get_biosample_colors\", len(biosamples)*3)\n",
    "    c = cl.scales['11']['qual']['Paired']\n",
    "    c_ = cl.interp(c, len(biosamples)*3)\n",
    "    return {biosample: c_[i] for i, biosample in enumerate(biosamples)}    "
   ]
  },
  {
   "cell_type": "code",
   "execution_count": 264,
   "metadata": {},
   "outputs": [],
   "source": [
    "def invisible_points(positions, var_name):\n",
    "    \n",
    "    min_coords = [i for i in positions[var_name][\"text-coords\"]]\n",
    "    max_coords = [i for i in positions[var_name][\"text-coords\"]]\n",
    "    \n",
    "    for anno, info in positions[var_name][\"annotations\"].items():\n",
    "        if info[\"text-coords\"][0] > max_coords[0]:\n",
    "            max_coords[0] = info[\"text-coords\"][0]\n",
    "        elif info[\"text-coords\"][0] < min_coords[0]:\n",
    "            min_coords[0] = info[\"text-coords\"][0]\n",
    "        if info[\"text-coords\"][1] > max_coords[1]:\n",
    "            max_coords[1] = info[\"text-coords\"][1]\n",
    "        elif info[\"text-coords\"][1] < min_coords[1]:\n",
    "            min_coords[1] = info[\"text-coords\"][1]\n",
    "        \n",
    "        for item in positions[var_name][\"annotations\"][anno][\"items\"]:\n",
    "            if \"text-coords\" in item.keys():\n",
    "                if item[\"text-coords\"][0] > max_coords[0]:\n",
    "                    max_coords[0] = item[\"text-coords\"][0]\n",
    "                elif item[\"text-coords\"][0] < min_coords[0]:\n",
    "                    min_coords[0] = item[\"text-coords\"][0]\n",
    "                if item[\"text-coords\"][1] > max_coords[1]:\n",
    "                    max_coords[1] = item[\"text-coords\"][1]\n",
    "                elif item[\"text-coords\"][1] < min_coords[1]:\n",
    "                    min_coords[1] = item[\"text-coords\"][1]\n",
    "        \n",
    "    #extend invisible x points to avoid text cutoffs:\n",
    "    min_coords[0] -= 25\n",
    "    max_coords[0] += 25\n",
    "    \n",
    "    return min_coords, max_coords"
   ]
  },
  {
   "cell_type": "code",
   "execution_count": 326,
   "metadata": {},
   "outputs": [],
   "source": [
    "def anno_hovertext(item):\n",
    "    ht = \"\"\n",
    "    for key, val in item.items():\n",
    "        if key not in [\"text-coords\", \"shape-coords\"]:\n",
    "            ht += key + \": \" + val + \"<br>\"\n",
    "    return ht\n",
    "    "
   ]
  },
  {
   "cell_type": "code",
   "execution_count": 329,
   "metadata": {},
   "outputs": [],
   "source": [
    "def make_graph(var_data, var_name, vert_space=4, box_width=10, \\\n",
    "                box_height=4, text_y0=100, plot_width=1000, plot_height=500, offset=20, expanded=True, biosamples=\"\"):\n",
    "    \n",
    "    print(\"biosamples:\", biosamples)\n",
    "    if biosamples == \"\":\n",
    "        biosamples = get_biosamples(var_data)\n",
    "    \n",
    "    #get max number of items in one annotation (to compute plot height)\n",
    "    max_items = max([len([item for item in var_data[anno] if item[\"biosample_term_name\"] in biosamples]) for anno in var_data.keys()])\n",
    "    num_annotations = len(var_data.keys())\n",
    "    plot_height = 350*np.log(max_items)\n",
    "    plot_width = 900 * np.log(num_annotations)\n",
    " \n",
    "    #longest label\n",
    "    box_width = max_text_len(var_data)\n",
    "    offset = box_width + 5\n",
    "\n",
    "    positions = generate_positions(var_data, var_name, expanded=expanded, box_height=box_height, \\\n",
    "                                   box_width=box_width, offset=offset, text_y0=text_y0, biosamples=biosamples)\n",
    "    \n",
    "    #initialize node and edge traces:\n",
    "    node_trace = go.Scatter(\n",
    "        x = [],\n",
    "        y = [],\n",
    "        text = [],\n",
    "        hovertext=[],\n",
    "        mode='markers+text',\n",
    "        hoverinfo='closest',\n",
    "        marker=dict(\n",
    "            color=[],\n",
    "            size=10,\n",
    "            line=dict(width=10),\n",
    "            opacity=0.0\n",
    "        ),\n",
    "        textfont=dict(\n",
    "            color='black',\n",
    "            size=18,\n",
    "            family='Arail',\n",
    "        )\n",
    "    )\n",
    "\n",
    "    edge_trace = go.Scatter(\n",
    "        x = [],\n",
    "        y = [],\n",
    "        line=dict(width=2,color='#888'),\n",
    "        hoverinfo='none',\n",
    "        mode='lines'        \n",
    "    )\n",
    "    \n",
    "    #populate node information with text positions:\n",
    "    \n",
    "    node_trace['x'].append(positions[var_name][\"text-coords\"][0])\n",
    "    node_trace['y'].append(positions[var_name][\"text-coords\"][1])\n",
    "    node_trace['text'].append(var_name)\n",
    "    node_trace['hovertext'].append(\"\")\n",
    "    for anno in positions[var_name][\"annotations\"].keys():\n",
    "        node_trace['hovertext'].append(\"\")\n",
    "        node_trace['x'].append(positions[var_name][\"annotations\"][anno][\"text-coords\"][0])\n",
    "        node_trace['y'].append(positions[var_name][\"annotations\"][anno][\"text-coords\"][1])\n",
    "        node_trace['text'].append(anno)\n",
    "        last_biosample = \"\"\n",
    "        for item in positions[var_name][\"annotations\"][anno][\"items\"]:\n",
    "            if item[\"biosample_term_name\"] in biosamples:\n",
    "                node_trace['hovertext'].append(anno_hovertext(item))\n",
    "                cur_biosample = item[\"biosample_term_name\"]\n",
    "                node_trace['x'].append(item[\"text-coords\"][0])\n",
    "                node_trace['y'].append(item[\"text-coords\"][1])\n",
    "                if cur_biosample != last_biosample:\n",
    "                    text = item[\"biosample_term_name\"] + \":<br>\"\n",
    "                else: \n",
    "                    text = \"\"\n",
    "                if \"state\" in item.keys():\n",
    "                    text += item[\"state\"]\n",
    "                elif \"footprint\" in item.keys():\n",
    "                    text += item[\"footprint\"]\n",
    "                elif \"target\" in item.keys():\n",
    "                    text += item['target']\n",
    "                node_trace[\"text\"].append(text)\n",
    "                last_biosample = cur_biosample\n",
    "\n",
    "            \n",
    "    #fill in edges between variant name and annotation names:\n",
    "    for anno in positions[var_name][\"annotations\"].keys():\n",
    "        edge_trace['x'] += [positions[var_name][\"text-coords\"][0], positions[var_name][\"annotations\"][anno][\"text-coords\"][0], None]\n",
    "        edge_trace['y'] += [positions[var_name][\"shape-coords\"][0][1], positions[var_name][\"annotations\"][anno][\"shape-coords\"][1][1], None]\n",
    "    \n",
    "    #add invisible points:\n",
    "    min_coords, max_coords = invisible_points(positions, var_name)\n",
    "    node_trace['x'].append(min_coords[0])\n",
    "    node_trace['y'].append(min_coords[1])\n",
    "    node_trace['x'].append(max_coords[0])\n",
    "    node_trace['y'].append(max_coords[1])\n",
    "    \n",
    "    layout = go.Layout(\n",
    "        width=plot_width,\n",
    "        height=plot_height,\n",
    "        xaxis = dict(\n",
    "            showgrid=False, \n",
    "            zeroline=False,\n",
    "            showline=False,\n",
    "            ticks='',\n",
    "            showticklabels=False\n",
    "        ),\n",
    "        yaxis = dict(\n",
    "            showgrid=False,\n",
    "            zeroline=False,\n",
    "            showline=False,\n",
    "            ticks='',\n",
    "            showticklabels=False\n",
    "        ),\n",
    "        showlegend=False,\n",
    "        hovermode='closest',\n",
    "        hoverlabel=dict(\n",
    "            bgcolor='white',\n",
    "            bordercolor='black',\n",
    "            font=dict(\n",
    "                family='helvetica'\n",
    "            )\n",
    "        )\n",
    "       \n",
    "    )\n",
    "    \n",
    "    #biosample_colors = get_biosample_colors(biosamples)\n",
    "    layout['shapes'] = generate_shapes(positions, var_name, biosample_colors=\"\")\n",
    "\n",
    "    data = [node_trace, edge_trace]\n",
    "    fig = go.Figure(data=data, layout=layout)\n",
    "    return fig\n",
    "    "
   ]
  },
  {
   "cell_type": "code",
   "execution_count": 330,
   "metadata": {
    "scrolled": true
   },
   "outputs": [
    {
     "name": "stdout",
     "output_type": "stream",
     "text": [
      "biosamples: \n"
     ]
    },
    {
     "data": {
      "application/vnd.plotly.v1+json": {
       "data": [
        {
         "hoverinfo": "closest",
         "hovertext": [
          "",
          "",
          "accession: TSTSR295022<br>annotation_type: chromatin state<br>biosample_term_name: CD34-PB<br>coordinates: chr10:114749600-114787200<br>genome: hg19<br>state: 6_Weak_transcription<br>value: 0,100,0<br>",
          "accession: TSTSR360658<br>annotation_type: chromatin state<br>biosample_term_name: ESC derived cell line<br>coordinates: chr10:114756600-114758400<br>genome: hg19<br>state: 6_Weak_transcription<br>value: 0,100,0<br>",
          "accession: TSTSR588101<br>annotation_type: chromatin state<br>biosample_term_name: GM12878<br>coordinates: chr10:114746800-114853200<br>genome: hg19<br>state: 17_Weak_repressed_polycomb<br>value: 192,192,192<br>",
          "accession: TSTSR035696<br>annotation_type: chromatin state<br>biosample_term_name: HepG2<br>coordinates: chr10:114752000-114762200<br>genome: hg19<br>state: 5_Strong_transcription<br>value: 0,128,0<br>",
          "accession: TSTSR863340<br>annotation_type: chromatin state<br>biosample_term_name: adipocyte<br>coordinates: chr10:114747600-114766600<br>genome: hg19<br>state: 6_Weak_transcription<br>value: 0,100,0<br>",
          "accession: TSTSR104634<br>annotation_type: chromatin state<br>biosample_term_name: adipocyte<br>coordinates: chr10:114757800-114758600<br>genome: hg19<br>state: 11_Weak_enhancer<br>value: 255,255,0<br>",
          "accession: TSTSR459407<br>annotation_type: chromatin state<br>biosample_term_name: duodenum mucosa<br>coordinates: chr10:114752600-114761600<br>genome: hg19<br>state: 6_Weak_transcription<br>value: 0,100,0<br>",
          "accession: TSTSR000759<br>annotation_type: chromatin state<br>biosample_term_name: endothelial cell of umbilical vein<br>coordinates: chr10:114745400-114780200<br>genome: hg19<br>state: 6_Weak_transcription<br>value: 0,100,0<br>",
          "accession: TSTSR679993<br>annotation_type: chromatin state<br>biosample_term_name: islet of Langerhans<br>coordinates: chr10:114757200-114761000<br>genome: hg19<br>state: 10_Active_enhancer_2<br>value: 255,195,77<br>",
          "accession: TSTSR926942<br>annotation_type: chromatin state<br>biosample_term_name: keratinocyte<br>coordinates: chr10:114753400-114760200<br>genome: hg19<br>state: 6_Weak_transcription<br>value: 0,100,0<br>",
          "accession: TSTSR013323<br>annotation_type: chromatin state<br>biosample_term_name: layer of hippocampus<br>coordinates: chr10:114752600-114760000<br>genome: hg19<br>state: 6_Weak_transcription<br>value: 0,100,0<br>",
          "accession: TSTSR027410<br>annotation_type: chromatin state<br>biosample_term_name: liver<br>coordinates: chr10:114757800-114760000<br>genome: hg19<br>state: 6_Weak_transcription<br>value: 0,100,0<br>",
          "accession: TSTSR632525<br>annotation_type: chromatin state<br>biosample_term_name: mid-frontal lobe<br>coordinates: chr10:114752400-114760200<br>genome: hg19<br>state: 6_Weak_transcription<br>value: 0,100,0<br>",
          "accession: TSTSR362251<br>annotation_type: chromatin state<br>biosample_term_name: mucosa of rectum<br>coordinates: chr10:114755600-114762000<br>genome: hg19<br>state: 6_Weak_transcription<br>value: 0,100,0<br>",
          "accession: TSTSR802656<br>annotation_type: chromatin state<br>biosample_term_name: rectal smooth muscle tissue<br>coordinates: chr10:114755600-114759800<br>genome: hg19<br>state: 6_Weak_transcription<br>value: 0,100,0<br>",
          "accession: TSTSR558538<br>annotation_type: chromatin state<br>biosample_term_name: skeletal muscle myoblast<br>coordinates: chr10:114757200-114766200<br>genome: hg19<br>state: 6_Weak_transcription<br>value: 0,100,0<br>",
          "accession: TSTSR344424<br>annotation_type: chromatin state<br>biosample_term_name: skeletal muscle tissue<br>coordinates: chr10:114749600-114759800<br>genome: hg19<br>state: 6_Weak_transcription<br>value: 0,100,0<br>",
          "accession: TSTSR828132<br>annotation_type: chromatin state<br>biosample_term_name: substantia nigra<br>coordinates: chr10:114752400-114760400<br>genome: hg19<br>state: 6_Weak_transcription<br>value: 0,100,0<br>",
          "",
          "accession: TSTSR344424<br>annotation_type: footprint<br>biosample_term_name: CD34-PB<br>coordinates: chr10:114749600-114759800<br>genome: hg19<br>footprint: TCF3<br>value: 0,100,0<br>",
          "accession: TSTSR027410<br>annotation_type: footprint<br>biosample_term_name: CD34-PB<br>coordinates: chr10:114757800-114760000<br>genome: hg19<br>footprint: STAT<br>value: 0,100,0<br>",
          "accession: TSTSR295022<br>annotation_type: footprint<br>biosample_term_name: CD34-PB<br>coordinates: chr10:114749600-114787200<br>genome: hg19<br>footprint: HNF4<br>value: 0,100,0<br>",
          "accession: TSTSR344424<br>annotation_type: footprint<br>biosample_term_name: HepG2<br>coordinates: chr10:114749600-114759800<br>genome: hg19<br>footprint: TCF3<br>value: 0,100,0<br>",
          "accession: TSTSR027410<br>annotation_type: footprint<br>biosample_term_name: HepG2<br>coordinates: chr10:114757800-114760000<br>genome: hg19<br>footprint: STAT<br>value: 0,100,0<br>",
          "accession: TSTSR295022<br>annotation_type: footprint<br>biosample_term_name: HepG2<br>coordinates: chr10:114749600-114787200<br>genome: hg19<br>footprint: HNF4<br>value: 0,100,0<br>",
          "accession: TSTSR344424<br>annotation_type: footprint<br>biosample_term_name: adipocyte<br>coordinates: chr10:114749600-114759800<br>genome: hg19<br>footprint: PPARA<br>value: 0,100,0<br>",
          "accession: TSTSR344424<br>annotation_type: footprint<br>biosample_term_name: adipocyte<br>coordinates: chr10:114749600-114759800<br>genome: hg19<br>footprint: TCF3<br>value: 0,100,0<br>",
          "accession: TSTSR027410<br>annotation_type: footprint<br>biosample_term_name: islet of Langerhans<br>coordinates: chr10:114757800-114760000<br>genome: hg19<br>footprint: STAT<br>value: 0,100,0<br>",
          "accession: TSTSR295022<br>annotation_type: footprint<br>biosample_term_name: islet of Langerhans<br>coordinates: chr10:114749600-114787200<br>genome: hg19<br>footprint: HNF4<br>value: 0,100,0<br>",
          "accession: TSTSR679993<br>annotation_type: footprint<br>biosample_term_name: islet of Langerhans<br>coordinates: chr10:114757200-114761000<br>genome: hg19<br>footprint: PPARA<br>value: 255,195,77<br>",
          "accession: TSTSR344424<br>annotation_type: footprint<br>biosample_term_name: keratinocyte<br>coordinates: chr10:114749600-114759800<br>genome: hg19<br>footprint: STAT<br>value: 0,100,0<br>",
          "accession: TSTSR344424<br>annotation_type: footprint<br>biosample_term_name: keratinocyte<br>coordinates: chr10:114749600-114759800<br>genome: hg19<br>footprint: PPARA<br>value: 0,100,0<br>",
          "accession: TSTSR344424<br>annotation_type: footprint<br>biosample_term_name: keratinocyte<br>coordinates: chr10:114749600-114759800<br>genome: hg19<br>footprint: TCF3<br>value: 0,100,0<br>",
          "accession: TSTSR027410<br>annotation_type: footprint<br>biosample_term_name: liver<br>coordinates: chr10:114757800-114760000<br>genome: hg19<br>footprint: STAT<br>value: 0,100,0<br>",
          "accession: TSTSR344424<br>annotation_type: footprint<br>biosample_term_name: mid-frontal lobe<br>coordinates: chr10:114749600-114759800<br>genome: hg19<br>footprint: PPARA<br>value: 0,100,0<br>",
          "accession: TSTSR344424<br>annotation_type: footprint<br>biosample_term_name: mid-frontal lobe<br>coordinates: chr10:114749600-114759800<br>genome: hg19<br>footprint: TCF3<br>value: 0,100,0<br>",
          "accession: TSTSR027410<br>annotation_type: footprint<br>biosample_term_name: mid-frontal lobe<br>coordinates: chr10:114757800-114760000<br>genome: hg19<br>footprint: STAT<br>value: 0,100,0<br>",
          "accession: TSTSR344424<br>annotation_type: footprint<br>biosample_term_name: skeletal muscle tissue<br>coordinates: chr10:114749600-114759800<br>genome: hg19<br>footprint: HNF4<br>value: 0,100,0<br>",
          "accession: TSTSR344424<br>annotation_type: footprint<br>biosample_term_name: skeletal muscle tissue<br>coordinates: chr10:114749600-114759800<br>genome: hg19<br>footprint: STAT<br>value: 0,100,0<br>",
          "accession: TSTSR344424<br>annotation_type: footprint<br>biosample_term_name: skeletal muscle tissue<br>coordinates: chr10:114749600-114759800<br>genome: hg19<br>footprint: PPARA<br>value: 0,100,0<br>",
          "accession: TSTSR344424<br>annotation_type: footprint<br>biosample_term_name: skeletal muscle tissue<br>coordinates: chr10:114749600-114759800<br>genome: hg19<br>footprint: TCF3<br>value: 0,100,0<br>"
         ],
         "marker": {
          "color": [],
          "line": {
           "width": 10
          },
          "opacity": 0,
          "size": 10
         },
         "mode": "markers+text",
         "text": [
          "test",
          "chromatin state",
          "CD34-PB:<br>6_Weak_transcription",
          "ESC derived cell line:<br>6_Weak_transcription",
          "GM12878:<br>17_Weak_repressed_polycomb",
          "HepG2:<br>5_Strong_transcription",
          "adipocyte:<br>6_Weak_transcription",
          "11_Weak_enhancer",
          "duodenum mucosa:<br>6_Weak_transcription",
          "endothelial cell of umbilical vein:<br>6_Weak_transcription",
          "islet of Langerhans:<br>10_Active_enhancer_2",
          "keratinocyte:<br>6_Weak_transcription",
          "layer of hippocampus:<br>6_Weak_transcription",
          "liver:<br>6_Weak_transcription",
          "mid-frontal lobe:<br>6_Weak_transcription",
          "mucosa of rectum:<br>6_Weak_transcription",
          "rectal smooth muscle tissue:<br>6_Weak_transcription",
          "skeletal muscle myoblast:<br>6_Weak_transcription",
          "skeletal muscle tissue:<br>6_Weak_transcription",
          "substantia nigra:<br>6_Weak_transcription",
          "footprint",
          "CD34-PB:<br>TCF3",
          "STAT",
          "HNF4",
          "HepG2:<br>TCF3",
          "STAT",
          "HNF4",
          "adipocyte:<br>PPARA",
          "TCF3",
          "islet of Langerhans:<br>STAT",
          "HNF4",
          "PPARA",
          "keratinocyte:<br>STAT",
          "PPARA",
          "TCF3",
          "liver:<br>STAT",
          "mid-frontal lobe:<br>PPARA",
          "TCF3",
          "STAT",
          "skeletal muscle tissue:<br>HNF4",
          "STAT",
          "PPARA",
          "TCF3"
         ],
         "textfont": {
          "color": "black",
          "family": "Arail",
          "size": 18
         },
         "type": "scatter",
         "x": [
          50,
          4,
          4,
          4,
          4,
          4,
          4,
          4,
          4,
          4,
          4,
          4,
          4,
          4,
          4,
          4,
          4,
          4,
          4,
          4,
          96,
          96,
          96,
          96,
          96,
          96,
          96,
          96,
          96,
          96,
          96,
          96,
          96,
          96,
          96,
          96,
          96,
          96,
          96,
          96,
          96,
          96,
          96,
          -21,
          121
         ],
         "y": [
          100,
          92,
          88,
          84,
          80,
          76,
          72,
          68,
          64,
          60,
          56,
          52,
          48,
          44,
          40,
          36,
          32,
          28,
          24,
          20,
          92,
          88,
          84,
          80,
          76,
          72,
          68,
          64,
          60,
          56,
          52,
          48,
          44,
          40,
          36,
          32,
          28,
          24,
          20,
          16,
          12,
          8,
          4,
          4,
          100
         ]
        },
        {
         "hoverinfo": "none",
         "line": {
          "color": "#888",
          "width": 2
         },
         "mode": "lines",
         "type": "scatter",
         "x": [
          50,
          4,
          null,
          50,
          96,
          null
         ],
         "y": [
          98,
          94,
          null,
          98,
          94,
          null
         ]
        }
       ],
       "layout": {
        "height": 1081.8648586754107,
        "hoverlabel": {
         "bgcolor": "white",
         "bordercolor": "black",
         "font": {
          "family": "helvetica"
         }
        },
        "hovermode": "closest",
        "shapes": [
         {
          "fillcolor": "#A9A9A9",
          "line": {
           "color": "#888",
           "width": 2
          },
          "opacity": 0.275,
          "type": "rect",
          "x0": 29.5,
          "x1": 70.5,
          "xref": "x",
          "y0": 98,
          "y1": 102,
          "yref": "y"
         },
         {
          "fillcolor": "#808080",
          "line": {
           "color": "#888",
           "width": 2
          },
          "opacity": 0.275,
          "type": "rect",
          "x0": -16.5,
          "x1": 24.5,
          "xref": "x",
          "y0": 90,
          "y1": 94,
          "yref": "y"
         },
         {
          "fillcolor": "#D3D3D3",
          "line": {
           "color": "#888",
           "width": 2
          },
          "opacity": 0.275,
          "type": "rect",
          "x0": -16.5,
          "x1": 24.5,
          "xref": "x",
          "y0": 86,
          "y1": 90,
          "yref": "y"
         },
         {
          "fillcolor": "#A9A9A9",
          "line": {
           "color": "#888",
           "width": 2
          },
          "opacity": 0.275,
          "type": "rect",
          "x0": -16.5,
          "x1": 24.5,
          "xref": "x",
          "y0": 82,
          "y1": 86,
          "yref": "y"
         },
         {
          "fillcolor": "#D3D3D3",
          "line": {
           "color": "#888",
           "width": 2
          },
          "opacity": 0.275,
          "type": "rect",
          "x0": -16.5,
          "x1": 24.5,
          "xref": "x",
          "y0": 78,
          "y1": 82,
          "yref": "y"
         },
         {
          "fillcolor": "#A9A9A9",
          "line": {
           "color": "#888",
           "width": 2
          },
          "opacity": 0.275,
          "type": "rect",
          "x0": -16.5,
          "x1": 24.5,
          "xref": "x",
          "y0": 74,
          "y1": 78,
          "yref": "y"
         },
         {
          "fillcolor": "#D3D3D3",
          "line": {
           "color": "#888",
           "width": 2
          },
          "opacity": 0.275,
          "type": "rect",
          "x0": -16.5,
          "x1": 24.5,
          "xref": "x",
          "y0": 66,
          "y1": 74,
          "yref": "y"
         },
         {
          "fillcolor": "#A9A9A9",
          "line": {
           "color": "#888",
           "width": 2
          },
          "opacity": 0.275,
          "type": "rect",
          "x0": -16.5,
          "x1": 24.5,
          "xref": "x",
          "y0": 62,
          "y1": 66,
          "yref": "y"
         },
         {
          "fillcolor": "#D3D3D3",
          "line": {
           "color": "#888",
           "width": 2
          },
          "opacity": 0.275,
          "type": "rect",
          "x0": -16.5,
          "x1": 24.5,
          "xref": "x",
          "y0": 58,
          "y1": 62,
          "yref": "y"
         },
         {
          "fillcolor": "#A9A9A9",
          "line": {
           "color": "#888",
           "width": 2
          },
          "opacity": 0.275,
          "type": "rect",
          "x0": -16.5,
          "x1": 24.5,
          "xref": "x",
          "y0": 54,
          "y1": 58,
          "yref": "y"
         },
         {
          "fillcolor": "#D3D3D3",
          "line": {
           "color": "#888",
           "width": 2
          },
          "opacity": 0.275,
          "type": "rect",
          "x0": -16.5,
          "x1": 24.5,
          "xref": "x",
          "y0": 50,
          "y1": 54,
          "yref": "y"
         },
         {
          "fillcolor": "#A9A9A9",
          "line": {
           "color": "#888",
           "width": 2
          },
          "opacity": 0.275,
          "type": "rect",
          "x0": -16.5,
          "x1": 24.5,
          "xref": "x",
          "y0": 46,
          "y1": 50,
          "yref": "y"
         },
         {
          "fillcolor": "#D3D3D3",
          "line": {
           "color": "#888",
           "width": 2
          },
          "opacity": 0.275,
          "type": "rect",
          "x0": -16.5,
          "x1": 24.5,
          "xref": "x",
          "y0": 42,
          "y1": 46,
          "yref": "y"
         },
         {
          "fillcolor": "#A9A9A9",
          "line": {
           "color": "#888",
           "width": 2
          },
          "opacity": 0.275,
          "type": "rect",
          "x0": -16.5,
          "x1": 24.5,
          "xref": "x",
          "y0": 38,
          "y1": 42,
          "yref": "y"
         },
         {
          "fillcolor": "#D3D3D3",
          "line": {
           "color": "#888",
           "width": 2
          },
          "opacity": 0.275,
          "type": "rect",
          "x0": -16.5,
          "x1": 24.5,
          "xref": "x",
          "y0": 34,
          "y1": 38,
          "yref": "y"
         },
         {
          "fillcolor": "#A9A9A9",
          "line": {
           "color": "#888",
           "width": 2
          },
          "opacity": 0.275,
          "type": "rect",
          "x0": -16.5,
          "x1": 24.5,
          "xref": "x",
          "y0": 30,
          "y1": 34,
          "yref": "y"
         },
         {
          "fillcolor": "#D3D3D3",
          "line": {
           "color": "#888",
           "width": 2
          },
          "opacity": 0.275,
          "type": "rect",
          "x0": -16.5,
          "x1": 24.5,
          "xref": "x",
          "y0": 26,
          "y1": 30,
          "yref": "y"
         },
         {
          "fillcolor": "#A9A9A9",
          "line": {
           "color": "#888",
           "width": 2
          },
          "opacity": 0.275,
          "type": "rect",
          "x0": -16.5,
          "x1": 24.5,
          "xref": "x",
          "y0": 22,
          "y1": 26,
          "yref": "y"
         },
         {
          "fillcolor": "#D3D3D3",
          "line": {
           "color": "#888",
           "width": 2
          },
          "opacity": 0.275,
          "type": "rect",
          "x0": -16.5,
          "x1": 24.5,
          "xref": "x",
          "y0": 18,
          "y1": 22,
          "yref": "y"
         },
         {
          "fillcolor": "#808080",
          "line": {
           "color": "#888",
           "width": 2
          },
          "opacity": 0.275,
          "type": "rect",
          "x0": 75.5,
          "x1": 116.5,
          "xref": "x",
          "y0": 90,
          "y1": 94,
          "yref": "y"
         },
         {
          "fillcolor": "#A9A9A9",
          "line": {
           "color": "#888",
           "width": 2
          },
          "opacity": 0.275,
          "type": "rect",
          "x0": 75.5,
          "x1": 116.5,
          "xref": "x",
          "y0": 78,
          "y1": 90,
          "yref": "y"
         },
         {
          "fillcolor": "#D3D3D3",
          "line": {
           "color": "#888",
           "width": 2
          },
          "opacity": 0.275,
          "type": "rect",
          "x0": 75.5,
          "x1": 116.5,
          "xref": "x",
          "y0": 66,
          "y1": 78,
          "yref": "y"
         },
         {
          "fillcolor": "#A9A9A9",
          "line": {
           "color": "#888",
           "width": 2
          },
          "opacity": 0.275,
          "type": "rect",
          "x0": 75.5,
          "x1": 116.5,
          "xref": "x",
          "y0": 58,
          "y1": 66,
          "yref": "y"
         },
         {
          "fillcolor": "#D3D3D3",
          "line": {
           "color": "#888",
           "width": 2
          },
          "opacity": 0.275,
          "type": "rect",
          "x0": 75.5,
          "x1": 116.5,
          "xref": "x",
          "y0": 46,
          "y1": 58,
          "yref": "y"
         },
         {
          "fillcolor": "#A9A9A9",
          "line": {
           "color": "#888",
           "width": 2
          },
          "opacity": 0.275,
          "type": "rect",
          "x0": 75.5,
          "x1": 116.5,
          "xref": "x",
          "y0": 34,
          "y1": 46,
          "yref": "y"
         },
         {
          "fillcolor": "#D3D3D3",
          "line": {
           "color": "#888",
           "width": 2
          },
          "opacity": 0.275,
          "type": "rect",
          "x0": 75.5,
          "x1": 116.5,
          "xref": "x",
          "y0": 30,
          "y1": 34,
          "yref": "y"
         },
         {
          "fillcolor": "#A9A9A9",
          "line": {
           "color": "#888",
           "width": 2
          },
          "opacity": 0.275,
          "type": "rect",
          "x0": 75.5,
          "x1": 116.5,
          "xref": "x",
          "y0": 18,
          "y1": 30,
          "yref": "y"
         },
         {
          "fillcolor": "#D3D3D3",
          "line": {
           "color": "#888",
           "width": 2
          },
          "opacity": 0.275,
          "type": "rect",
          "x0": 75.5,
          "x1": 116.5,
          "xref": "x",
          "y0": 2,
          "y1": 18,
          "yref": "y"
         }
        ],
        "showlegend": false,
        "width": 623.8324625039508,
        "xaxis": {
         "showgrid": false,
         "showline": false,
         "showticklabels": false,
         "ticks": "",
         "zeroline": false
        },
        "yaxis": {
         "showgrid": false,
         "showline": false,
         "showticklabels": false,
         "ticks": "",
         "zeroline": false
        }
       }
      },
      "text/html": [
       "<div id=\"08c1d2ce-cac4-431f-a3b8-b7395dcf32e6\" style=\"height: 1081.8648586754107px; width: 623.8324625039508px;\" class=\"plotly-graph-div\"></div><script type=\"text/javascript\">require([\"plotly\"], function(Plotly) { window.PLOTLYENV=window.PLOTLYENV || {};window.PLOTLYENV.BASE_URL=\"https://plot.ly\";Plotly.newPlot(\"08c1d2ce-cac4-431f-a3b8-b7395dcf32e6\", [{\"type\": \"scatter\", \"x\": [50.0, 4.0, 4.0, 4.0, 4.0, 4.0, 4.0, 4.0, 4.0, 4.0, 4.0, 4.0, 4.0, 4.0, 4.0, 4.0, 4.0, 4.0, 4.0, 4.0, 96.0, 96.0, 96.0, 96.0, 96.0, 96.0, 96.0, 96.0, 96.0, 96.0, 96.0, 96.0, 96.0, 96.0, 96.0, 96.0, 96.0, 96.0, 96.0, 96.0, 96.0, 96.0, 96.0, -21.0, 121.0], \"y\": [100, 92, 88, 84, 80, 76, 72, 68, 64, 60, 56, 52, 48, 44, 40, 36, 32, 28, 24, 20, 92, 88, 84, 80, 76, 72, 68, 64, 60, 56, 52, 48, 44, 40, 36, 32, 28, 24, 20, 16, 12, 8, 4, 4, 100], \"text\": [\"test\", \"chromatin state\", \"CD34-PB:<br>6_Weak_transcription\", \"ESC derived cell line:<br>6_Weak_transcription\", \"GM12878:<br>17_Weak_repressed_polycomb\", \"HepG2:<br>5_Strong_transcription\", \"adipocyte:<br>6_Weak_transcription\", \"11_Weak_enhancer\", \"duodenum mucosa:<br>6_Weak_transcription\", \"endothelial cell of umbilical vein:<br>6_Weak_transcription\", \"islet of Langerhans:<br>10_Active_enhancer_2\", \"keratinocyte:<br>6_Weak_transcription\", \"layer of hippocampus:<br>6_Weak_transcription\", \"liver:<br>6_Weak_transcription\", \"mid-frontal lobe:<br>6_Weak_transcription\", \"mucosa of rectum:<br>6_Weak_transcription\", \"rectal smooth muscle tissue:<br>6_Weak_transcription\", \"skeletal muscle myoblast:<br>6_Weak_transcription\", \"skeletal muscle tissue:<br>6_Weak_transcription\", \"substantia nigra:<br>6_Weak_transcription\", \"footprint\", \"CD34-PB:<br>TCF3\", \"STAT\", \"HNF4\", \"HepG2:<br>TCF3\", \"STAT\", \"HNF4\", \"adipocyte:<br>PPARA\", \"TCF3\", \"islet of Langerhans:<br>STAT\", \"HNF4\", \"PPARA\", \"keratinocyte:<br>STAT\", \"PPARA\", \"TCF3\", \"liver:<br>STAT\", \"mid-frontal lobe:<br>PPARA\", \"TCF3\", \"STAT\", \"skeletal muscle tissue:<br>HNF4\", \"STAT\", \"PPARA\", \"TCF3\"], \"hovertext\": [\"\", \"\", \"accession: TSTSR295022<br>annotation_type: chromatin state<br>biosample_term_name: CD34-PB<br>coordinates: chr10:114749600-114787200<br>genome: hg19<br>state: 6_Weak_transcription<br>value: 0,100,0<br>\", \"accession: TSTSR360658<br>annotation_type: chromatin state<br>biosample_term_name: ESC derived cell line<br>coordinates: chr10:114756600-114758400<br>genome: hg19<br>state: 6_Weak_transcription<br>value: 0,100,0<br>\", \"accession: TSTSR588101<br>annotation_type: chromatin state<br>biosample_term_name: GM12878<br>coordinates: chr10:114746800-114853200<br>genome: hg19<br>state: 17_Weak_repressed_polycomb<br>value: 192,192,192<br>\", \"accession: TSTSR035696<br>annotation_type: chromatin state<br>biosample_term_name: HepG2<br>coordinates: chr10:114752000-114762200<br>genome: hg19<br>state: 5_Strong_transcription<br>value: 0,128,0<br>\", \"accession: TSTSR863340<br>annotation_type: chromatin state<br>biosample_term_name: adipocyte<br>coordinates: chr10:114747600-114766600<br>genome: hg19<br>state: 6_Weak_transcription<br>value: 0,100,0<br>\", \"accession: TSTSR104634<br>annotation_type: chromatin state<br>biosample_term_name: adipocyte<br>coordinates: chr10:114757800-114758600<br>genome: hg19<br>state: 11_Weak_enhancer<br>value: 255,255,0<br>\", \"accession: TSTSR459407<br>annotation_type: chromatin state<br>biosample_term_name: duodenum mucosa<br>coordinates: chr10:114752600-114761600<br>genome: hg19<br>state: 6_Weak_transcription<br>value: 0,100,0<br>\", \"accession: TSTSR000759<br>annotation_type: chromatin state<br>biosample_term_name: endothelial cell of umbilical vein<br>coordinates: chr10:114745400-114780200<br>genome: hg19<br>state: 6_Weak_transcription<br>value: 0,100,0<br>\", \"accession: TSTSR679993<br>annotation_type: chromatin state<br>biosample_term_name: islet of Langerhans<br>coordinates: chr10:114757200-114761000<br>genome: hg19<br>state: 10_Active_enhancer_2<br>value: 255,195,77<br>\", \"accession: TSTSR926942<br>annotation_type: chromatin state<br>biosample_term_name: keratinocyte<br>coordinates: chr10:114753400-114760200<br>genome: hg19<br>state: 6_Weak_transcription<br>value: 0,100,0<br>\", \"accession: TSTSR013323<br>annotation_type: chromatin state<br>biosample_term_name: layer of hippocampus<br>coordinates: chr10:114752600-114760000<br>genome: hg19<br>state: 6_Weak_transcription<br>value: 0,100,0<br>\", \"accession: TSTSR027410<br>annotation_type: chromatin state<br>biosample_term_name: liver<br>coordinates: chr10:114757800-114760000<br>genome: hg19<br>state: 6_Weak_transcription<br>value: 0,100,0<br>\", \"accession: TSTSR632525<br>annotation_type: chromatin state<br>biosample_term_name: mid-frontal lobe<br>coordinates: chr10:114752400-114760200<br>genome: hg19<br>state: 6_Weak_transcription<br>value: 0,100,0<br>\", \"accession: TSTSR362251<br>annotation_type: chromatin state<br>biosample_term_name: mucosa of rectum<br>coordinates: chr10:114755600-114762000<br>genome: hg19<br>state: 6_Weak_transcription<br>value: 0,100,0<br>\", \"accession: TSTSR802656<br>annotation_type: chromatin state<br>biosample_term_name: rectal smooth muscle tissue<br>coordinates: chr10:114755600-114759800<br>genome: hg19<br>state: 6_Weak_transcription<br>value: 0,100,0<br>\", \"accession: TSTSR558538<br>annotation_type: chromatin state<br>biosample_term_name: skeletal muscle myoblast<br>coordinates: chr10:114757200-114766200<br>genome: hg19<br>state: 6_Weak_transcription<br>value: 0,100,0<br>\", \"accession: TSTSR344424<br>annotation_type: chromatin state<br>biosample_term_name: skeletal muscle tissue<br>coordinates: chr10:114749600-114759800<br>genome: hg19<br>state: 6_Weak_transcription<br>value: 0,100,0<br>\", \"accession: TSTSR828132<br>annotation_type: chromatin state<br>biosample_term_name: substantia nigra<br>coordinates: chr10:114752400-114760400<br>genome: hg19<br>state: 6_Weak_transcription<br>value: 0,100,0<br>\", \"\", \"accession: TSTSR344424<br>annotation_type: footprint<br>biosample_term_name: CD34-PB<br>coordinates: chr10:114749600-114759800<br>genome: hg19<br>footprint: TCF3<br>value: 0,100,0<br>\", \"accession: TSTSR027410<br>annotation_type: footprint<br>biosample_term_name: CD34-PB<br>coordinates: chr10:114757800-114760000<br>genome: hg19<br>footprint: STAT<br>value: 0,100,0<br>\", \"accession: TSTSR295022<br>annotation_type: footprint<br>biosample_term_name: CD34-PB<br>coordinates: chr10:114749600-114787200<br>genome: hg19<br>footprint: HNF4<br>value: 0,100,0<br>\", \"accession: TSTSR344424<br>annotation_type: footprint<br>biosample_term_name: HepG2<br>coordinates: chr10:114749600-114759800<br>genome: hg19<br>footprint: TCF3<br>value: 0,100,0<br>\", \"accession: TSTSR027410<br>annotation_type: footprint<br>biosample_term_name: HepG2<br>coordinates: chr10:114757800-114760000<br>genome: hg19<br>footprint: STAT<br>value: 0,100,0<br>\", \"accession: TSTSR295022<br>annotation_type: footprint<br>biosample_term_name: HepG2<br>coordinates: chr10:114749600-114787200<br>genome: hg19<br>footprint: HNF4<br>value: 0,100,0<br>\", \"accession: TSTSR344424<br>annotation_type: footprint<br>biosample_term_name: adipocyte<br>coordinates: chr10:114749600-114759800<br>genome: hg19<br>footprint: PPARA<br>value: 0,100,0<br>\", \"accession: TSTSR344424<br>annotation_type: footprint<br>biosample_term_name: adipocyte<br>coordinates: chr10:114749600-114759800<br>genome: hg19<br>footprint: TCF3<br>value: 0,100,0<br>\", \"accession: TSTSR027410<br>annotation_type: footprint<br>biosample_term_name: islet of Langerhans<br>coordinates: chr10:114757800-114760000<br>genome: hg19<br>footprint: STAT<br>value: 0,100,0<br>\", \"accession: TSTSR295022<br>annotation_type: footprint<br>biosample_term_name: islet of Langerhans<br>coordinates: chr10:114749600-114787200<br>genome: hg19<br>footprint: HNF4<br>value: 0,100,0<br>\", \"accession: TSTSR679993<br>annotation_type: footprint<br>biosample_term_name: islet of Langerhans<br>coordinates: chr10:114757200-114761000<br>genome: hg19<br>footprint: PPARA<br>value: 255,195,77<br>\", \"accession: TSTSR344424<br>annotation_type: footprint<br>biosample_term_name: keratinocyte<br>coordinates: chr10:114749600-114759800<br>genome: hg19<br>footprint: STAT<br>value: 0,100,0<br>\", \"accession: TSTSR344424<br>annotation_type: footprint<br>biosample_term_name: keratinocyte<br>coordinates: chr10:114749600-114759800<br>genome: hg19<br>footprint: PPARA<br>value: 0,100,0<br>\", \"accession: TSTSR344424<br>annotation_type: footprint<br>biosample_term_name: keratinocyte<br>coordinates: chr10:114749600-114759800<br>genome: hg19<br>footprint: TCF3<br>value: 0,100,0<br>\", \"accession: TSTSR027410<br>annotation_type: footprint<br>biosample_term_name: liver<br>coordinates: chr10:114757800-114760000<br>genome: hg19<br>footprint: STAT<br>value: 0,100,0<br>\", \"accession: TSTSR344424<br>annotation_type: footprint<br>biosample_term_name: mid-frontal lobe<br>coordinates: chr10:114749600-114759800<br>genome: hg19<br>footprint: PPARA<br>value: 0,100,0<br>\", \"accession: TSTSR344424<br>annotation_type: footprint<br>biosample_term_name: mid-frontal lobe<br>coordinates: chr10:114749600-114759800<br>genome: hg19<br>footprint: TCF3<br>value: 0,100,0<br>\", \"accession: TSTSR027410<br>annotation_type: footprint<br>biosample_term_name: mid-frontal lobe<br>coordinates: chr10:114757800-114760000<br>genome: hg19<br>footprint: STAT<br>value: 0,100,0<br>\", \"accession: TSTSR344424<br>annotation_type: footprint<br>biosample_term_name: skeletal muscle tissue<br>coordinates: chr10:114749600-114759800<br>genome: hg19<br>footprint: HNF4<br>value: 0,100,0<br>\", \"accession: TSTSR344424<br>annotation_type: footprint<br>biosample_term_name: skeletal muscle tissue<br>coordinates: chr10:114749600-114759800<br>genome: hg19<br>footprint: STAT<br>value: 0,100,0<br>\", \"accession: TSTSR344424<br>annotation_type: footprint<br>biosample_term_name: skeletal muscle tissue<br>coordinates: chr10:114749600-114759800<br>genome: hg19<br>footprint: PPARA<br>value: 0,100,0<br>\", \"accession: TSTSR344424<br>annotation_type: footprint<br>biosample_term_name: skeletal muscle tissue<br>coordinates: chr10:114749600-114759800<br>genome: hg19<br>footprint: TCF3<br>value: 0,100,0<br>\"], \"mode\": \"markers+text\", \"hoverinfo\": \"closest\", \"marker\": {\"color\": [], \"size\": 10, \"line\": {\"width\": 10}, \"opacity\": 0.0}, \"textfont\": {\"color\": \"black\", \"size\": 18, \"family\": \"Arail\"}}, {\"type\": \"scatter\", \"x\": [50.0, 4.0, null, 50.0, 96.0, null], \"y\": [98.0, 94.0, null, 98.0, 94.0, null], \"line\": {\"width\": 2, \"color\": \"#888\"}, \"hoverinfo\": \"none\", \"mode\": \"lines\"}], {\"width\": 623.8324625039508, \"height\": 1081.8648586754107, \"xaxis\": {\"showgrid\": false, \"zeroline\": false, \"showline\": false, \"ticks\": \"\", \"showticklabels\": false}, \"yaxis\": {\"showgrid\": false, \"zeroline\": false, \"showline\": false, \"ticks\": \"\", \"showticklabels\": false}, \"showlegend\": false, \"hovermode\": \"closest\", \"hoverlabel\": {\"bgcolor\": \"white\", \"bordercolor\": \"black\", \"font\": {\"family\": \"helvetica\"}}, \"shapes\": [{\"type\": \"rect\", \"xref\": \"x\", \"yref\": \"y\", \"x0\": 29.5, \"y0\": 98.0, \"x1\": 70.5, \"y1\": 102.0, \"line\": {\"color\": \"#888\", \"width\": 2}, \"fillcolor\": \"#A9A9A9\", \"opacity\": 0.275}, {\"type\": \"rect\", \"xref\": \"x\", \"yref\": \"y\", \"x0\": -16.5, \"y0\": 90.0, \"x1\": 24.5, \"y1\": 94.0, \"line\": {\"color\": \"#888\", \"width\": 2}, \"fillcolor\": \"#808080\", \"opacity\": 0.275}, {\"type\": \"rect\", \"xref\": \"x\", \"yref\": \"y\", \"x0\": -16.5, \"y0\": 86.0, \"x1\": 24.5, \"y1\": 90.0, \"line\": {\"color\": \"#888\", \"width\": 2}, \"fillcolor\": \"#D3D3D3\", \"opacity\": 0.275}, {\"type\": \"rect\", \"xref\": \"x\", \"yref\": \"y\", \"x0\": -16.5, \"y0\": 82.0, \"x1\": 24.5, \"y1\": 86.0, \"line\": {\"color\": \"#888\", \"width\": 2}, \"fillcolor\": \"#A9A9A9\", \"opacity\": 0.275}, {\"type\": \"rect\", \"xref\": \"x\", \"yref\": \"y\", \"x0\": -16.5, \"y0\": 78.0, \"x1\": 24.5, \"y1\": 82.0, \"line\": {\"color\": \"#888\", \"width\": 2}, \"fillcolor\": \"#D3D3D3\", \"opacity\": 0.275}, {\"type\": \"rect\", \"xref\": \"x\", \"yref\": \"y\", \"x0\": -16.5, \"y0\": 74.0, \"x1\": 24.5, \"y1\": 78.0, \"line\": {\"color\": \"#888\", \"width\": 2}, \"fillcolor\": \"#A9A9A9\", \"opacity\": 0.275}, {\"type\": \"rect\", \"xref\": \"x\", \"yref\": \"y\", \"x0\": -16.5, \"y0\": 66.0, \"x1\": 24.5, \"y1\": 74.0, \"line\": {\"color\": \"#888\", \"width\": 2}, \"fillcolor\": \"#D3D3D3\", \"opacity\": 0.275}, {\"type\": \"rect\", \"xref\": \"x\", \"yref\": \"y\", \"x0\": -16.5, \"y0\": 62.0, \"x1\": 24.5, \"y1\": 66.0, \"line\": {\"color\": \"#888\", \"width\": 2}, \"fillcolor\": \"#A9A9A9\", \"opacity\": 0.275}, {\"type\": \"rect\", \"xref\": \"x\", \"yref\": \"y\", \"x0\": -16.5, \"y0\": 58.0, \"x1\": 24.5, \"y1\": 62.0, \"line\": {\"color\": \"#888\", \"width\": 2}, \"fillcolor\": \"#D3D3D3\", \"opacity\": 0.275}, {\"type\": \"rect\", \"xref\": \"x\", \"yref\": \"y\", \"x0\": -16.5, \"y0\": 54.0, \"x1\": 24.5, \"y1\": 58.0, \"line\": {\"color\": \"#888\", \"width\": 2}, \"fillcolor\": \"#A9A9A9\", \"opacity\": 0.275}, {\"type\": \"rect\", \"xref\": \"x\", \"yref\": \"y\", \"x0\": -16.5, \"y0\": 50.0, \"x1\": 24.5, \"y1\": 54.0, \"line\": {\"color\": \"#888\", \"width\": 2}, \"fillcolor\": \"#D3D3D3\", \"opacity\": 0.275}, {\"type\": \"rect\", \"xref\": \"x\", \"yref\": \"y\", \"x0\": -16.5, \"y0\": 46.0, \"x1\": 24.5, \"y1\": 50.0, \"line\": {\"color\": \"#888\", \"width\": 2}, \"fillcolor\": \"#A9A9A9\", \"opacity\": 0.275}, {\"type\": \"rect\", \"xref\": \"x\", \"yref\": \"y\", \"x0\": -16.5, \"y0\": 42.0, \"x1\": 24.5, \"y1\": 46.0, \"line\": {\"color\": \"#888\", \"width\": 2}, \"fillcolor\": \"#D3D3D3\", \"opacity\": 0.275}, {\"type\": \"rect\", \"xref\": \"x\", \"yref\": \"y\", \"x0\": -16.5, \"y0\": 38.0, \"x1\": 24.5, \"y1\": 42.0, \"line\": {\"color\": \"#888\", \"width\": 2}, \"fillcolor\": \"#A9A9A9\", \"opacity\": 0.275}, {\"type\": \"rect\", \"xref\": \"x\", \"yref\": \"y\", \"x0\": -16.5, \"y0\": 34.0, \"x1\": 24.5, \"y1\": 38.0, \"line\": {\"color\": \"#888\", \"width\": 2}, \"fillcolor\": \"#D3D3D3\", \"opacity\": 0.275}, {\"type\": \"rect\", \"xref\": \"x\", \"yref\": \"y\", \"x0\": -16.5, \"y0\": 30.0, \"x1\": 24.5, \"y1\": 34.0, \"line\": {\"color\": \"#888\", \"width\": 2}, \"fillcolor\": \"#A9A9A9\", \"opacity\": 0.275}, {\"type\": \"rect\", \"xref\": \"x\", \"yref\": \"y\", \"x0\": -16.5, \"y0\": 26.0, \"x1\": 24.5, \"y1\": 30.0, \"line\": {\"color\": \"#888\", \"width\": 2}, \"fillcolor\": \"#D3D3D3\", \"opacity\": 0.275}, {\"type\": \"rect\", \"xref\": \"x\", \"yref\": \"y\", \"x0\": -16.5, \"y0\": 22.0, \"x1\": 24.5, \"y1\": 26.0, \"line\": {\"color\": \"#888\", \"width\": 2}, \"fillcolor\": \"#A9A9A9\", \"opacity\": 0.275}, {\"type\": \"rect\", \"xref\": \"x\", \"yref\": \"y\", \"x0\": -16.5, \"y0\": 18.0, \"x1\": 24.5, \"y1\": 22.0, \"line\": {\"color\": \"#888\", \"width\": 2}, \"fillcolor\": \"#D3D3D3\", \"opacity\": 0.275}, {\"type\": \"rect\", \"xref\": \"x\", \"yref\": \"y\", \"x0\": 75.5, \"y0\": 90.0, \"x1\": 116.5, \"y1\": 94.0, \"line\": {\"color\": \"#888\", \"width\": 2}, \"fillcolor\": \"#808080\", \"opacity\": 0.275}, {\"type\": \"rect\", \"xref\": \"x\", \"yref\": \"y\", \"x0\": 75.5, \"y0\": 78.0, \"x1\": 116.5, \"y1\": 90.0, \"line\": {\"color\": \"#888\", \"width\": 2}, \"fillcolor\": \"#A9A9A9\", \"opacity\": 0.275}, {\"type\": \"rect\", \"xref\": \"x\", \"yref\": \"y\", \"x0\": 75.5, \"y0\": 66.0, \"x1\": 116.5, \"y1\": 78.0, \"line\": {\"color\": \"#888\", \"width\": 2}, \"fillcolor\": \"#D3D3D3\", \"opacity\": 0.275}, {\"type\": \"rect\", \"xref\": \"x\", \"yref\": \"y\", \"x0\": 75.5, \"y0\": 58.0, \"x1\": 116.5, \"y1\": 66.0, \"line\": {\"color\": \"#888\", \"width\": 2}, \"fillcolor\": \"#A9A9A9\", \"opacity\": 0.275}, {\"type\": \"rect\", \"xref\": \"x\", \"yref\": \"y\", \"x0\": 75.5, \"y0\": 46.0, \"x1\": 116.5, \"y1\": 58.0, \"line\": {\"color\": \"#888\", \"width\": 2}, \"fillcolor\": \"#D3D3D3\", \"opacity\": 0.275}, {\"type\": \"rect\", \"xref\": \"x\", \"yref\": \"y\", \"x0\": 75.5, \"y0\": 34.0, \"x1\": 116.5, \"y1\": 46.0, \"line\": {\"color\": \"#888\", \"width\": 2}, \"fillcolor\": \"#A9A9A9\", \"opacity\": 0.275}, {\"type\": \"rect\", \"xref\": \"x\", \"yref\": \"y\", \"x0\": 75.5, \"y0\": 30.0, \"x1\": 116.5, \"y1\": 34.0, \"line\": {\"color\": \"#888\", \"width\": 2}, \"fillcolor\": \"#D3D3D3\", \"opacity\": 0.275}, {\"type\": \"rect\", \"xref\": \"x\", \"yref\": \"y\", \"x0\": 75.5, \"y0\": 18.0, \"x1\": 116.5, \"y1\": 30.0, \"line\": {\"color\": \"#888\", \"width\": 2}, \"fillcolor\": \"#A9A9A9\", \"opacity\": 0.275}, {\"type\": \"rect\", \"xref\": \"x\", \"yref\": \"y\", \"x0\": 75.5, \"y0\": 2.0, \"x1\": 116.5, \"y1\": 18.0, \"line\": {\"color\": \"#888\", \"width\": 2}, \"fillcolor\": \"#D3D3D3\", \"opacity\": 0.275}]}, {\"showLink\": true, \"linkText\": \"Export to plot.ly\"})});</script>"
      ],
      "text/vnd.plotly.v1+html": [
       "<div id=\"08c1d2ce-cac4-431f-a3b8-b7395dcf32e6\" style=\"height: 1081.8648586754107px; width: 623.8324625039508px;\" class=\"plotly-graph-div\"></div><script type=\"text/javascript\">require([\"plotly\"], function(Plotly) { window.PLOTLYENV=window.PLOTLYENV || {};window.PLOTLYENV.BASE_URL=\"https://plot.ly\";Plotly.newPlot(\"08c1d2ce-cac4-431f-a3b8-b7395dcf32e6\", [{\"type\": \"scatter\", \"x\": [50.0, 4.0, 4.0, 4.0, 4.0, 4.0, 4.0, 4.0, 4.0, 4.0, 4.0, 4.0, 4.0, 4.0, 4.0, 4.0, 4.0, 4.0, 4.0, 4.0, 96.0, 96.0, 96.0, 96.0, 96.0, 96.0, 96.0, 96.0, 96.0, 96.0, 96.0, 96.0, 96.0, 96.0, 96.0, 96.0, 96.0, 96.0, 96.0, 96.0, 96.0, 96.0, 96.0, -21.0, 121.0], \"y\": [100, 92, 88, 84, 80, 76, 72, 68, 64, 60, 56, 52, 48, 44, 40, 36, 32, 28, 24, 20, 92, 88, 84, 80, 76, 72, 68, 64, 60, 56, 52, 48, 44, 40, 36, 32, 28, 24, 20, 16, 12, 8, 4, 4, 100], \"text\": [\"test\", \"chromatin state\", \"CD34-PB:<br>6_Weak_transcription\", \"ESC derived cell line:<br>6_Weak_transcription\", \"GM12878:<br>17_Weak_repressed_polycomb\", \"HepG2:<br>5_Strong_transcription\", \"adipocyte:<br>6_Weak_transcription\", \"11_Weak_enhancer\", \"duodenum mucosa:<br>6_Weak_transcription\", \"endothelial cell of umbilical vein:<br>6_Weak_transcription\", \"islet of Langerhans:<br>10_Active_enhancer_2\", \"keratinocyte:<br>6_Weak_transcription\", \"layer of hippocampus:<br>6_Weak_transcription\", \"liver:<br>6_Weak_transcription\", \"mid-frontal lobe:<br>6_Weak_transcription\", \"mucosa of rectum:<br>6_Weak_transcription\", \"rectal smooth muscle tissue:<br>6_Weak_transcription\", \"skeletal muscle myoblast:<br>6_Weak_transcription\", \"skeletal muscle tissue:<br>6_Weak_transcription\", \"substantia nigra:<br>6_Weak_transcription\", \"footprint\", \"CD34-PB:<br>TCF3\", \"STAT\", \"HNF4\", \"HepG2:<br>TCF3\", \"STAT\", \"HNF4\", \"adipocyte:<br>PPARA\", \"TCF3\", \"islet of Langerhans:<br>STAT\", \"HNF4\", \"PPARA\", \"keratinocyte:<br>STAT\", \"PPARA\", \"TCF3\", \"liver:<br>STAT\", \"mid-frontal lobe:<br>PPARA\", \"TCF3\", \"STAT\", \"skeletal muscle tissue:<br>HNF4\", \"STAT\", \"PPARA\", \"TCF3\"], \"hovertext\": [\"\", \"\", \"accession: TSTSR295022<br>annotation_type: chromatin state<br>biosample_term_name: CD34-PB<br>coordinates: chr10:114749600-114787200<br>genome: hg19<br>state: 6_Weak_transcription<br>value: 0,100,0<br>\", \"accession: TSTSR360658<br>annotation_type: chromatin state<br>biosample_term_name: ESC derived cell line<br>coordinates: chr10:114756600-114758400<br>genome: hg19<br>state: 6_Weak_transcription<br>value: 0,100,0<br>\", \"accession: TSTSR588101<br>annotation_type: chromatin state<br>biosample_term_name: GM12878<br>coordinates: chr10:114746800-114853200<br>genome: hg19<br>state: 17_Weak_repressed_polycomb<br>value: 192,192,192<br>\", \"accession: TSTSR035696<br>annotation_type: chromatin state<br>biosample_term_name: HepG2<br>coordinates: chr10:114752000-114762200<br>genome: hg19<br>state: 5_Strong_transcription<br>value: 0,128,0<br>\", \"accession: TSTSR863340<br>annotation_type: chromatin state<br>biosample_term_name: adipocyte<br>coordinates: chr10:114747600-114766600<br>genome: hg19<br>state: 6_Weak_transcription<br>value: 0,100,0<br>\", \"accession: TSTSR104634<br>annotation_type: chromatin state<br>biosample_term_name: adipocyte<br>coordinates: chr10:114757800-114758600<br>genome: hg19<br>state: 11_Weak_enhancer<br>value: 255,255,0<br>\", \"accession: TSTSR459407<br>annotation_type: chromatin state<br>biosample_term_name: duodenum mucosa<br>coordinates: chr10:114752600-114761600<br>genome: hg19<br>state: 6_Weak_transcription<br>value: 0,100,0<br>\", \"accession: TSTSR000759<br>annotation_type: chromatin state<br>biosample_term_name: endothelial cell of umbilical vein<br>coordinates: chr10:114745400-114780200<br>genome: hg19<br>state: 6_Weak_transcription<br>value: 0,100,0<br>\", \"accession: TSTSR679993<br>annotation_type: chromatin state<br>biosample_term_name: islet of Langerhans<br>coordinates: chr10:114757200-114761000<br>genome: hg19<br>state: 10_Active_enhancer_2<br>value: 255,195,77<br>\", \"accession: TSTSR926942<br>annotation_type: chromatin state<br>biosample_term_name: keratinocyte<br>coordinates: chr10:114753400-114760200<br>genome: hg19<br>state: 6_Weak_transcription<br>value: 0,100,0<br>\", \"accession: TSTSR013323<br>annotation_type: chromatin state<br>biosample_term_name: layer of hippocampus<br>coordinates: chr10:114752600-114760000<br>genome: hg19<br>state: 6_Weak_transcription<br>value: 0,100,0<br>\", \"accession: TSTSR027410<br>annotation_type: chromatin state<br>biosample_term_name: liver<br>coordinates: chr10:114757800-114760000<br>genome: hg19<br>state: 6_Weak_transcription<br>value: 0,100,0<br>\", \"accession: TSTSR632525<br>annotation_type: chromatin state<br>biosample_term_name: mid-frontal lobe<br>coordinates: chr10:114752400-114760200<br>genome: hg19<br>state: 6_Weak_transcription<br>value: 0,100,0<br>\", \"accession: TSTSR362251<br>annotation_type: chromatin state<br>biosample_term_name: mucosa of rectum<br>coordinates: chr10:114755600-114762000<br>genome: hg19<br>state: 6_Weak_transcription<br>value: 0,100,0<br>\", \"accession: TSTSR802656<br>annotation_type: chromatin state<br>biosample_term_name: rectal smooth muscle tissue<br>coordinates: chr10:114755600-114759800<br>genome: hg19<br>state: 6_Weak_transcription<br>value: 0,100,0<br>\", \"accession: TSTSR558538<br>annotation_type: chromatin state<br>biosample_term_name: skeletal muscle myoblast<br>coordinates: chr10:114757200-114766200<br>genome: hg19<br>state: 6_Weak_transcription<br>value: 0,100,0<br>\", \"accession: TSTSR344424<br>annotation_type: chromatin state<br>biosample_term_name: skeletal muscle tissue<br>coordinates: chr10:114749600-114759800<br>genome: hg19<br>state: 6_Weak_transcription<br>value: 0,100,0<br>\", \"accession: TSTSR828132<br>annotation_type: chromatin state<br>biosample_term_name: substantia nigra<br>coordinates: chr10:114752400-114760400<br>genome: hg19<br>state: 6_Weak_transcription<br>value: 0,100,0<br>\", \"\", \"accession: TSTSR344424<br>annotation_type: footprint<br>biosample_term_name: CD34-PB<br>coordinates: chr10:114749600-114759800<br>genome: hg19<br>footprint: TCF3<br>value: 0,100,0<br>\", \"accession: TSTSR027410<br>annotation_type: footprint<br>biosample_term_name: CD34-PB<br>coordinates: chr10:114757800-114760000<br>genome: hg19<br>footprint: STAT<br>value: 0,100,0<br>\", \"accession: TSTSR295022<br>annotation_type: footprint<br>biosample_term_name: CD34-PB<br>coordinates: chr10:114749600-114787200<br>genome: hg19<br>footprint: HNF4<br>value: 0,100,0<br>\", \"accession: TSTSR344424<br>annotation_type: footprint<br>biosample_term_name: HepG2<br>coordinates: chr10:114749600-114759800<br>genome: hg19<br>footprint: TCF3<br>value: 0,100,0<br>\", \"accession: TSTSR027410<br>annotation_type: footprint<br>biosample_term_name: HepG2<br>coordinates: chr10:114757800-114760000<br>genome: hg19<br>footprint: STAT<br>value: 0,100,0<br>\", \"accession: TSTSR295022<br>annotation_type: footprint<br>biosample_term_name: HepG2<br>coordinates: chr10:114749600-114787200<br>genome: hg19<br>footprint: HNF4<br>value: 0,100,0<br>\", \"accession: TSTSR344424<br>annotation_type: footprint<br>biosample_term_name: adipocyte<br>coordinates: chr10:114749600-114759800<br>genome: hg19<br>footprint: PPARA<br>value: 0,100,0<br>\", \"accession: TSTSR344424<br>annotation_type: footprint<br>biosample_term_name: adipocyte<br>coordinates: chr10:114749600-114759800<br>genome: hg19<br>footprint: TCF3<br>value: 0,100,0<br>\", \"accession: TSTSR027410<br>annotation_type: footprint<br>biosample_term_name: islet of Langerhans<br>coordinates: chr10:114757800-114760000<br>genome: hg19<br>footprint: STAT<br>value: 0,100,0<br>\", \"accession: TSTSR295022<br>annotation_type: footprint<br>biosample_term_name: islet of Langerhans<br>coordinates: chr10:114749600-114787200<br>genome: hg19<br>footprint: HNF4<br>value: 0,100,0<br>\", \"accession: TSTSR679993<br>annotation_type: footprint<br>biosample_term_name: islet of Langerhans<br>coordinates: chr10:114757200-114761000<br>genome: hg19<br>footprint: PPARA<br>value: 255,195,77<br>\", \"accession: TSTSR344424<br>annotation_type: footprint<br>biosample_term_name: keratinocyte<br>coordinates: chr10:114749600-114759800<br>genome: hg19<br>footprint: STAT<br>value: 0,100,0<br>\", \"accession: TSTSR344424<br>annotation_type: footprint<br>biosample_term_name: keratinocyte<br>coordinates: chr10:114749600-114759800<br>genome: hg19<br>footprint: PPARA<br>value: 0,100,0<br>\", \"accession: TSTSR344424<br>annotation_type: footprint<br>biosample_term_name: keratinocyte<br>coordinates: chr10:114749600-114759800<br>genome: hg19<br>footprint: TCF3<br>value: 0,100,0<br>\", \"accession: TSTSR027410<br>annotation_type: footprint<br>biosample_term_name: liver<br>coordinates: chr10:114757800-114760000<br>genome: hg19<br>footprint: STAT<br>value: 0,100,0<br>\", \"accession: TSTSR344424<br>annotation_type: footprint<br>biosample_term_name: mid-frontal lobe<br>coordinates: chr10:114749600-114759800<br>genome: hg19<br>footprint: PPARA<br>value: 0,100,0<br>\", \"accession: TSTSR344424<br>annotation_type: footprint<br>biosample_term_name: mid-frontal lobe<br>coordinates: chr10:114749600-114759800<br>genome: hg19<br>footprint: TCF3<br>value: 0,100,0<br>\", \"accession: TSTSR027410<br>annotation_type: footprint<br>biosample_term_name: mid-frontal lobe<br>coordinates: chr10:114757800-114760000<br>genome: hg19<br>footprint: STAT<br>value: 0,100,0<br>\", \"accession: TSTSR344424<br>annotation_type: footprint<br>biosample_term_name: skeletal muscle tissue<br>coordinates: chr10:114749600-114759800<br>genome: hg19<br>footprint: HNF4<br>value: 0,100,0<br>\", \"accession: TSTSR344424<br>annotation_type: footprint<br>biosample_term_name: skeletal muscle tissue<br>coordinates: chr10:114749600-114759800<br>genome: hg19<br>footprint: STAT<br>value: 0,100,0<br>\", \"accession: TSTSR344424<br>annotation_type: footprint<br>biosample_term_name: skeletal muscle tissue<br>coordinates: chr10:114749600-114759800<br>genome: hg19<br>footprint: PPARA<br>value: 0,100,0<br>\", \"accession: TSTSR344424<br>annotation_type: footprint<br>biosample_term_name: skeletal muscle tissue<br>coordinates: chr10:114749600-114759800<br>genome: hg19<br>footprint: TCF3<br>value: 0,100,0<br>\"], \"mode\": \"markers+text\", \"hoverinfo\": \"closest\", \"marker\": {\"color\": [], \"size\": 10, \"line\": {\"width\": 10}, \"opacity\": 0.0}, \"textfont\": {\"color\": \"black\", \"size\": 18, \"family\": \"Arail\"}}, {\"type\": \"scatter\", \"x\": [50.0, 4.0, null, 50.0, 96.0, null], \"y\": [98.0, 94.0, null, 98.0, 94.0, null], \"line\": {\"width\": 2, \"color\": \"#888\"}, \"hoverinfo\": \"none\", \"mode\": \"lines\"}], {\"width\": 623.8324625039508, \"height\": 1081.8648586754107, \"xaxis\": {\"showgrid\": false, \"zeroline\": false, \"showline\": false, \"ticks\": \"\", \"showticklabels\": false}, \"yaxis\": {\"showgrid\": false, \"zeroline\": false, \"showline\": false, \"ticks\": \"\", \"showticklabels\": false}, \"showlegend\": false, \"hovermode\": \"closest\", \"hoverlabel\": {\"bgcolor\": \"white\", \"bordercolor\": \"black\", \"font\": {\"family\": \"helvetica\"}}, \"shapes\": [{\"type\": \"rect\", \"xref\": \"x\", \"yref\": \"y\", \"x0\": 29.5, \"y0\": 98.0, \"x1\": 70.5, \"y1\": 102.0, \"line\": {\"color\": \"#888\", \"width\": 2}, \"fillcolor\": \"#A9A9A9\", \"opacity\": 0.275}, {\"type\": \"rect\", \"xref\": \"x\", \"yref\": \"y\", \"x0\": -16.5, \"y0\": 90.0, \"x1\": 24.5, \"y1\": 94.0, \"line\": {\"color\": \"#888\", \"width\": 2}, \"fillcolor\": \"#808080\", \"opacity\": 0.275}, {\"type\": \"rect\", \"xref\": \"x\", \"yref\": \"y\", \"x0\": -16.5, \"y0\": 86.0, \"x1\": 24.5, \"y1\": 90.0, \"line\": {\"color\": \"#888\", \"width\": 2}, \"fillcolor\": \"#D3D3D3\", \"opacity\": 0.275}, {\"type\": \"rect\", \"xref\": \"x\", \"yref\": \"y\", \"x0\": -16.5, \"y0\": 82.0, \"x1\": 24.5, \"y1\": 86.0, \"line\": {\"color\": \"#888\", \"width\": 2}, \"fillcolor\": \"#A9A9A9\", \"opacity\": 0.275}, {\"type\": \"rect\", \"xref\": \"x\", \"yref\": \"y\", \"x0\": -16.5, \"y0\": 78.0, \"x1\": 24.5, \"y1\": 82.0, \"line\": {\"color\": \"#888\", \"width\": 2}, \"fillcolor\": \"#D3D3D3\", \"opacity\": 0.275}, {\"type\": \"rect\", \"xref\": \"x\", \"yref\": \"y\", \"x0\": -16.5, \"y0\": 74.0, \"x1\": 24.5, \"y1\": 78.0, \"line\": {\"color\": \"#888\", \"width\": 2}, \"fillcolor\": \"#A9A9A9\", \"opacity\": 0.275}, {\"type\": \"rect\", \"xref\": \"x\", \"yref\": \"y\", \"x0\": -16.5, \"y0\": 66.0, \"x1\": 24.5, \"y1\": 74.0, \"line\": {\"color\": \"#888\", \"width\": 2}, \"fillcolor\": \"#D3D3D3\", \"opacity\": 0.275}, {\"type\": \"rect\", \"xref\": \"x\", \"yref\": \"y\", \"x0\": -16.5, \"y0\": 62.0, \"x1\": 24.5, \"y1\": 66.0, \"line\": {\"color\": \"#888\", \"width\": 2}, \"fillcolor\": \"#A9A9A9\", \"opacity\": 0.275}, {\"type\": \"rect\", \"xref\": \"x\", \"yref\": \"y\", \"x0\": -16.5, \"y0\": 58.0, \"x1\": 24.5, \"y1\": 62.0, \"line\": {\"color\": \"#888\", \"width\": 2}, \"fillcolor\": \"#D3D3D3\", \"opacity\": 0.275}, {\"type\": \"rect\", \"xref\": \"x\", \"yref\": \"y\", \"x0\": -16.5, \"y0\": 54.0, \"x1\": 24.5, \"y1\": 58.0, \"line\": {\"color\": \"#888\", \"width\": 2}, \"fillcolor\": \"#A9A9A9\", \"opacity\": 0.275}, {\"type\": \"rect\", \"xref\": \"x\", \"yref\": \"y\", \"x0\": -16.5, \"y0\": 50.0, \"x1\": 24.5, \"y1\": 54.0, \"line\": {\"color\": \"#888\", \"width\": 2}, \"fillcolor\": \"#D3D3D3\", \"opacity\": 0.275}, {\"type\": \"rect\", \"xref\": \"x\", \"yref\": \"y\", \"x0\": -16.5, \"y0\": 46.0, \"x1\": 24.5, \"y1\": 50.0, \"line\": {\"color\": \"#888\", \"width\": 2}, \"fillcolor\": \"#A9A9A9\", \"opacity\": 0.275}, {\"type\": \"rect\", \"xref\": \"x\", \"yref\": \"y\", \"x0\": -16.5, \"y0\": 42.0, \"x1\": 24.5, \"y1\": 46.0, \"line\": {\"color\": \"#888\", \"width\": 2}, \"fillcolor\": \"#D3D3D3\", \"opacity\": 0.275}, {\"type\": \"rect\", \"xref\": \"x\", \"yref\": \"y\", \"x0\": -16.5, \"y0\": 38.0, \"x1\": 24.5, \"y1\": 42.0, \"line\": {\"color\": \"#888\", \"width\": 2}, \"fillcolor\": \"#A9A9A9\", \"opacity\": 0.275}, {\"type\": \"rect\", \"xref\": \"x\", \"yref\": \"y\", \"x0\": -16.5, \"y0\": 34.0, \"x1\": 24.5, \"y1\": 38.0, \"line\": {\"color\": \"#888\", \"width\": 2}, \"fillcolor\": \"#D3D3D3\", \"opacity\": 0.275}, {\"type\": \"rect\", \"xref\": \"x\", \"yref\": \"y\", \"x0\": -16.5, \"y0\": 30.0, \"x1\": 24.5, \"y1\": 34.0, \"line\": {\"color\": \"#888\", \"width\": 2}, \"fillcolor\": \"#A9A9A9\", \"opacity\": 0.275}, {\"type\": \"rect\", \"xref\": \"x\", \"yref\": \"y\", \"x0\": -16.5, \"y0\": 26.0, \"x1\": 24.5, \"y1\": 30.0, \"line\": {\"color\": \"#888\", \"width\": 2}, \"fillcolor\": \"#D3D3D3\", \"opacity\": 0.275}, {\"type\": \"rect\", \"xref\": \"x\", \"yref\": \"y\", \"x0\": -16.5, \"y0\": 22.0, \"x1\": 24.5, \"y1\": 26.0, \"line\": {\"color\": \"#888\", \"width\": 2}, \"fillcolor\": \"#A9A9A9\", \"opacity\": 0.275}, {\"type\": \"rect\", \"xref\": \"x\", \"yref\": \"y\", \"x0\": -16.5, \"y0\": 18.0, \"x1\": 24.5, \"y1\": 22.0, \"line\": {\"color\": \"#888\", \"width\": 2}, \"fillcolor\": \"#D3D3D3\", \"opacity\": 0.275}, {\"type\": \"rect\", \"xref\": \"x\", \"yref\": \"y\", \"x0\": 75.5, \"y0\": 90.0, \"x1\": 116.5, \"y1\": 94.0, \"line\": {\"color\": \"#888\", \"width\": 2}, \"fillcolor\": \"#808080\", \"opacity\": 0.275}, {\"type\": \"rect\", \"xref\": \"x\", \"yref\": \"y\", \"x0\": 75.5, \"y0\": 78.0, \"x1\": 116.5, \"y1\": 90.0, \"line\": {\"color\": \"#888\", \"width\": 2}, \"fillcolor\": \"#A9A9A9\", \"opacity\": 0.275}, {\"type\": \"rect\", \"xref\": \"x\", \"yref\": \"y\", \"x0\": 75.5, \"y0\": 66.0, \"x1\": 116.5, \"y1\": 78.0, \"line\": {\"color\": \"#888\", \"width\": 2}, \"fillcolor\": \"#D3D3D3\", \"opacity\": 0.275}, {\"type\": \"rect\", \"xref\": \"x\", \"yref\": \"y\", \"x0\": 75.5, \"y0\": 58.0, \"x1\": 116.5, \"y1\": 66.0, \"line\": {\"color\": \"#888\", \"width\": 2}, \"fillcolor\": \"#A9A9A9\", \"opacity\": 0.275}, {\"type\": \"rect\", \"xref\": \"x\", \"yref\": \"y\", \"x0\": 75.5, \"y0\": 46.0, \"x1\": 116.5, \"y1\": 58.0, \"line\": {\"color\": \"#888\", \"width\": 2}, \"fillcolor\": \"#D3D3D3\", \"opacity\": 0.275}, {\"type\": \"rect\", \"xref\": \"x\", \"yref\": \"y\", \"x0\": 75.5, \"y0\": 34.0, \"x1\": 116.5, \"y1\": 46.0, \"line\": {\"color\": \"#888\", \"width\": 2}, \"fillcolor\": \"#A9A9A9\", \"opacity\": 0.275}, {\"type\": \"rect\", \"xref\": \"x\", \"yref\": \"y\", \"x0\": 75.5, \"y0\": 30.0, \"x1\": 116.5, \"y1\": 34.0, \"line\": {\"color\": \"#888\", \"width\": 2}, \"fillcolor\": \"#D3D3D3\", \"opacity\": 0.275}, {\"type\": \"rect\", \"xref\": \"x\", \"yref\": \"y\", \"x0\": 75.5, \"y0\": 18.0, \"x1\": 116.5, \"y1\": 30.0, \"line\": {\"color\": \"#888\", \"width\": 2}, \"fillcolor\": \"#A9A9A9\", \"opacity\": 0.275}, {\"type\": \"rect\", \"xref\": \"x\", \"yref\": \"y\", \"x0\": 75.5, \"y0\": 2.0, \"x1\": 116.5, \"y1\": 18.0, \"line\": {\"color\": \"#888\", \"width\": 2}, \"fillcolor\": \"#D3D3D3\", \"opacity\": 0.275}]}, {\"showLink\": true, \"linkText\": \"Export to plot.ly\"})});</script>"
      ]
     },
     "metadata": {},
     "output_type": "display_data"
    }
   ],
   "source": [
    "thing = json.loads(open(\"../testing_files/testing.json\").read())\n",
    "#iplot(make_graph(var_data=thing, var_name=\"test\",box_height=4, biosamples=[\"skeletal muscle tissue\"]))\n",
    "iplot(make_graph(var_data=thing, var_name=\"test\",box_height=4))"
   ]
  },
  {
   "cell_type": "code",
   "execution_count": 33,
   "metadata": {},
   "outputs": [],
   "source": [
    "thing = json.loads(open(\"../testing_files/testing.json\").read())\n",
    "thing = {anno: sorted(items, key=lambda x: x['biosample_term_name']) for anno, items in thing.items()}"
   ]
  },
  {
   "cell_type": "code",
   "execution_count": null,
   "metadata": {},
   "outputs": [],
   "source": []
  }
 ],
 "metadata": {
  "kernelspec": {
   "display_name": "Python 3",
   "language": "python",
   "name": "python3"
  },
  "language_info": {
   "codemirror_mode": {
    "name": "ipython",
    "version": 3
   },
   "file_extension": ".py",
   "mimetype": "text/x-python",
   "name": "python",
   "nbconvert_exporter": "python",
   "pygments_lexer": "ipython3",
   "version": "3.6.5"
  }
 },
 "nbformat": 4,
 "nbformat_minor": 2
}
