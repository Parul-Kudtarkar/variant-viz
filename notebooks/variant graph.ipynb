{
 "cells": [
  {
   "cell_type": "code",
   "execution_count": 1,
   "metadata": {},
   "outputs": [
    {
     "data": {
      "text/html": [
       "<script>requirejs.config({paths: { 'plotly': ['https://cdn.plot.ly/plotly-latest.min']},});if(!window.Plotly) {{require(['plotly'],function(plotly) {window.Plotly=plotly;});}}</script>"
      ],
      "text/vnd.plotly.v1+html": [
       "<script>requirejs.config({paths: { 'plotly': ['https://cdn.plot.ly/plotly-latest.min']},});if(!window.Plotly) {{require(['plotly'],function(plotly) {window.Plotly=plotly;});}}</script>"
      ]
     },
     "metadata": {},
     "output_type": "display_data"
    }
   ],
   "source": [
    "import plotly\n",
    "import plotly.plotly as py\n",
    "import plotly.graph_objs as go\n",
    "import plotly.figure_factory as ff\n",
    "from plotly.offline import download_plotlyjs, init_notebook_mode, plot, iplot\n",
    "import numpy as np\n",
    "import json\n",
    "import urllib.request\n",
    "import numpy as np\n",
    "import time\n",
    "import dash\n",
    "import dash_core_components as dcc\n",
    "import dash_html_components as html\n",
    "\n",
    "#authenticate plotly:\n",
    "plotly.tools.set_credentials_file(username='smorabito', api_key='BoBmLuy3saDfBmpvhsM7')\n",
    "\n",
    "#necessary for plotly offline:\n",
    "init_notebook_mode(connected=True)"
   ]
  },
  {
   "cell_type": "code",
   "execution_count": 2,
   "metadata": {},
   "outputs": [],
   "source": [
    "#better dummy data:\n",
    "var_data = {\n",
    "    \"chromatin_state\": [\n",
    "        {\n",
    "            \"state\": \"enhA1\",\n",
    "            \"biosample_term_name\": \"skeletal muscle\"\n",
    "        },\n",
    "        {\n",
    "            \"state\": \"promoter\",\n",
    "            \"biosample_term_name\": \"islet\"\n",
    "        }\n",
    "    ],\n",
    "    \"footprints\": [\n",
    "        {\n",
    "            \"footprint\": \"HNF4\",\n",
    "            \"biosample_term_name\": \"islet\"\n",
    "        },\n",
    "        {\n",
    "            \"footprint\": \"PPARA\",\n",
    "            \"biosample_term_name\": \"islet\",\n",
    "        },\n",
    "        {\n",
    "            \"footprint\": \"TCF3\",\n",
    "            \"biosample_term_name\": \"hippocampus\"\n",
    "        },\n",
    "        {\n",
    "            \"footprint\": \"STAT\",\n",
    "            \"biosample_term_name\": \"skeletal muscle\"\n",
    "        }\n",
    "        \n",
    "    ],\n",
    "    \"ChIP\": [\n",
    "        {\n",
    "            \"target\": \"FOXA2\",\n",
    "            \"biosample_term_name\": \"islet\",\n",
    "        },\n",
    "        {\n",
    "            \"target\": \"NKX2.2\",\n",
    "            \"biosample_term_name\": \"skeletal muscle\"\n",
    "        },\n",
    "        {\n",
    "            \"target\": \"CTCF\",\n",
    "            \"biosample_term_name\": \"islet\"\n",
    "        },\n",
    "    ]\n",
    "    \n",
    "}"
   ]
  },
  {
   "cell_type": "code",
   "execution_count": 3,
   "metadata": {},
   "outputs": [],
   "source": [
    "#start dealing with actual JSON to build these graphs:\n",
    "\n",
    "def rsid_url(rsid):\n",
    "    return \"https://www.t2depigenome.org/peak_metadata/region=%s&genome=GRCh37/peak_metadata.tsv\" % rsid"
   ]
  },
  {
   "cell_type": "code",
   "execution_count": 4,
   "metadata": {},
   "outputs": [],
   "source": [
    "def generate_positions(var_data, var_name, vert_space=4, box_width=10, \\\n",
    "                       box_height=4, text_y0=100, plot_width=100, offset=20, expanded=True):\n",
    "    \n",
    "    #get number of annotations\n",
    "    num_annotations = len(var_data.keys())\n",
    "    num_sides = int(num_annotations/2)   \n",
    "    \n",
    "    positions = {\n",
    "        var_name: {\n",
    "            \"text-coords\": [plot_width/2, text_y0],\n",
    "            \"shape-coords\": [\n",
    "                [(plot_width/2)-box_width/2, text_y0-box_height/2],\n",
    "                [(plot_width/2)+box_width/2, text_y0+box_height/2]\n",
    "            ],\n",
    "            \"annotations\": {key: {\"items\": val} for key, val in var_data.items()}\n",
    "        }\n",
    "    }\n",
    "    \n",
    "    for i, anno in enumerate(positions[var_name][\"annotations\"].keys()):\n",
    "        #get x offset:\n",
    "        if num_annotations % 2 == 1 and i == int(num_annotations/2)+1:\n",
    "            x_offset = positions[var_name][\"text-coords\"][0] + offset\n",
    "        elif i+1 <= num_sides: \n",
    "            x_offset = positions[var_name][\"text-coords\"][0] - offset*(i+1)\n",
    "        elif i+1 > num_sides and num_annotations % 2 == 1:\n",
    "            x_offset = positions[var_name][\"text-coords\"][0] + offset*(i-int(num_annotations/2))\n",
    "        else:\n",
    "            x_offset = positions[var_name][\"text-coords\"][0] + offset*((i+1)-int(num_annotations/2))\n",
    "            \n",
    "        #set text coordinates for this annotation\n",
    "        positions[var_name][\"annotations\"][anno][\"text-coords\"] = [\n",
    "            x_offset, \n",
    "            text_y0-(2*vert_space)\n",
    "        ]\n",
    "        \n",
    "        #set shape coordinates for this annotation\n",
    "        positions[var_name][\"annotations\"][anno][\"shape-coords\"] = [\n",
    "            [\n",
    "                positions[var_name][\"annotations\"][anno][\"text-coords\"][0]-box_width/2,\n",
    "                positions[var_name][\"annotations\"][anno][\"text-coords\"][1]-box_height/2\n",
    "            ],\n",
    "            [\n",
    "                positions[var_name][\"annotations\"][anno][\"text-coords\"][0]+box_width/2,\n",
    "                positions[var_name][\"annotations\"][anno][\"text-coords\"][1]+box_height/2\n",
    "            ]\n",
    "        ]\n",
    "        \n",
    "        if expanded == True:\n",
    "            for j, item in enumerate(positions[var_name][\"annotations\"][anno][\"items\"]):\n",
    "                if j == 0:\n",
    "                    item[\"text-coords\"] = [\n",
    "                        positions[var_name][\"annotations\"][anno][\"text-coords\"][0],\n",
    "                        positions[var_name][\"annotations\"][anno][\"text-coords\"][1] - box_height\n",
    "                    ]\n",
    "                else:\n",
    "                    item[\"text-coords\"] = [\n",
    "                        positions[var_name][\"annotations\"][anno][\"items\"][j-1][\"text-coords\"][0],\n",
    "                        positions[var_name][\"annotations\"][anno][\"items\"][j-1][\"text-coords\"][1] - box_height\n",
    "                    ]\n",
    "                item[\"shape-coords\"] = [\n",
    "                    [item[\"text-coords\"][0]-box_width/2, item[\"text-coords\"][1]-box_height/2],\n",
    "                    [item[\"text-coords\"][0]+box_width/2, item[\"text-coords\"][1]+box_height/2]\n",
    "                ]\n",
    "\n",
    "    return positions"
   ]
  },
  {
   "cell_type": "code",
   "execution_count": 28,
   "metadata": {},
   "outputs": [],
   "source": [
    "def generate_shapes(var_data, var_name, colors=\"\"):\n",
    "\n",
    "    shape_coords = [var_data[var_name][\"shape-coords\"]]\n",
    "    shapes = []\n",
    "\n",
    "    for anno in var_data[var_name][\"annotations\"].keys():\n",
    "        shape_coords.append(var_data[var_name][\"annotations\"][anno][\"shape-coords\"])\n",
    "        for item in var_data[var_name][\"annotations\"][anno][\"items\"]:\n",
    "            if \"shape-coords\" in item.keys():\n",
    "                shape_coords.append(item[\"shape-coords\"])\n",
    "\n",
    "    if colors == \"\":\n",
    "        colors = ['#888' for i in range(len(shape_coords))]\n",
    "    \n",
    "    for i, coords in enumerate(shape_coords):\n",
    "        shapes.append({\n",
    "            'type': 'rect',\n",
    "            'xref': 'x',\n",
    "            'yref': 'y',\n",
    "            'x0': coords[0][0],\n",
    "            'y0': coords[0][1],\n",
    "            'x1': coords[1][0],\n",
    "            'y1': coords[1][1],\n",
    "            'line': {\n",
    "                'color': '#888',\n",
    "                'width': 2,\n",
    "            },\n",
    "            'fillcolor': 'rgba(55, 128, 191, 0.6)',\n",
    "            'opacity': 0.5\n",
    "        })\n",
    "    return shapes"
   ]
  },
  {
   "cell_type": "code",
   "execution_count": 39,
   "metadata": {},
   "outputs": [],
   "source": [
    "def make_graph(var_data, var_name, vert_space=4, box_width=10, \\\n",
    "                box_height=4, text_y0=100, plot_width=1000, plot_height=500, offset=20, expanded=True, biosamples=\"\"):\n",
    "    \n",
    "    print(\"biosamples:\", biosamples)\n",
    "    if biosamples == \"\":\n",
    "        biosamples = get_biosamples(var_data)\n",
    "    \n",
    "    #get max number of items in one annotation (to compute plot height)\n",
    "    max_items = max([len([item for item in var_data[anno] if item[\"biosample_term_name\"] in biosamples]) for anno in var_data.keys()])\n",
    "    num_annotations = len(var_data.keys())\n",
    "    plot_height = 350*np.log(max_items)\n",
    "    plot_width = 900 * np.log(num_annotations)\n",
    " \n",
    "    #longest label\n",
    "    box_width = max_text_len(var_data)\n",
    "    offset = box_width + 5\n",
    "\n",
    "    positions = generate_positions(var_data, var_name, expanded=expanded, box_height=box_height, \\\n",
    "                                   box_width=box_width, offset=offset, text_y0=text_y0, biosamples=biosamples)\n",
    "    \n",
    "    #initialize node and edge traces:\n",
    "    node_trace = go.Scatter(\n",
    "        x = [],\n",
    "        y = [],\n",
    "        text = [],\n",
    "        mode='markers+text',\n",
    "        hoverinfo='closest',\n",
    "        marker=dict(\n",
    "            color=[],\n",
    "            size=10,\n",
    "            line=dict(width=10),\n",
    "            opacity=0.0\n",
    "        )\n",
    "    )\n",
    "\n",
    "    edge_trace = go.Scatter(\n",
    "        x = [],\n",
    "        y = [],\n",
    "        line=dict(width=2,color='#888'),\n",
    "        hoverinfo='none',\n",
    "        mode='lines'        \n",
    "    )\n",
    "    \n",
    "    #populate node information with text positions:\n",
    "    node_trace['x'].append(positions[var_name][\"text-coords\"][0])\n",
    "    node_trace['y'].append(positions[var_name][\"text-coords\"][1])\n",
    "    node_trace['text'].append(var_name)\n",
    "    for anno in positions[var_name][\"annotations\"].keys():\n",
    "        node_trace['x'].append(positions[var_name][\"annotations\"][anno][\"text-coords\"][0])\n",
    "        node_trace['y'].append(positions[var_name][\"annotations\"][anno][\"text-coords\"][1])\n",
    "        node_trace['text'].append(anno)\n",
    "        for item in positions[var_name][\"annotations\"][anno][\"items\"]:\n",
    "            if item[\"biosample_term_name\"] in biosamples:\n",
    "                node_trace['x'].append(item[\"text-coords\"][0])\n",
    "                node_trace['y'].append(item[\"text-coords\"][1])\n",
    "                text = item[\"biosample_term_name\"] + \": \"\n",
    "                if \"state\" in item.keys():\n",
    "                    text += item[\"state\"]\n",
    "                elif \"footprint\" in item.keys():\n",
    "                    text += item[\"footprint\"]\n",
    "                elif \"target\" in item.keys():\n",
    "                    text += item['target']\n",
    "                node_trace[\"text\"].append(text)\n",
    "\n",
    "            \n",
    "    #fill in edges between variant name and annotation names:\n",
    "    for anno in positions[var_name][\"annotations\"].keys():\n",
    "        edge_trace['x'] += [positions[var_name][\"text-coords\"][0], positions[var_name][\"annotations\"][anno][\"text-coords\"][0], None]\n",
    "        edge_trace['y'] += [positions[var_name][\"shape-coords\"][0][1], positions[var_name][\"annotations\"][anno][\"shape-coords\"][1][1], None]\n",
    "    \n",
    "    #add invisible points:\n",
    "    min_coords, max_coords = invisible_points(positions, var_name)\n",
    "    node_trace['x'].append(min_coords[0])\n",
    "    node_trace['y'].append(min_coords[1])\n",
    "    node_trace['x'].append(max_coords[0])\n",
    "    node_trace['y'].append(max_coords[1])\n",
    "    \n",
    "    layout = go.Layout(\n",
    "        width=plot_width,\n",
    "        height=plot_height,\n",
    "        xaxis = dict(\n",
    "            showgrid=False, \n",
    "            zeroline=False,\n",
    "            showline=False,\n",
    "            ticks='',\n",
    "            showticklabels=False\n",
    "        ),\n",
    "        yaxis = dict(\n",
    "            showgrid=False,\n",
    "            zeroline=False,\n",
    "            showline=False,\n",
    "            ticks='',\n",
    "            showticklabels=False\n",
    "        ),\n",
    "        showlegend=False,        \n",
    "    )\n",
    "\n",
    "    layout['shapes'] = generate_shapes(positions, var_name)\n",
    "\n",
    "    data = [node_trace, edge_trace]\n",
    "    fig = go.Figure(data=data, layout=layout)\n",
    "    return fig\n",
    "    "
   ]
  },
  {
   "cell_type": "code",
   "execution_count": 40,
   "metadata": {},
   "outputs": [],
   "source": [
    "#finds the longest label name\n",
    "def max_text_len(var_data):\n",
    "    \n",
    "    max_text_len = 0\n",
    "    \n",
    "    for anno, items in var_data.items():\n",
    "        if len(anno) > max_text_len:\n",
    "            max_text_len = len(anno)\n",
    "        for item in items:\n",
    "            text = item[\"biosample_term_name\"] + \": \"\n",
    "            if \"state\" in item.keys():\n",
    "                text += \"state\"\n",
    "            elif \"target\" in item.keys():\n",
    "                text += \"target\"\n",
    "            elif \"footprint\" in item.keys():\n",
    "                text += \"footprint\"\n",
    "            if len(text) > max_text_len:\n",
    "                max_text_len = len(text)\n",
    "    \n",
    "    return max_text_len"
   ]
  },
  {
   "cell_type": "code",
   "execution_count": 41,
   "metadata": {},
   "outputs": [],
   "source": [
    "def invisible_points(positions, var_name):\n",
    "    \n",
    "    min_coords = [i for i in positions[var_name][\"text-coords\"]]\n",
    "    max_coords = [i for i in positions[var_name][\"text-coords\"]]\n",
    "    \n",
    "    for anno, info in positions[var_name][\"annotations\"].items():\n",
    "        if info[\"text-coords\"][0] > max_coords[0]:\n",
    "            max_coords[0] = info[\"text-coords\"][0]\n",
    "        elif info[\"text-coords\"][0] < min_coords[0]:\n",
    "            min_coords[0] = info[\"text-coords\"][0]\n",
    "        if info[\"text-coords\"][1] > max_coords[1]:\n",
    "            max_coords[1] = info[\"text-coords\"][1]\n",
    "        elif info[\"text-coords\"][1] < min_coords[1]:\n",
    "            min_coords[1] = info[\"text-coords\"][1]\n",
    "        \n",
    "        for item in positions[var_name][\"annotations\"][anno][\"items\"]:\n",
    "            if \"text-coords\" in item.keys():\n",
    "                if item[\"text-coords\"][0] > max_coords[0]:\n",
    "                    max_coords[0] = item[\"text-coords\"][0]\n",
    "                elif item[\"text-coords\"][0] < min_coords[0]:\n",
    "                    min_coords[0] = item[\"text-coords\"][0]\n",
    "                if item[\"text-coords\"][1] > max_coords[1]:\n",
    "                    max_coords[1] = item[\"text-coords\"][1]\n",
    "                elif item[\"text-coords\"][1] < min_coords[1]:\n",
    "                    min_coords[1] = item[\"text-coords\"][1]\n",
    "        \n",
    "    #extend invisible x points to avoid text cutoffs:\n",
    "    min_coords[0] -= 25\n",
    "    max_coords[0] += 25\n",
    "    \n",
    "    return min_coords, max_coords"
   ]
  },
  {
   "cell_type": "code",
   "execution_count": 42,
   "metadata": {},
   "outputs": [],
   "source": [
    "#get all biosample_term_names in var_data:\n",
    "def get_biosamples(var_data):\n",
    "    biosamples = []\n",
    "    for anno in var_data.keys():\n",
    "        for item in var_data[anno]:\n",
    "            biosamples.append(item[\"biosample_term_name\"])\n",
    "\n",
    "    return list(set(biosamples))"
   ]
  },
  {
   "cell_type": "code",
   "execution_count": 36,
   "metadata": {},
   "outputs": [
    {
     "name": "stdout",
     "output_type": "stream",
     "text": [
      "biosamples: \n",
      "cur biosample: skeletal muscle\n",
      "valid biosample\n",
      "cur biosample: islet\n",
      "valid biosample\n",
      "cur biosample: islet\n",
      "valid biosample\n",
      "cur biosample: islet\n",
      "valid biosample\n",
      "cur biosample: hippocampus\n",
      "valid biosample\n",
      "cur biosample: skeletal muscle\n",
      "valid biosample\n",
      "cur biosample: islet\n",
      "valid biosample\n",
      "cur biosample: skeletal muscle\n",
      "valid biosample\n",
      "cur biosample: islet\n",
      "valid biosample\n"
     ]
    },
    {
     "data": {
      "application/vnd.plotly.v1+json": {
       "data": [
        {
         "hoverinfo": "closest",
         "marker": {
          "color": [],
          "line": {
           "width": 10
          },
          "opacity": 0,
          "size": 10
         },
         "mode": "markers+text",
         "text": [
          "test",
          "chromatin_state",
          "skeletal muscle: enhA1",
          "islet: promoter",
          "footprints",
          "islet: HNF4",
          "islet: PPARA",
          "hippocampus: TCF3",
          "skeletal muscle: STAT",
          "ChIP",
          "islet: FOXA2",
          "skeletal muscle: NKX2.2",
          "islet: CTCF"
         ],
         "type": "scatter",
         "x": [
          50,
          19,
          19,
          19,
          50,
          50,
          50,
          50,
          50,
          81,
          81,
          81,
          81,
          -6,
          106
         ],
         "y": [
          100,
          92,
          89,
          86,
          92,
          89,
          86,
          83,
          80,
          92,
          89,
          86,
          83,
          80,
          100
         ]
        },
        {
         "hoverinfo": "none",
         "line": {
          "color": "#888",
          "width": 2
         },
         "mode": "lines",
         "type": "scatter",
         "x": [
          50,
          19,
          null,
          50,
          50,
          null,
          50,
          81,
          null
         ],
         "y": [
          98.5,
          93.5,
          null,
          98.5,
          93.5,
          null,
          98.5,
          93.5,
          null
         ]
        }
       ],
       "layout": {
        "height": 485.2030263919617,
        "shapes": [
         {
          "fillcolor": "rgba(55, 128, 191, 0.6)",
          "line": {
           "color": "#888",
           "width": 2
          },
          "opacity": 0.5,
          "type": "rect",
          "x0": 37,
          "x1": 63,
          "xref": "x",
          "y0": 98.5,
          "y1": 101.5,
          "yref": "y"
         },
         {
          "fillcolor": "rgba(55, 128, 191, 0.6)",
          "line": {
           "color": "#888",
           "width": 2
          },
          "opacity": 0.5,
          "type": "rect",
          "x0": 6,
          "x1": 32,
          "xref": "x",
          "y0": 90.5,
          "y1": 93.5,
          "yref": "y"
         },
         {
          "fillcolor": "rgba(55, 128, 191, 0.6)",
          "line": {
           "color": "#888",
           "width": 2
          },
          "opacity": 0.5,
          "type": "rect",
          "x0": 6,
          "x1": 32,
          "xref": "x",
          "y0": 87.5,
          "y1": 90.5,
          "yref": "y"
         },
         {
          "fillcolor": "rgba(55, 128, 191, 0.6)",
          "line": {
           "color": "#888",
           "width": 2
          },
          "opacity": 0.5,
          "type": "rect",
          "x0": 6,
          "x1": 32,
          "xref": "x",
          "y0": 84.5,
          "y1": 87.5,
          "yref": "y"
         },
         {
          "fillcolor": "rgba(55, 128, 191, 0.6)",
          "line": {
           "color": "#888",
           "width": 2
          },
          "opacity": 0.5,
          "type": "rect",
          "x0": 37,
          "x1": 63,
          "xref": "x",
          "y0": 90.5,
          "y1": 93.5,
          "yref": "y"
         },
         {
          "fillcolor": "rgba(55, 128, 191, 0.6)",
          "line": {
           "color": "#888",
           "width": 2
          },
          "opacity": 0.5,
          "type": "rect",
          "x0": 37,
          "x1": 63,
          "xref": "x",
          "y0": 87.5,
          "y1": 90.5,
          "yref": "y"
         },
         {
          "fillcolor": "rgba(55, 128, 191, 0.6)",
          "line": {
           "color": "#888",
           "width": 2
          },
          "opacity": 0.5,
          "type": "rect",
          "x0": 37,
          "x1": 63,
          "xref": "x",
          "y0": 84.5,
          "y1": 87.5,
          "yref": "y"
         },
         {
          "fillcolor": "rgba(55, 128, 191, 0.6)",
          "line": {
           "color": "#888",
           "width": 2
          },
          "opacity": 0.5,
          "type": "rect",
          "x0": 37,
          "x1": 63,
          "xref": "x",
          "y0": 81.5,
          "y1": 84.5,
          "yref": "y"
         },
         {
          "fillcolor": "rgba(55, 128, 191, 0.6)",
          "line": {
           "color": "#888",
           "width": 2
          },
          "opacity": 0.5,
          "type": "rect",
          "x0": 37,
          "x1": 63,
          "xref": "x",
          "y0": 78.5,
          "y1": 81.5,
          "yref": "y"
         },
         {
          "fillcolor": "rgba(55, 128, 191, 0.6)",
          "line": {
           "color": "#888",
           "width": 2
          },
          "opacity": 0.5,
          "type": "rect",
          "x0": 68,
          "x1": 94,
          "xref": "x",
          "y0": 90.5,
          "y1": 93.5,
          "yref": "y"
         },
         {
          "fillcolor": "rgba(55, 128, 191, 0.6)",
          "line": {
           "color": "#888",
           "width": 2
          },
          "opacity": 0.5,
          "type": "rect",
          "x0": 68,
          "x1": 94,
          "xref": "x",
          "y0": 87.5,
          "y1": 90.5,
          "yref": "y"
         },
         {
          "fillcolor": "rgba(55, 128, 191, 0.6)",
          "line": {
           "color": "#888",
           "width": 2
          },
          "opacity": 0.5,
          "type": "rect",
          "x0": 68,
          "x1": 94,
          "xref": "x",
          "y0": 84.5,
          "y1": 87.5,
          "yref": "y"
         },
         {
          "fillcolor": "rgba(55, 128, 191, 0.6)",
          "line": {
           "color": "#888",
           "width": 2
          },
          "opacity": 0.5,
          "type": "rect",
          "x0": 68,
          "x1": 94,
          "xref": "x",
          "y0": 81.5,
          "y1": 84.5,
          "yref": "y"
         }
        ],
        "showlegend": false,
        "width": 988.7510598012988,
        "xaxis": {
         "showgrid": false,
         "showline": false,
         "showticklabels": false,
         "ticks": "",
         "zeroline": false
        },
        "yaxis": {
         "showgrid": false,
         "showline": false,
         "showticklabels": false,
         "ticks": "",
         "zeroline": false
        }
       }
      },
      "text/html": [
       "<div id=\"ac892bbf-5c5f-42fc-9ef4-15222357e86d\" style=\"height: 485.2030263919617px; width: 988.7510598012988px;\" class=\"plotly-graph-div\"></div><script type=\"text/javascript\">require([\"plotly\"], function(Plotly) { window.PLOTLYENV=window.PLOTLYENV || {};window.PLOTLYENV.BASE_URL=\"https://plot.ly\";Plotly.newPlot(\"ac892bbf-5c5f-42fc-9ef4-15222357e86d\", [{\"type\": \"scatter\", \"x\": [50.0, 19.0, 19.0, 19.0, 50.0, 50.0, 50.0, 50.0, 50.0, 81.0, 81.0, 81.0, 81.0, -6.0, 106.0], \"y\": [100, 92, 89, 86, 92, 89, 86, 83, 80, 92, 89, 86, 83, 80, 100], \"text\": [\"test\", \"chromatin_state\", \"skeletal muscle: enhA1\", \"islet: promoter\", \"footprints\", \"islet: HNF4\", \"islet: PPARA\", \"hippocampus: TCF3\", \"skeletal muscle: STAT\", \"ChIP\", \"islet: FOXA2\", \"skeletal muscle: NKX2.2\", \"islet: CTCF\"], \"mode\": \"markers+text\", \"hoverinfo\": \"closest\", \"marker\": {\"color\": [], \"size\": 10, \"line\": {\"width\": 10}, \"opacity\": 0.0}}, {\"type\": \"scatter\", \"x\": [50.0, 19.0, null, 50.0, 50.0, null, 50.0, 81.0, null], \"y\": [98.5, 93.5, null, 98.5, 93.5, null, 98.5, 93.5, null], \"line\": {\"width\": 2, \"color\": \"#888\"}, \"hoverinfo\": \"none\", \"mode\": \"lines\"}], {\"width\": 988.7510598012988, \"height\": 485.2030263919617, \"xaxis\": {\"showgrid\": false, \"zeroline\": false, \"showline\": false, \"ticks\": \"\", \"showticklabels\": false}, \"yaxis\": {\"showgrid\": false, \"zeroline\": false, \"showline\": false, \"ticks\": \"\", \"showticklabels\": false}, \"showlegend\": false, \"shapes\": [{\"type\": \"rect\", \"xref\": \"x\", \"yref\": \"y\", \"x0\": 37.0, \"y0\": 98.5, \"x1\": 63.0, \"y1\": 101.5, \"line\": {\"color\": \"#888\", \"width\": 2}, \"fillcolor\": \"rgba(55, 128, 191, 0.6)\", \"opacity\": 0.5}, {\"type\": \"rect\", \"xref\": \"x\", \"yref\": \"y\", \"x0\": 6.0, \"y0\": 90.5, \"x1\": 32.0, \"y1\": 93.5, \"line\": {\"color\": \"#888\", \"width\": 2}, \"fillcolor\": \"rgba(55, 128, 191, 0.6)\", \"opacity\": 0.5}, {\"type\": \"rect\", \"xref\": \"x\", \"yref\": \"y\", \"x0\": 6.0, \"y0\": 87.5, \"x1\": 32.0, \"y1\": 90.5, \"line\": {\"color\": \"#888\", \"width\": 2}, \"fillcolor\": \"rgba(55, 128, 191, 0.6)\", \"opacity\": 0.5}, {\"type\": \"rect\", \"xref\": \"x\", \"yref\": \"y\", \"x0\": 6.0, \"y0\": 84.5, \"x1\": 32.0, \"y1\": 87.5, \"line\": {\"color\": \"#888\", \"width\": 2}, \"fillcolor\": \"rgba(55, 128, 191, 0.6)\", \"opacity\": 0.5}, {\"type\": \"rect\", \"xref\": \"x\", \"yref\": \"y\", \"x0\": 37.0, \"y0\": 90.5, \"x1\": 63.0, \"y1\": 93.5, \"line\": {\"color\": \"#888\", \"width\": 2}, \"fillcolor\": \"rgba(55, 128, 191, 0.6)\", \"opacity\": 0.5}, {\"type\": \"rect\", \"xref\": \"x\", \"yref\": \"y\", \"x0\": 37.0, \"y0\": 87.5, \"x1\": 63.0, \"y1\": 90.5, \"line\": {\"color\": \"#888\", \"width\": 2}, \"fillcolor\": \"rgba(55, 128, 191, 0.6)\", \"opacity\": 0.5}, {\"type\": \"rect\", \"xref\": \"x\", \"yref\": \"y\", \"x0\": 37.0, \"y0\": 84.5, \"x1\": 63.0, \"y1\": 87.5, \"line\": {\"color\": \"#888\", \"width\": 2}, \"fillcolor\": \"rgba(55, 128, 191, 0.6)\", \"opacity\": 0.5}, {\"type\": \"rect\", \"xref\": \"x\", \"yref\": \"y\", \"x0\": 37.0, \"y0\": 81.5, \"x1\": 63.0, \"y1\": 84.5, \"line\": {\"color\": \"#888\", \"width\": 2}, \"fillcolor\": \"rgba(55, 128, 191, 0.6)\", \"opacity\": 0.5}, {\"type\": \"rect\", \"xref\": \"x\", \"yref\": \"y\", \"x0\": 37.0, \"y0\": 78.5, \"x1\": 63.0, \"y1\": 81.5, \"line\": {\"color\": \"#888\", \"width\": 2}, \"fillcolor\": \"rgba(55, 128, 191, 0.6)\", \"opacity\": 0.5}, {\"type\": \"rect\", \"xref\": \"x\", \"yref\": \"y\", \"x0\": 68.0, \"y0\": 90.5, \"x1\": 94.0, \"y1\": 93.5, \"line\": {\"color\": \"#888\", \"width\": 2}, \"fillcolor\": \"rgba(55, 128, 191, 0.6)\", \"opacity\": 0.5}, {\"type\": \"rect\", \"xref\": \"x\", \"yref\": \"y\", \"x0\": 68.0, \"y0\": 87.5, \"x1\": 94.0, \"y1\": 90.5, \"line\": {\"color\": \"#888\", \"width\": 2}, \"fillcolor\": \"rgba(55, 128, 191, 0.6)\", \"opacity\": 0.5}, {\"type\": \"rect\", \"xref\": \"x\", \"yref\": \"y\", \"x0\": 68.0, \"y0\": 84.5, \"x1\": 94.0, \"y1\": 87.5, \"line\": {\"color\": \"#888\", \"width\": 2}, \"fillcolor\": \"rgba(55, 128, 191, 0.6)\", \"opacity\": 0.5}, {\"type\": \"rect\", \"xref\": \"x\", \"yref\": \"y\", \"x0\": 68.0, \"y0\": 81.5, \"x1\": 94.0, \"y1\": 84.5, \"line\": {\"color\": \"#888\", \"width\": 2}, \"fillcolor\": \"rgba(55, 128, 191, 0.6)\", \"opacity\": 0.5}]}, {\"showLink\": true, \"linkText\": \"Export to plot.ly\"})});</script>"
      ],
      "text/vnd.plotly.v1+html": [
       "<div id=\"ac892bbf-5c5f-42fc-9ef4-15222357e86d\" style=\"height: 485.2030263919617px; width: 988.7510598012988px;\" class=\"plotly-graph-div\"></div><script type=\"text/javascript\">require([\"plotly\"], function(Plotly) { window.PLOTLYENV=window.PLOTLYENV || {};window.PLOTLYENV.BASE_URL=\"https://plot.ly\";Plotly.newPlot(\"ac892bbf-5c5f-42fc-9ef4-15222357e86d\", [{\"type\": \"scatter\", \"x\": [50.0, 19.0, 19.0, 19.0, 50.0, 50.0, 50.0, 50.0, 50.0, 81.0, 81.0, 81.0, 81.0, -6.0, 106.0], \"y\": [100, 92, 89, 86, 92, 89, 86, 83, 80, 92, 89, 86, 83, 80, 100], \"text\": [\"test\", \"chromatin_state\", \"skeletal muscle: enhA1\", \"islet: promoter\", \"footprints\", \"islet: HNF4\", \"islet: PPARA\", \"hippocampus: TCF3\", \"skeletal muscle: STAT\", \"ChIP\", \"islet: FOXA2\", \"skeletal muscle: NKX2.2\", \"islet: CTCF\"], \"mode\": \"markers+text\", \"hoverinfo\": \"closest\", \"marker\": {\"color\": [], \"size\": 10, \"line\": {\"width\": 10}, \"opacity\": 0.0}}, {\"type\": \"scatter\", \"x\": [50.0, 19.0, null, 50.0, 50.0, null, 50.0, 81.0, null], \"y\": [98.5, 93.5, null, 98.5, 93.5, null, 98.5, 93.5, null], \"line\": {\"width\": 2, \"color\": \"#888\"}, \"hoverinfo\": \"none\", \"mode\": \"lines\"}], {\"width\": 988.7510598012988, \"height\": 485.2030263919617, \"xaxis\": {\"showgrid\": false, \"zeroline\": false, \"showline\": false, \"ticks\": \"\", \"showticklabels\": false}, \"yaxis\": {\"showgrid\": false, \"zeroline\": false, \"showline\": false, \"ticks\": \"\", \"showticklabels\": false}, \"showlegend\": false, \"shapes\": [{\"type\": \"rect\", \"xref\": \"x\", \"yref\": \"y\", \"x0\": 37.0, \"y0\": 98.5, \"x1\": 63.0, \"y1\": 101.5, \"line\": {\"color\": \"#888\", \"width\": 2}, \"fillcolor\": \"rgba(55, 128, 191, 0.6)\", \"opacity\": 0.5}, {\"type\": \"rect\", \"xref\": \"x\", \"yref\": \"y\", \"x0\": 6.0, \"y0\": 90.5, \"x1\": 32.0, \"y1\": 93.5, \"line\": {\"color\": \"#888\", \"width\": 2}, \"fillcolor\": \"rgba(55, 128, 191, 0.6)\", \"opacity\": 0.5}, {\"type\": \"rect\", \"xref\": \"x\", \"yref\": \"y\", \"x0\": 6.0, \"y0\": 87.5, \"x1\": 32.0, \"y1\": 90.5, \"line\": {\"color\": \"#888\", \"width\": 2}, \"fillcolor\": \"rgba(55, 128, 191, 0.6)\", \"opacity\": 0.5}, {\"type\": \"rect\", \"xref\": \"x\", \"yref\": \"y\", \"x0\": 6.0, \"y0\": 84.5, \"x1\": 32.0, \"y1\": 87.5, \"line\": {\"color\": \"#888\", \"width\": 2}, \"fillcolor\": \"rgba(55, 128, 191, 0.6)\", \"opacity\": 0.5}, {\"type\": \"rect\", \"xref\": \"x\", \"yref\": \"y\", \"x0\": 37.0, \"y0\": 90.5, \"x1\": 63.0, \"y1\": 93.5, \"line\": {\"color\": \"#888\", \"width\": 2}, \"fillcolor\": \"rgba(55, 128, 191, 0.6)\", \"opacity\": 0.5}, {\"type\": \"rect\", \"xref\": \"x\", \"yref\": \"y\", \"x0\": 37.0, \"y0\": 87.5, \"x1\": 63.0, \"y1\": 90.5, \"line\": {\"color\": \"#888\", \"width\": 2}, \"fillcolor\": \"rgba(55, 128, 191, 0.6)\", \"opacity\": 0.5}, {\"type\": \"rect\", \"xref\": \"x\", \"yref\": \"y\", \"x0\": 37.0, \"y0\": 84.5, \"x1\": 63.0, \"y1\": 87.5, \"line\": {\"color\": \"#888\", \"width\": 2}, \"fillcolor\": \"rgba(55, 128, 191, 0.6)\", \"opacity\": 0.5}, {\"type\": \"rect\", \"xref\": \"x\", \"yref\": \"y\", \"x0\": 37.0, \"y0\": 81.5, \"x1\": 63.0, \"y1\": 84.5, \"line\": {\"color\": \"#888\", \"width\": 2}, \"fillcolor\": \"rgba(55, 128, 191, 0.6)\", \"opacity\": 0.5}, {\"type\": \"rect\", \"xref\": \"x\", \"yref\": \"y\", \"x0\": 37.0, \"y0\": 78.5, \"x1\": 63.0, \"y1\": 81.5, \"line\": {\"color\": \"#888\", \"width\": 2}, \"fillcolor\": \"rgba(55, 128, 191, 0.6)\", \"opacity\": 0.5}, {\"type\": \"rect\", \"xref\": \"x\", \"yref\": \"y\", \"x0\": 68.0, \"y0\": 90.5, \"x1\": 94.0, \"y1\": 93.5, \"line\": {\"color\": \"#888\", \"width\": 2}, \"fillcolor\": \"rgba(55, 128, 191, 0.6)\", \"opacity\": 0.5}, {\"type\": \"rect\", \"xref\": \"x\", \"yref\": \"y\", \"x0\": 68.0, \"y0\": 87.5, \"x1\": 94.0, \"y1\": 90.5, \"line\": {\"color\": \"#888\", \"width\": 2}, \"fillcolor\": \"rgba(55, 128, 191, 0.6)\", \"opacity\": 0.5}, {\"type\": \"rect\", \"xref\": \"x\", \"yref\": \"y\", \"x0\": 68.0, \"y0\": 84.5, \"x1\": 94.0, \"y1\": 87.5, \"line\": {\"color\": \"#888\", \"width\": 2}, \"fillcolor\": \"rgba(55, 128, 191, 0.6)\", \"opacity\": 0.5}, {\"type\": \"rect\", \"xref\": \"x\", \"yref\": \"y\", \"x0\": 68.0, \"y0\": 81.5, \"x1\": 94.0, \"y1\": 84.5, \"line\": {\"color\": \"#888\", \"width\": 2}, \"fillcolor\": \"rgba(55, 128, 191, 0.6)\", \"opacity\": 0.5}]}, {\"showLink\": true, \"linkText\": \"Export to plot.ly\"})});</script>"
      ]
     },
     "metadata": {},
     "output_type": "display_data"
    }
   ],
   "source": [
    "#thing = json.loads(open(\"testing.json\").read())\n",
    "#plot(make_graph(var_data=thing, var_name=\"test\", plot_height=1000, plot_width=600))\n",
    "iplot(make_graph(var_data=var_data, var_name=\"test\", plot_height=500, plot_width=1000, box_height=3, box_width=22, offset=27))"
   ]
  },
  {
   "cell_type": "code",
   "execution_count": 6,
   "metadata": {},
   "outputs": [
    {
     "ename": "NameError",
     "evalue": "name 'rsid_url' is not defined",
     "output_type": "error",
     "traceback": [
      "\u001b[0;31m---------------------------------------------------------------------------\u001b[0m",
      "\u001b[0;31mNameError\u001b[0m                                 Traceback (most recent call last)",
      "\u001b[0;32m<ipython-input-6-063659d44ea6>\u001b[0m in \u001b[0;36m<module>\u001b[0;34m()\u001b[0m\n\u001b[1;32m      1\u001b[0m \u001b[0mrsid\u001b[0m \u001b[0;34m=\u001b[0m \u001b[0;34m\"rs11257655\"\u001b[0m\u001b[0;34m\u001b[0m\u001b[0m\n\u001b[1;32m      2\u001b[0m \u001b[0;31m#rsid = \"rs7903146\"\u001b[0m\u001b[0;34m\u001b[0m\u001b[0;34m\u001b[0m\u001b[0m\n\u001b[0;32m----> 3\u001b[0;31m \u001b[0;32mwith\u001b[0m \u001b[0murllib\u001b[0m\u001b[0;34m.\u001b[0m\u001b[0mrequest\u001b[0m\u001b[0;34m.\u001b[0m\u001b[0murlopen\u001b[0m\u001b[0;34m(\u001b[0m\u001b[0mrsid_url\u001b[0m\u001b[0;34m(\u001b[0m\u001b[0mrsid\u001b[0m\u001b[0;34m)\u001b[0m\u001b[0;34m)\u001b[0m \u001b[0;32mas\u001b[0m \u001b[0murl\u001b[0m\u001b[0;34m:\u001b[0m\u001b[0;34m\u001b[0m\u001b[0m\n\u001b[0m\u001b[1;32m      4\u001b[0m     \u001b[0mprint\u001b[0m\u001b[0;34m(\u001b[0m\u001b[0murl\u001b[0m\u001b[0;34m.\u001b[0m\u001b[0mread\u001b[0m\u001b[0;34m(\u001b[0m\u001b[0;34m)\u001b[0m\u001b[0;34m)\u001b[0m\u001b[0;34m\u001b[0m\u001b[0m\n\u001b[1;32m      5\u001b[0m     \u001b[0mjson_thing\u001b[0m \u001b[0;34m=\u001b[0m \u001b[0mjson\u001b[0m\u001b[0;34m.\u001b[0m\u001b[0mloads\u001b[0m\u001b[0;34m(\u001b[0m\u001b[0murl\u001b[0m\u001b[0;34m.\u001b[0m\u001b[0mread\u001b[0m\u001b[0;34m(\u001b[0m\u001b[0;34m)\u001b[0m\u001b[0;34m)\u001b[0m\u001b[0;34m\u001b[0m\u001b[0m\n",
      "\u001b[0;31mNameError\u001b[0m: name 'rsid_url' is not defined"
     ]
    }
   ],
   "source": [
    "rsid = \"rs11257655\"\n",
    "#rsid = \"rs7903146\"\n",
    "with urllib.request.urlopen(rsid_url(rsid)) as url:\n",
    "    print(url.read())\n",
    "    json_thing = json.loads(url.read())"
   ]
  },
  {
   "cell_type": "code",
   "execution_count": 43,
   "metadata": {},
   "outputs": [],
   "source": [
    "#new generate positions for specific biosample types:\n",
    "def generate_positions(var_data, var_name, vert_space=4, box_width=10, \\\n",
    "                       box_height=4, text_y0=100, plot_width=100, offset=20, expanded=True, biosamples=\"\"):\n",
    "    \n",
    "    #get number of annotations\n",
    "    num_annotations = len(var_data.keys())\n",
    "    num_sides = int(num_annotations/2)   \n",
    "    \n",
    "    positions = {\n",
    "        var_name: {\n",
    "            \"text-coords\": [plot_width/2, text_y0],\n",
    "            \"shape-coords\": [\n",
    "                [(plot_width/2)-box_width/2, text_y0-box_height/2],\n",
    "                [(plot_width/2)+box_width/2, text_y0+box_height/2]\n",
    "            ],\n",
    "            \"annotations\": {key: {\"items\": val} for key, val in var_data.items()}\n",
    "        }\n",
    "    }\n",
    "    \n",
    "    \n",
    "    for i, anno in enumerate(positions[var_name][\"annotations\"].keys()):\n",
    "        #get x offset:\n",
    "        if num_annotations % 2 == 1 and i == int(num_annotations/2)+1:\n",
    "            x_offset = positions[var_name][\"text-coords\"][0] + offset\n",
    "        elif i+1 <= num_sides: \n",
    "            x_offset = positions[var_name][\"text-coords\"][0] - offset*(i+1)\n",
    "        elif i+1 > num_sides and num_annotations % 2 == 1:\n",
    "            x_offset = positions[var_name][\"text-coords\"][0] + offset*(i-int(num_annotations/2))\n",
    "        else:\n",
    "            x_offset = positions[var_name][\"text-coords\"][0] + offset*((i+1)-int(num_annotations/2))\n",
    "            \n",
    "        #set text coordinates for this annotation\n",
    "        positions[var_name][\"annotations\"][anno][\"text-coords\"] = [\n",
    "            x_offset, \n",
    "            text_y0-(2*vert_space)\n",
    "        ]\n",
    "        \n",
    "        #set shape coordinates for this annotation\n",
    "        positions[var_name][\"annotations\"][anno][\"shape-coords\"] = [\n",
    "            [\n",
    "                positions[var_name][\"annotations\"][anno][\"text-coords\"][0]-box_width/2,\n",
    "                positions[var_name][\"annotations\"][anno][\"text-coords\"][1]-box_height/2\n",
    "            ],\n",
    "            [\n",
    "                positions[var_name][\"annotations\"][anno][\"text-coords\"][0]+box_width/2,\n",
    "                positions[var_name][\"annotations\"][anno][\"text-coords\"][1]+box_height/2\n",
    "            ]\n",
    "        ]\n",
    "        \n",
    "        if expanded == True:\n",
    "            for j, item in enumerate(positions[var_name][\"annotations\"][anno][\"items\"]):\n",
    "                print(\"cur biosample:\", item[\"biosample_term_name\"])\n",
    "                if item['biosample_term_name'] in biosamples:\n",
    "                    print(\"valid biosample\")\n",
    "                    if j == 0:\n",
    "                        item[\"text-coords\"] = [\n",
    "                            positions[var_name][\"annotations\"][anno][\"text-coords\"][0],\n",
    "                            positions[var_name][\"annotations\"][anno][\"text-coords\"][1] - box_height\n",
    "                        ]\n",
    "                    else:\n",
    "                        item[\"text-coords\"] = [\n",
    "                            positions[var_name][\"annotations\"][anno][\"items\"][j-1][\"text-coords\"][0],\n",
    "                            positions[var_name][\"annotations\"][anno][\"items\"][j-1][\"text-coords\"][1] - box_height\n",
    "                        ]\n",
    "                    item[\"shape-coords\"] = [\n",
    "                        [item[\"text-coords\"][0]-box_width/2, item[\"text-coords\"][1]-box_height/2],\n",
    "                        [item[\"text-coords\"][0]+box_width/2, item[\"text-coords\"][1]+box_height/2]\n",
    "                    ]\n",
    "\n",
    "    return positions"
   ]
  },
  {
   "cell_type": "code",
   "execution_count": 44,
   "metadata": {
    "scrolled": true
   },
   "outputs": [
    {
     "name": "stdout",
     "output_type": "stream",
     "text": [
      "biosamples: ['skeletal muscle tissue']\n",
      "cur biosample: skeletal muscle tissue\n",
      "valid biosample\n",
      "cur biosample: keratinocyte\n",
      "cur biosample: adipocyte\n",
      "cur biosample: liver\n",
      "cur biosample: mid-frontal lobe\n",
      "cur biosample: CD34-PB\n",
      "cur biosample: HepG2\n",
      "cur biosample: islet of Langerhans\n",
      "cur biosample: adipocyte\n",
      "cur biosample: skeletal muscle myoblast\n",
      "cur biosample: endothelial cell of umbilical vein\n",
      "cur biosample: layer of hippocampus\n",
      "cur biosample: GM12878\n",
      "cur biosample: mucosa of rectum\n",
      "cur biosample: substantia nigra\n",
      "cur biosample: duodenum mucosa\n",
      "cur biosample: rectal smooth muscle tissue\n",
      "cur biosample: ESC derived cell line\n",
      "cur biosample: skeletal muscle tissue\n",
      "valid biosample\n",
      "cur biosample: skeletal muscle tissue\n",
      "valid biosample\n",
      "cur biosample: skeletal muscle tissue\n",
      "valid biosample\n",
      "cur biosample: skeletal muscle tissue\n",
      "valid biosample\n",
      "cur biosample: keratinocyte\n",
      "cur biosample: keratinocyte\n",
      "cur biosample: keratinocyte\n",
      "cur biosample: adipocyte\n",
      "cur biosample: adipocyte\n",
      "cur biosample: liver\n",
      "cur biosample: mid-frontal lobe\n",
      "cur biosample: mid-frontal lobe\n",
      "cur biosample: mid-frontal lobe\n",
      "cur biosample: CD34-PB\n",
      "cur biosample: CD34-PB\n",
      "cur biosample: CD34-PB\n",
      "cur biosample: HepG2\n",
      "cur biosample: HepG2\n",
      "cur biosample: HepG2\n",
      "cur biosample: islet of Langerhans\n",
      "cur biosample: islet of Langerhans\n",
      "cur biosample: islet of Langerhans\n"
     ]
    },
    {
     "data": {
      "application/vnd.plotly.v1+json": {
       "data": [
        {
         "hoverinfo": "closest",
         "marker": {
          "color": [],
          "line": {
           "width": 10
          },
          "opacity": 0,
          "size": 10
         },
         "mode": "markers+text",
         "text": [
          "test",
          "chromatin state",
          "skeletal muscle tissue: 6_Weak_transcription",
          "footprint",
          "skeletal muscle tissue: HNF4",
          "skeletal muscle tissue: STAT",
          "skeletal muscle tissue: PPARA",
          "skeletal muscle tissue: TCF3"
         ],
         "type": "scatter",
         "x": [
          50,
          4,
          4,
          96,
          96,
          96,
          96,
          96,
          -21,
          121
         ],
         "y": [
          100,
          92,
          88,
          92,
          88,
          84,
          80,
          76,
          76,
          100
         ]
        },
        {
         "hoverinfo": "none",
         "line": {
          "color": "#888",
          "width": 2
         },
         "mode": "lines",
         "type": "scatter",
         "x": [
          50,
          4,
          null,
          50,
          96,
          null
         ],
         "y": [
          98,
          94,
          null,
          98,
          94,
          null
         ]
        }
       ],
       "layout": {
        "height": 485.2030263919617,
        "shapes": [
         {
          "fillcolor": "rgba(55, 128, 191, 0.6)",
          "line": {
           "color": "#888",
           "width": 2
          },
          "opacity": 0.5,
          "type": "rect",
          "x0": 29.5,
          "x1": 70.5,
          "xref": "x",
          "y0": 98,
          "y1": 102,
          "yref": "y"
         },
         {
          "fillcolor": "rgba(55, 128, 191, 0.6)",
          "line": {
           "color": "#888",
           "width": 2
          },
          "opacity": 0.5,
          "type": "rect",
          "x0": -16.5,
          "x1": 24.5,
          "xref": "x",
          "y0": 90,
          "y1": 94,
          "yref": "y"
         },
         {
          "fillcolor": "rgba(55, 128, 191, 0.6)",
          "line": {
           "color": "#888",
           "width": 2
          },
          "opacity": 0.5,
          "type": "rect",
          "x0": -16.5,
          "x1": 24.5,
          "xref": "x",
          "y0": 86,
          "y1": 90,
          "yref": "y"
         },
         {
          "fillcolor": "rgba(55, 128, 191, 0.6)",
          "line": {
           "color": "#888",
           "width": 2
          },
          "opacity": 0.5,
          "type": "rect",
          "x0": 75.5,
          "x1": 116.5,
          "xref": "x",
          "y0": 90,
          "y1": 94,
          "yref": "y"
         },
         {
          "fillcolor": "rgba(55, 128, 191, 0.6)",
          "line": {
           "color": "#888",
           "width": 2
          },
          "opacity": 0.5,
          "type": "rect",
          "x0": 75.5,
          "x1": 116.5,
          "xref": "x",
          "y0": 86,
          "y1": 90,
          "yref": "y"
         },
         {
          "fillcolor": "rgba(55, 128, 191, 0.6)",
          "line": {
           "color": "#888",
           "width": 2
          },
          "opacity": 0.5,
          "type": "rect",
          "x0": 75.5,
          "x1": 116.5,
          "xref": "x",
          "y0": 82,
          "y1": 86,
          "yref": "y"
         },
         {
          "fillcolor": "rgba(55, 128, 191, 0.6)",
          "line": {
           "color": "#888",
           "width": 2
          },
          "opacity": 0.5,
          "type": "rect",
          "x0": 75.5,
          "x1": 116.5,
          "xref": "x",
          "y0": 78,
          "y1": 82,
          "yref": "y"
         },
         {
          "fillcolor": "rgba(55, 128, 191, 0.6)",
          "line": {
           "color": "#888",
           "width": 2
          },
          "opacity": 0.5,
          "type": "rect",
          "x0": 75.5,
          "x1": 116.5,
          "xref": "x",
          "y0": 74,
          "y1": 78,
          "yref": "y"
         }
        ],
        "showlegend": false,
        "width": 623.8324625039508,
        "xaxis": {
         "showgrid": false,
         "showline": false,
         "showticklabels": false,
         "ticks": "",
         "zeroline": false
        },
        "yaxis": {
         "showgrid": false,
         "showline": false,
         "showticklabels": false,
         "ticks": "",
         "zeroline": false
        }
       }
      },
      "text/html": [
       "<div id=\"15910eb1-59c3-43b6-bf75-8555e0d691f0\" style=\"height: 485.2030263919617px; width: 623.8324625039508px;\" class=\"plotly-graph-div\"></div><script type=\"text/javascript\">require([\"plotly\"], function(Plotly) { window.PLOTLYENV=window.PLOTLYENV || {};window.PLOTLYENV.BASE_URL=\"https://plot.ly\";Plotly.newPlot(\"15910eb1-59c3-43b6-bf75-8555e0d691f0\", [{\"type\": \"scatter\", \"x\": [50.0, 4.0, 4.0, 96.0, 96.0, 96.0, 96.0, 96.0, -21.0, 121.0], \"y\": [100, 92, 88, 92, 88, 84, 80, 76, 76, 100], \"text\": [\"test\", \"chromatin state\", \"skeletal muscle tissue: 6_Weak_transcription\", \"footprint\", \"skeletal muscle tissue: HNF4\", \"skeletal muscle tissue: STAT\", \"skeletal muscle tissue: PPARA\", \"skeletal muscle tissue: TCF3\"], \"mode\": \"markers+text\", \"hoverinfo\": \"closest\", \"marker\": {\"color\": [], \"size\": 10, \"line\": {\"width\": 10}, \"opacity\": 0.0}}, {\"type\": \"scatter\", \"x\": [50.0, 4.0, null, 50.0, 96.0, null], \"y\": [98.0, 94.0, null, 98.0, 94.0, null], \"line\": {\"width\": 2, \"color\": \"#888\"}, \"hoverinfo\": \"none\", \"mode\": \"lines\"}], {\"width\": 623.8324625039508, \"height\": 485.2030263919617, \"xaxis\": {\"showgrid\": false, \"zeroline\": false, \"showline\": false, \"ticks\": \"\", \"showticklabels\": false}, \"yaxis\": {\"showgrid\": false, \"zeroline\": false, \"showline\": false, \"ticks\": \"\", \"showticklabels\": false}, \"showlegend\": false, \"shapes\": [{\"type\": \"rect\", \"xref\": \"x\", \"yref\": \"y\", \"x0\": 29.5, \"y0\": 98.0, \"x1\": 70.5, \"y1\": 102.0, \"line\": {\"color\": \"#888\", \"width\": 2}, \"fillcolor\": \"rgba(55, 128, 191, 0.6)\", \"opacity\": 0.5}, {\"type\": \"rect\", \"xref\": \"x\", \"yref\": \"y\", \"x0\": -16.5, \"y0\": 90.0, \"x1\": 24.5, \"y1\": 94.0, \"line\": {\"color\": \"#888\", \"width\": 2}, \"fillcolor\": \"rgba(55, 128, 191, 0.6)\", \"opacity\": 0.5}, {\"type\": \"rect\", \"xref\": \"x\", \"yref\": \"y\", \"x0\": -16.5, \"y0\": 86.0, \"x1\": 24.5, \"y1\": 90.0, \"line\": {\"color\": \"#888\", \"width\": 2}, \"fillcolor\": \"rgba(55, 128, 191, 0.6)\", \"opacity\": 0.5}, {\"type\": \"rect\", \"xref\": \"x\", \"yref\": \"y\", \"x0\": 75.5, \"y0\": 90.0, \"x1\": 116.5, \"y1\": 94.0, \"line\": {\"color\": \"#888\", \"width\": 2}, \"fillcolor\": \"rgba(55, 128, 191, 0.6)\", \"opacity\": 0.5}, {\"type\": \"rect\", \"xref\": \"x\", \"yref\": \"y\", \"x0\": 75.5, \"y0\": 86.0, \"x1\": 116.5, \"y1\": 90.0, \"line\": {\"color\": \"#888\", \"width\": 2}, \"fillcolor\": \"rgba(55, 128, 191, 0.6)\", \"opacity\": 0.5}, {\"type\": \"rect\", \"xref\": \"x\", \"yref\": \"y\", \"x0\": 75.5, \"y0\": 82.0, \"x1\": 116.5, \"y1\": 86.0, \"line\": {\"color\": \"#888\", \"width\": 2}, \"fillcolor\": \"rgba(55, 128, 191, 0.6)\", \"opacity\": 0.5}, {\"type\": \"rect\", \"xref\": \"x\", \"yref\": \"y\", \"x0\": 75.5, \"y0\": 78.0, \"x1\": 116.5, \"y1\": 82.0, \"line\": {\"color\": \"#888\", \"width\": 2}, \"fillcolor\": \"rgba(55, 128, 191, 0.6)\", \"opacity\": 0.5}, {\"type\": \"rect\", \"xref\": \"x\", \"yref\": \"y\", \"x0\": 75.5, \"y0\": 74.0, \"x1\": 116.5, \"y1\": 78.0, \"line\": {\"color\": \"#888\", \"width\": 2}, \"fillcolor\": \"rgba(55, 128, 191, 0.6)\", \"opacity\": 0.5}]}, {\"showLink\": true, \"linkText\": \"Export to plot.ly\"})});</script>"
      ],
      "text/vnd.plotly.v1+html": [
       "<div id=\"15910eb1-59c3-43b6-bf75-8555e0d691f0\" style=\"height: 485.2030263919617px; width: 623.8324625039508px;\" class=\"plotly-graph-div\"></div><script type=\"text/javascript\">require([\"plotly\"], function(Plotly) { window.PLOTLYENV=window.PLOTLYENV || {};window.PLOTLYENV.BASE_URL=\"https://plot.ly\";Plotly.newPlot(\"15910eb1-59c3-43b6-bf75-8555e0d691f0\", [{\"type\": \"scatter\", \"x\": [50.0, 4.0, 4.0, 96.0, 96.0, 96.0, 96.0, 96.0, -21.0, 121.0], \"y\": [100, 92, 88, 92, 88, 84, 80, 76, 76, 100], \"text\": [\"test\", \"chromatin state\", \"skeletal muscle tissue: 6_Weak_transcription\", \"footprint\", \"skeletal muscle tissue: HNF4\", \"skeletal muscle tissue: STAT\", \"skeletal muscle tissue: PPARA\", \"skeletal muscle tissue: TCF3\"], \"mode\": \"markers+text\", \"hoverinfo\": \"closest\", \"marker\": {\"color\": [], \"size\": 10, \"line\": {\"width\": 10}, \"opacity\": 0.0}}, {\"type\": \"scatter\", \"x\": [50.0, 4.0, null, 50.0, 96.0, null], \"y\": [98.0, 94.0, null, 98.0, 94.0, null], \"line\": {\"width\": 2, \"color\": \"#888\"}, \"hoverinfo\": \"none\", \"mode\": \"lines\"}], {\"width\": 623.8324625039508, \"height\": 485.2030263919617, \"xaxis\": {\"showgrid\": false, \"zeroline\": false, \"showline\": false, \"ticks\": \"\", \"showticklabels\": false}, \"yaxis\": {\"showgrid\": false, \"zeroline\": false, \"showline\": false, \"ticks\": \"\", \"showticklabels\": false}, \"showlegend\": false, \"shapes\": [{\"type\": \"rect\", \"xref\": \"x\", \"yref\": \"y\", \"x0\": 29.5, \"y0\": 98.0, \"x1\": 70.5, \"y1\": 102.0, \"line\": {\"color\": \"#888\", \"width\": 2}, \"fillcolor\": \"rgba(55, 128, 191, 0.6)\", \"opacity\": 0.5}, {\"type\": \"rect\", \"xref\": \"x\", \"yref\": \"y\", \"x0\": -16.5, \"y0\": 90.0, \"x1\": 24.5, \"y1\": 94.0, \"line\": {\"color\": \"#888\", \"width\": 2}, \"fillcolor\": \"rgba(55, 128, 191, 0.6)\", \"opacity\": 0.5}, {\"type\": \"rect\", \"xref\": \"x\", \"yref\": \"y\", \"x0\": -16.5, \"y0\": 86.0, \"x1\": 24.5, \"y1\": 90.0, \"line\": {\"color\": \"#888\", \"width\": 2}, \"fillcolor\": \"rgba(55, 128, 191, 0.6)\", \"opacity\": 0.5}, {\"type\": \"rect\", \"xref\": \"x\", \"yref\": \"y\", \"x0\": 75.5, \"y0\": 90.0, \"x1\": 116.5, \"y1\": 94.0, \"line\": {\"color\": \"#888\", \"width\": 2}, \"fillcolor\": \"rgba(55, 128, 191, 0.6)\", \"opacity\": 0.5}, {\"type\": \"rect\", \"xref\": \"x\", \"yref\": \"y\", \"x0\": 75.5, \"y0\": 86.0, \"x1\": 116.5, \"y1\": 90.0, \"line\": {\"color\": \"#888\", \"width\": 2}, \"fillcolor\": \"rgba(55, 128, 191, 0.6)\", \"opacity\": 0.5}, {\"type\": \"rect\", \"xref\": \"x\", \"yref\": \"y\", \"x0\": 75.5, \"y0\": 82.0, \"x1\": 116.5, \"y1\": 86.0, \"line\": {\"color\": \"#888\", \"width\": 2}, \"fillcolor\": \"rgba(55, 128, 191, 0.6)\", \"opacity\": 0.5}, {\"type\": \"rect\", \"xref\": \"x\", \"yref\": \"y\", \"x0\": 75.5, \"y0\": 78.0, \"x1\": 116.5, \"y1\": 82.0, \"line\": {\"color\": \"#888\", \"width\": 2}, \"fillcolor\": \"rgba(55, 128, 191, 0.6)\", \"opacity\": 0.5}, {\"type\": \"rect\", \"xref\": \"x\", \"yref\": \"y\", \"x0\": 75.5, \"y0\": 74.0, \"x1\": 116.5, \"y1\": 78.0, \"line\": {\"color\": \"#888\", \"width\": 2}, \"fillcolor\": \"rgba(55, 128, 191, 0.6)\", \"opacity\": 0.5}]}, {\"showLink\": true, \"linkText\": \"Export to plot.ly\"})});</script>"
      ]
     },
     "metadata": {},
     "output_type": "display_data"
    }
   ],
   "source": [
    "thing = json.loads(open(\"../testing_files/testing.json\").read())\n",
    "iplot(make_graph(var_data=thing, var_name=\"test\",box_height=4, biosamples=[\"skeletal muscle tissue\"]))"
   ]
  },
  {
   "cell_type": "code",
   "execution_count": null,
   "metadata": {},
   "outputs": [],
   "source": []
  },
  {
   "cell_type": "code",
   "execution_count": 13,
   "metadata": {
    "scrolled": false
   },
   "outputs": [
    {
     "ename": "NameError",
     "evalue": "name 'json_thing' is not defined",
     "output_type": "error",
     "traceback": [
      "\u001b[0;31m---------------------------------------------------------------------------\u001b[0m",
      "\u001b[0;31mNameError\u001b[0m                                 Traceback (most recent call last)",
      "\u001b[0;32m<ipython-input-13-43b549f5f58b>\u001b[0m in \u001b[0;36m<module>\u001b[0;34m()\u001b[0m\n\u001b[1;32m      1\u001b[0m \u001b[0mthing\u001b[0m \u001b[0;34m=\u001b[0m \u001b[0mjson\u001b[0m\u001b[0;34m.\u001b[0m\u001b[0mloads\u001b[0m\u001b[0;34m(\u001b[0m\u001b[0mopen\u001b[0m\u001b[0;34m(\u001b[0m\u001b[0;34m\"../testing_files/testing.json\"\u001b[0m\u001b[0;34m)\u001b[0m\u001b[0;34m.\u001b[0m\u001b[0mread\u001b[0m\u001b[0;34m(\u001b[0m\u001b[0;34m)\u001b[0m\u001b[0;34m)\u001b[0m\u001b[0;34m\u001b[0m\u001b[0m\n\u001b[0;32m----> 2\u001b[0;31m \u001b[0miplot\u001b[0m\u001b[0;34m(\u001b[0m\u001b[0mmake_graph\u001b[0m\u001b[0;34m(\u001b[0m\u001b[0mvar_data\u001b[0m\u001b[0;34m=\u001b[0m\u001b[0mjson_thing\u001b[0m\u001b[0;34m,\u001b[0m \u001b[0mvar_name\u001b[0m\u001b[0;34m=\u001b[0m\u001b[0;34m\"test\"\u001b[0m\u001b[0;34m,\u001b[0m \u001b[0mplot_height\u001b[0m\u001b[0;34m=\u001b[0m\u001b[0;36m1000\u001b[0m\u001b[0;34m,\u001b[0m \u001b[0mplot_width\u001b[0m\u001b[0;34m=\u001b[0m\u001b[0;36m2000\u001b[0m\u001b[0;34m,\u001b[0m \u001b[0mbox_height\u001b[0m\u001b[0;34m=\u001b[0m\u001b[0;36m4\u001b[0m\u001b[0;34m,\u001b[0m \u001b[0mbox_width\u001b[0m\u001b[0;34m=\u001b[0m\u001b[0;36m20\u001b[0m\u001b[0;34m)\u001b[0m\u001b[0;34m)\u001b[0m\u001b[0;34m\u001b[0m\u001b[0m\n\u001b[0m",
      "\u001b[0;31mNameError\u001b[0m: name 'json_thing' is not defined"
     ]
    }
   ],
   "source": [
    "iplot(make_graph(var_data=json_thing, var_name=\"test\", plot_height=1000, plot_width=2000, box_height=4, box_width=20))"
   ]
  },
  {
   "cell_type": "code",
   "execution_count": 47,
   "metadata": {},
   "outputs": [
    {
     "name": "stdout",
     "output_type": "stream",
     "text": [
      "9\n"
     ]
    }
   ],
   "source": [
    "mything = [i for i in range(10)]\n",
    "print(mything[-1])"
   ]
  },
  {
   "cell_type": "code",
   "execution_count": 45,
   "metadata": {},
   "outputs": [
    {
     "data": {
      "text/plain": [
       "['A',\n",
       " 'Abbr',\n",
       " 'Acronym',\n",
       " 'Address',\n",
       " 'Area',\n",
       " 'Article',\n",
       " 'Aside',\n",
       " 'Audio',\n",
       " 'B',\n",
       " 'Base',\n",
       " 'Basefont',\n",
       " 'Bdi',\n",
       " 'Bdo',\n",
       " 'Big',\n",
       " 'Blink',\n",
       " 'Blockquote',\n",
       " 'Br',\n",
       " 'Button',\n",
       " 'Canvas',\n",
       " 'Caption',\n",
       " 'Center',\n",
       " 'Cite',\n",
       " 'Code',\n",
       " 'Col',\n",
       " 'Colgroup',\n",
       " 'Command',\n",
       " 'Content',\n",
       " 'Data',\n",
       " 'Datalist',\n",
       " 'Dd',\n",
       " 'Del',\n",
       " 'Details',\n",
       " 'Dfn',\n",
       " 'Dialog',\n",
       " 'Div',\n",
       " 'Dl',\n",
       " 'Dt',\n",
       " 'Element',\n",
       " 'Em',\n",
       " 'Embed',\n",
       " 'Fieldset',\n",
       " 'Figcaption',\n",
       " 'Figure',\n",
       " 'Font',\n",
       " 'Footer',\n",
       " 'Form',\n",
       " 'Frame',\n",
       " 'Frameset',\n",
       " 'H1',\n",
       " 'H2',\n",
       " 'H3',\n",
       " 'H4',\n",
       " 'H5',\n",
       " 'H6',\n",
       " 'Header',\n",
       " 'Hgroup',\n",
       " 'Hr',\n",
       " 'I',\n",
       " 'Iframe',\n",
       " 'Img',\n",
       " 'Ins',\n",
       " 'Isindex',\n",
       " 'Kbd',\n",
       " 'Keygen',\n",
       " 'Label',\n",
       " 'Legend',\n",
       " 'Li',\n",
       " 'Link',\n",
       " 'Listing',\n",
       " 'Main',\n",
       " 'MapEl',\n",
       " 'Mark',\n",
       " 'Marquee',\n",
       " 'Meta',\n",
       " 'Meter',\n",
       " 'Multicol',\n",
       " 'Nav',\n",
       " 'Nextid',\n",
       " 'Nobr',\n",
       " 'Noscript',\n",
       " 'ObjectEl',\n",
       " 'Ol',\n",
       " 'Optgroup',\n",
       " 'Option',\n",
       " 'Output',\n",
       " 'P',\n",
       " 'Param',\n",
       " 'Picture',\n",
       " 'Plaintext',\n",
       " 'Pre',\n",
       " 'Progress',\n",
       " 'Q',\n",
       " 'Rp',\n",
       " 'Rt',\n",
       " 'Rtc',\n",
       " 'Ruby',\n",
       " 'S',\n",
       " 'Samp',\n",
       " 'Script',\n",
       " 'Section',\n",
       " 'Select',\n",
       " 'Shadow',\n",
       " 'Slot',\n",
       " 'Small',\n",
       " 'Source',\n",
       " 'Spacer',\n",
       " 'Span',\n",
       " 'Strike',\n",
       " 'Strong',\n",
       " 'Sub',\n",
       " 'Summary',\n",
       " 'Sup',\n",
       " 'Table',\n",
       " 'Tbody',\n",
       " 'Td',\n",
       " 'Template',\n",
       " 'Textarea',\n",
       " 'Tfoot',\n",
       " 'Th',\n",
       " 'Thead',\n",
       " 'Time',\n",
       " 'Title',\n",
       " 'Tr',\n",
       " 'Track',\n",
       " 'U',\n",
       " 'Ul',\n",
       " 'Var',\n",
       " 'Video',\n",
       " 'Wbr',\n",
       " 'Xmp',\n",
       " '_',\n",
       " '__builtins__',\n",
       " '__cached__',\n",
       " '__doc__',\n",
       " '__file__',\n",
       " '__loader__',\n",
       " '__name__',\n",
       " '__package__',\n",
       " '__path__',\n",
       " '__spec__',\n",
       " '__version__',\n",
       " '_components',\n",
       " '_current_path',\n",
       " '_dash',\n",
       " '_js_dist',\n",
       " '_os',\n",
       " '_sys',\n",
       " '_this_module',\n",
       " 'component',\n",
       " 'version']"
      ]
     },
     "execution_count": 45,
     "metadata": {},
     "output_type": "execute_result"
    }
   ],
   "source": [
    "dir(html)"
   ]
  },
  {
   "cell_type": "code",
   "execution_count": null,
   "metadata": {},
   "outputs": [],
   "source": []
  }
 ],
 "metadata": {
  "kernelspec": {
   "display_name": "Python 3",
   "language": "python",
   "name": "python3"
  },
  "language_info": {
   "codemirror_mode": {
    "name": "ipython",
    "version": 3
   },
   "file_extension": ".py",
   "mimetype": "text/x-python",
   "name": "python",
   "nbconvert_exporter": "python",
   "pygments_lexer": "ipython3",
   "version": "3.6.5"
  }
 },
 "nbformat": 4,
 "nbformat_minor": 2
}
