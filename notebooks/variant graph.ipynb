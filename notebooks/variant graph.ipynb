{
 "cells": [
  {
   "cell_type": "code",
   "execution_count": 124,
   "metadata": {},
   "outputs": [
    {
     "data": {
      "text/html": [
       "<script>requirejs.config({paths: { 'plotly': ['https://cdn.plot.ly/plotly-latest.min']},});if(!window.Plotly) {{require(['plotly'],function(plotly) {window.Plotly=plotly;});}}</script>"
      ],
      "text/vnd.plotly.v1+html": [
       "<script>requirejs.config({paths: { 'plotly': ['https://cdn.plot.ly/plotly-latest.min']},});if(!window.Plotly) {{require(['plotly'],function(plotly) {window.Plotly=plotly;});}}</script>"
      ]
     },
     "metadata": {},
     "output_type": "display_data"
    }
   ],
   "source": [
    "import plotly\n",
    "import plotly.plotly as py\n",
    "import plotly.graph_objs as go\n",
    "import plotly.figure_factory as ff\n",
    "from plotly.offline import download_plotlyjs, init_notebook_mode, plot, iplot\n",
    "import numpy as np\n",
    "import json\n",
    "import urllib.request\n",
    "import numpy as np\n",
    "import time\n",
    "import dash\n",
    "import dash_core_components as dcc\n",
    "import dash_html_components as html\n",
    "import colorlover as cl\n",
    "from IPython.display import HTML\n",
    "\n",
    "#authenticate plotly:\n",
    "plotly.tools.set_credentials_file(username='smorabito', api_key='BoBmLuy3saDfBmpvhsM7')\n",
    "\n",
    "#necessary for plotly offline:\n",
    "init_notebook_mode(connected=True)"
   ]
  },
  {
   "cell_type": "code",
   "execution_count": 5,
   "metadata": {},
   "outputs": [
    {
     "name": "stdout",
     "output_type": "stream",
     "text": [
      "a dict_values([[[0, 0], [1, 1]]])\n",
      "items: [[0, 0], [1, 1]] \n",
      "\n",
      "a: dict_values([[[1, 0], [1, 1]]])\n",
      "items: [[1, 0], [1, 1]] \n",
      "\n",
      "a: dict_values([[[1, 0], [1, 1]]])\n",
      "items []\n"
     ]
    }
   ],
   "source": [
    "items = [[0,0], [1,1]]\n",
    "\n",
    "a = {\"items\": items}\n",
    "print(\"a\", a.values())\n",
    "print(\"items:\", items, \"\\n\")\n",
    "\n",
    "items[0][0] += 1\n",
    "\n",
    "print(\"a:\", a.values())\n",
    "print(\"items:\", items, \"\\n\")\n",
    "\n",
    "items = []\n",
    "\n",
    "print(\"a:\", a.values())\n",
    "print(\"items\", items)"
   ]
  },
  {
   "cell_type": "code",
   "execution_count": 6,
   "metadata": {},
   "outputs": [
    {
     "data": {
      "application/vnd.plotly.v1+json": {
       "data": [
        {
         "hoverinfo": "text",
         "hoveron": "points",
         "hovertext": [
          "test 0",
          "test 1",
          "test 2",
          "test 3",
          "test 4",
          "test 5",
          "test 6",
          "test 7",
          "test 8",
          "test 9"
         ],
         "mode": "markers+text",
         "name": "markers",
         "text": [
          "test 0",
          "test 1",
          "test 2",
          "test 3",
          "test 4",
          "test 5",
          "test 6",
          "test 7",
          "test 8",
          "test 9"
         ],
         "textposition": "bottom",
         "type": "scatter",
         "x": [
          1,
          1,
          1,
          1,
          1
         ],
         "y": [
          0,
          1,
          2,
          3,
          4
         ]
        }
       ],
       "layout": {
        "showlegend": false,
        "xaxis": {
         "showticklabels": false,
         "ticks": "",
         "zeroline": false
        },
        "yaxis": {
         "showline": false,
         "showticklabels": false,
         "ticks": "",
         "zeroline": false
        }
       }
      },
      "text/html": [
       "<div id=\"1ebe222d-41d9-4c67-aaab-d70224587a15\" style=\"height: 525px; width: 100%;\" class=\"plotly-graph-div\"></div><script type=\"text/javascript\">require([\"plotly\"], function(Plotly) { window.PLOTLYENV=window.PLOTLYENV || {};window.PLOTLYENV.BASE_URL=\"https://plot.ly\";Plotly.newPlot(\"1ebe222d-41d9-4c67-aaab-d70224587a15\", [{\"type\": \"scatter\", \"x\": [1, 1, 1, 1, 1], \"y\": [0, 1, 2, 3, 4], \"text\": [\"test 0\", \"test 1\", \"test 2\", \"test 3\", \"test 4\", \"test 5\", \"test 6\", \"test 7\", \"test 8\", \"test 9\"], \"mode\": \"markers+text\", \"name\": \"markers\", \"hoverinfo\": \"text\", \"hovertext\": [\"test 0\", \"test 1\", \"test 2\", \"test 3\", \"test 4\", \"test 5\", \"test 6\", \"test 7\", \"test 8\", \"test 9\"], \"textposition\": \"bottom\", \"hoveron\": \"points\"}], {\"xaxis\": {\"ticks\": \"\", \"zeroline\": false, \"showticklabels\": false}, \"yaxis\": {\"zeroline\": false, \"showline\": false, \"ticks\": \"\", \"showticklabels\": false}, \"showlegend\": false}, {\"showLink\": true, \"linkText\": \"Export to plot.ly\"})});</script>"
      ],
      "text/vnd.plotly.v1+html": [
       "<div id=\"1ebe222d-41d9-4c67-aaab-d70224587a15\" style=\"height: 525px; width: 100%;\" class=\"plotly-graph-div\"></div><script type=\"text/javascript\">require([\"plotly\"], function(Plotly) { window.PLOTLYENV=window.PLOTLYENV || {};window.PLOTLYENV.BASE_URL=\"https://plot.ly\";Plotly.newPlot(\"1ebe222d-41d9-4c67-aaab-d70224587a15\", [{\"type\": \"scatter\", \"x\": [1, 1, 1, 1, 1], \"y\": [0, 1, 2, 3, 4], \"text\": [\"test 0\", \"test 1\", \"test 2\", \"test 3\", \"test 4\", \"test 5\", \"test 6\", \"test 7\", \"test 8\", \"test 9\"], \"mode\": \"markers+text\", \"name\": \"markers\", \"hoverinfo\": \"text\", \"hovertext\": [\"test 0\", \"test 1\", \"test 2\", \"test 3\", \"test 4\", \"test 5\", \"test 6\", \"test 7\", \"test 8\", \"test 9\"], \"textposition\": \"bottom\", \"hoveron\": \"points\"}], {\"xaxis\": {\"ticks\": \"\", \"zeroline\": false, \"showticklabels\": false}, \"yaxis\": {\"zeroline\": false, \"showline\": false, \"ticks\": \"\", \"showticklabels\": false}, \"showlegend\": false}, {\"showLink\": true, \"linkText\": \"Export to plot.ly\"})});</script>"
      ]
     },
     "metadata": {},
     "output_type": "display_data"
    }
   ],
   "source": [
    "tr = go.Scatter(\n",
    "    x = [1,1,1,1,1],\n",
    "    y = [0,1,2,3,4],\n",
    "    text = [\"test \" + str(i) for i in range(10)],\n",
    "    mode = 'markers+text',\n",
    "    name = 'markers',\n",
    "    hoverinfo='text',\n",
    "    hovertext = [\"test \" + str(i) for i in range(10)],\n",
    "    textposition = 'bottom',\n",
    "    hoveron = 'points'\n",
    ")\n",
    "\n",
    "layout = go.Layout(\n",
    "    xaxis = dict(\n",
    "        ticks='',\n",
    "        zeroline=False,\n",
    "        showticklabels=False\n",
    "    ),\n",
    "    yaxis = dict(\n",
    "        zeroline=False,\n",
    "        showline=False,\n",
    "        ticks='',\n",
    "        showticklabels=False\n",
    "    ),\n",
    "    showlegend=False,\n",
    ")\n",
    "\n",
    "fig = go.Figure(data=[tr], layout=layout)\n",
    "iplot(fig)"
   ]
  },
  {
   "cell_type": "code",
   "execution_count": 156,
   "metadata": {},
   "outputs": [
    {
     "data": {
      "text/html": [
       "<div style=\"background-color:rgb(166,206,227);height:20px;width:20px;display:inline-block;\"></div><div style=\"background-color:rgb(31,120,180);height:20px;width:20px;display:inline-block;\"></div><div style=\"background-color:rgb(178,223,138);height:20px;width:20px;display:inline-block;\"></div><div style=\"background-color:rgb(51,160,44);height:20px;width:20px;display:inline-block;\"></div><div style=\"background-color:rgb(251,154,153);height:20px;width:20px;display:inline-block;\"></div><div style=\"background-color:rgb(227,26,28);height:20px;width:20px;display:inline-block;\"></div><div style=\"background-color:rgb(253,191,111);height:20px;width:20px;display:inline-block;\"></div><div style=\"background-color:rgb(255,127,0);height:20px;width:20px;display:inline-block;\"></div><div style=\"background-color:rgb(202,178,214);height:20px;width:20px;display:inline-block;\"></div><div style=\"background-color:rgb(106,61,154);height:20px;width:20px;display:inline-block;\"></div><div style=\"background-color:rgb(255,255,153);height:20px;width:20px;display:inline-block;\"></div>"
      ],
      "text/plain": [
       "<IPython.core.display.HTML object>"
      ]
     },
     "execution_count": 156,
     "metadata": {},
     "output_type": "execute_result"
    }
   ],
   "source": [
    "#color interpolation\n",
    "c = cl.scales['11']['qual']['Paired']\n",
    "HTML( cl.to_html(c) )"
   ]
  },
  {
   "cell_type": "code",
   "execution_count": 158,
   "metadata": {},
   "outputs": [
    {
     "data": {
      "text/html": [
       "<div style=\"background-color:hsl(76.0, 52.0%, 77.0%);height:20px;width:20px;display:inline-block;\"></div><div style=\"background-color:hsl(118.06896551724137, 58.206896551724135%, 64.58620689655173%);height:20px;width:20px;display:inline-block;\"></div><div style=\"background-color:hsl(160.13793103448273, 64.41379310344827%, 52.17241379310345%);height:20px;width:20px;display:inline-block;\"></div><div style=\"background-color:hsl(194.3103448275862, 69.55172413793103%, 42.0%);height:20px;width:20px;display:inline-block;\"></div><div style=\"background-color:hsl(157.41379310344828, 65.06896551724138%, 52.0%);height:20px;width:20px;display:inline-block;\"></div><div style=\"background-color:hsl(120.51724137931036, 60.58620689655173%, 61.99999999999999%);height:20px;width:20px;display:inline-block;\"></div><div style=\"background-color:hsl(92.72413793103449, 56.93103448275862%, 67.93103448275862%);height:20px;width:20px;display:inline-block;\"></div><div style=\"background-color:hsl(101.34482758620689, 56.58620689655172%, 57.58620689655173%);height:20px;width:20px;display:inline-block;\"></div><div style=\"background-color:hsl(109.9655172413793, 56.241379310344826%, 47.24137931034483%);height:20px;width:20px;display:inline-block;\"></div><div style=\"background-color:hsl(104.00000000000003, 59.72413793103447%, 44.034482758620676%);height:20px;width:20px;display:inline-block;\"></div><div style=\"background-color:hsl(64.00000000000006, 72.13793103448275%, 57.48275862068964%);height:20px;width:20px;display:inline-block;\"></div><div style=\"background-color:hsl(24.00000000000003, 84.55172413793103%, 70.9310344827586%);height:20px;width:20px;display:inline-block;\"></div><div style=\"background-color:hsl(49.517241379310384, 90.20689655172414%, 74.86206896551724%);height:20px;width:20px;display:inline-block;\"></div><div style=\"background-color:hsl(173.31034482758605, 85.72413793103449%, 64.51724137931036%);height:20px;width:20px;display:inline-block;\"></div><div style=\"background-color:hsl(297.10344827586204, 81.24137931034483%, 54.17241379310345%);height:20px;width:20px;display:inline-block;\"></div><div style=\"background-color:hsl(302.79310344827604, 82.10344827586206%, 52.79310344827585%);height:20px;width:20px;display:inline-block;\"></div><div style=\"background-color:hsl(190.37931034482773, 88.31034482758619%, 60.37931034482757%);height:20px;width:20px;display:inline-block;\"></div><div style=\"background-color:hsl(77.9655172413793, 94.51724137931035%, 67.9655172413793%);height:20px;width:20px;display:inline-block;\"></div><div style=\"background-color:hsl(32.17241379310345, 97.62068965517241%, 66.65517241379311%);height:20px;width:20px;display:inline-block;\"></div><div style=\"background-color:hsl(30.793103448275865, 98.6551724137931%, 59.413793103448285%);height:20px;width:20px;display:inline-block;\"></div><div style=\"background-color:hsl(29.413793103448278, 99.6896551724138%, 52.172413793103466%);height:20px;width:20px;display:inline-block;\"></div><div style=\"background-color:hsl(19.827586206896573, 83.1034482758621%, 56.2758620689655%);height:20px;width:20px;display:inline-block;\"></div><div style=\"background-color:hsl(6.724137931034495, 58.96551724137933%, 65.24137931034483%);height:20px;width:20px;display:inline-block;\"></div><div style=\"background-color:hsl(-6.379310344827587, 34.827586206896555%, 74.20689655172414%);height:20px;width:20px;display:inline-block;\"></div><div style=\"background-color:hsl(55.55172413793109, 33.58620689655173%, 66.62068965517241%);height:20px;width:20px;display:inline-block;\"></div><div style=\"background-color:hsl(136.24137931034457, 38.06896551724137%, 54.896551724137964%);height:20px;width:20px;display:inline-block;\"></div><div style=\"background-color:hsl(216.93103448275843, 42.551724137931025%, 43.17241379310348%);height:20px;width:20px;display:inline-block;\"></div><div style=\"background-color:hsl(173.79310344827596, 60.689655172413765%, 53.79310344827584%);height:20px;width:20px;display:inline-block;\"></div><div style=\"background-color:hsl(116.89655172413796, 80.34482758620689%, 66.89655172413792%);height:20px;width:20px;display:inline-block;\"></div><div style=\"background-color:hsl(60.0, 100.0%, 80.0%);height:20px;width:20px;display:inline-block;\"></div>"
      ],
      "text/plain": [
       "<IPython.core.display.HTML object>"
      ]
     },
     "execution_count": 158,
     "metadata": {},
     "output_type": "execute_result"
    }
   ],
   "source": [
    "bupu500 = cl.interp( c, 30 ) # Map color scale to 500 bins\n",
    "#print(bupu500)\n",
    "HTML( cl.to_html( bupu500 ) )"
   ]
  },
  {
   "cell_type": "code",
   "execution_count": 184,
   "metadata": {},
   "outputs": [],
   "source": [
    "#start dealing with actual JSON to build these graphs:\n",
    "\n",
    "def rsid_url(rsid):\n",
    "    return \"https://www.t2depigenome.org/peak_metadata/region=%s&genome=GRCh37/peak_metadata.tsv\" % rsid"
   ]
  },
  {
   "cell_type": "code",
   "execution_count": 185,
   "metadata": {},
   "outputs": [],
   "source": [
    "#remake generate shapes to only draw one shape around all annnotations with a common biosample\n",
    "def generate_shapes(positions, var_name, biosample_colors):\n",
    "    \n",
    "    shape_coords = [positions[var_name][\"shape-coords\"]]\n",
    "    shape_biosamples = [var_name]\n",
    "    shapes = []\n",
    "    \n",
    "    for anno in positions[var_name][\"annotations\"].keys():\n",
    "        shape_coords.append(positions[var_name][\"annotations\"][anno][\"shape-coords\"])\n",
    "        shape_biosamples.append(anno)\n",
    "        last_biosample = \"\"\n",
    "        for item in positions[var_name][\"annotations\"][anno][\"items\"]:\n",
    "            cur_biosample = item[\"biosample_term_name\"]\n",
    "            if cur_biosample != last_biosample:\n",
    "                shape_coords.append(item[\"shape-coords\"])\n",
    "                shape_biosamples.append(item[\"biosample_term_name\"])\n",
    "            last_biosample = cur_biosample\n",
    "    \n",
    "    #make shape color list:\n",
    "    colors = []\n",
    "    for i, biosample in enumerate(shape_biosamples):\n",
    "        if biosample in biosample_colors.keys():\n",
    "            colors.append(biosample_colors[biosample])\n",
    "        else:\n",
    "            colors.append('rgba(55, 128, 191, 0.6)')\n",
    "    print(\"colors:\", len(colors))\n",
    "    print(\"shape coords:\", len(shape_coords))\n",
    "    print(\"shape biosamples:\", len(shape_biosamples))\n",
    "    \n",
    "    for i, coords in enumerate(shape_coords):\n",
    "        shapes.append({\n",
    "            'type': 'rect',\n",
    "            'xref': 'x',\n",
    "            'yref': 'y',\n",
    "            'x0': coords[0][0],\n",
    "            'y0': coords[0][1],\n",
    "            'x1': coords[1][0],\n",
    "            'y1': coords[1][1],\n",
    "            'line': {\n",
    "                'color': '#888',\n",
    "                'width': 2,\n",
    "            },\n",
    "            #'fillcolor': 'rgba(55, 128, 191, 0.6)',\n",
    "            'fillcolor': colors[i],\n",
    "            'opacity': 0.3\n",
    "        })\n",
    "    return shapes"
   ]
  },
  {
   "cell_type": "code",
   "execution_count": 186,
   "metadata": {},
   "outputs": [],
   "source": [
    "#new generate positions grouping annotation in the same biosample in one box\n",
    "def generate_positions(var_data, var_name, vert_space=4, box_width=10, \\\n",
    "                       box_height=4, text_y0=100, plot_width=100, offset=20, expanded=True, biosamples=\"\"):\n",
    "    \n",
    "    #sort items within var_data (should I do this outside of this function??):\n",
    "    var_data = {anno: sorted(items, key=lambda x: x['biosample_term_name']) for anno, items in var_data.items()}\n",
    "    \n",
    "    #get number of annotations\n",
    "    num_annotations = len(var_data.keys())\n",
    "    num_sides = int(num_annotations/2)   \n",
    "    \n",
    "    positions = {\n",
    "        var_name: {\n",
    "            \"text-coords\": [plot_width/2, text_y0],\n",
    "            \"shape-coords\": [\n",
    "                [(plot_width/2)-box_width/2, text_y0-box_height/2],\n",
    "                [(plot_width/2)+box_width/2, text_y0+box_height/2]\n",
    "            ],\n",
    "            \"annotations\": {key: {\"items\": val} for key, val in var_data.items()}\n",
    "        }\n",
    "    }\n",
    "    \n",
    "    for i, anno in enumerate(positions[var_name][\"annotations\"].keys()):\n",
    "        #get x offset:\n",
    "        if num_annotations % 2 == 1 and i == int(num_annotations/2)+1:\n",
    "            x_offset = positions[var_name][\"text-coords\"][0] + offset\n",
    "        elif i+1 <= num_sides: \n",
    "            x_offset = positions[var_name][\"text-coords\"][0] - offset*(i+1)\n",
    "        elif i+1 > num_sides and num_annotations % 2 == 1:\n",
    "            x_offset = positions[var_name][\"text-coords\"][0] + offset*(i-int(num_annotations/2))\n",
    "        else:\n",
    "            x_offset = positions[var_name][\"text-coords\"][0] + offset*((i+1)-int(num_annotations/2))\n",
    "            \n",
    "        #set text coordinates for this annotation\n",
    "        positions[var_name][\"annotations\"][anno][\"text-coords\"] = [\n",
    "            x_offset, \n",
    "            text_y0-(2*vert_space)\n",
    "        ]\n",
    "        \n",
    "        #set shape coordinates for this annotation\n",
    "        positions[var_name][\"annotations\"][anno][\"shape-coords\"] = [\n",
    "            [\n",
    "                positions[var_name][\"annotations\"][anno][\"text-coords\"][0]-box_width/2,\n",
    "                positions[var_name][\"annotations\"][anno][\"text-coords\"][1]-box_height/2\n",
    "            ],\n",
    "            [\n",
    "                positions[var_name][\"annotations\"][anno][\"text-coords\"][0]+box_width/2,\n",
    "                positions[var_name][\"annotations\"][anno][\"text-coords\"][1]+box_height/2\n",
    "            ]\n",
    "        ]\n",
    "        \n",
    "        cur_text_coords = []\n",
    "        cur_shape_coords = []\n",
    "        last_biosample = \"\"\n",
    "\n",
    "        if expanded == True:\n",
    "            for j, item in enumerate(positions[var_name][\"annotations\"][anno][\"items\"]):\n",
    "                cur_biosample = item[\"biosample_term_name\"]\n",
    "                if cur_biosample in biosamples:\n",
    "                    #text coordinates\n",
    "                    if len(cur_text_coords) == 0:\n",
    "                        item[\"text-coords\"] = [\n",
    "                            positions[var_name][\"annotations\"][anno][\"text-coords\"][0],\n",
    "                            positions[var_name][\"annotations\"][anno][\"text-coords\"][1] - box_height\n",
    "                        ]\n",
    "                        cur_text_coords.append(item[\"text-coords\"])\n",
    "                    else:\n",
    "                        item['text-coords'] = [\n",
    "                            cur_text_coords[-1][0],\n",
    "                            cur_text_coords[-1][1] - box_height\n",
    "                        ]\n",
    "                        cur_text_coords.append(item[\"text-coords\"])\n",
    "                    #shape coordinates (make a new shape or extend last shape):\n",
    "                    #make a new shape\n",
    "                    if j == 0 or cur_biosample != last_biosample:\n",
    "                        cur_shape_coords = [\n",
    "                            [item[\"text-coords\"][0]-box_width/2, item[\"text-coords\"][1]-box_height/2],\n",
    "                            [item[\"text-coords\"][0]+box_width/2, item[\"text-coords\"][1]+box_height/2]\n",
    "                        ]                        \n",
    "                    #extend y value of current shape\n",
    "                    elif cur_biosample == last_biosample:\n",
    "                        cur_shape_coords[0][1] -= box_height\n",
    "                    item[\"shape-coords\"] = cur_shape_coords\n",
    "                    \n",
    "                    #set last biosample to cur biosample\n",
    "                    last_biosample = cur_biosample           \n",
    "        \n",
    "    return positions"
   ]
  },
  {
   "cell_type": "code",
   "execution_count": 187,
   "metadata": {},
   "outputs": [],
   "source": [
    "def make_graph(var_data, var_name, vert_space=4, box_width=10, \\\n",
    "                box_height=4, text_y0=100, plot_width=1000, plot_height=500, offset=20, expanded=True, biosamples=\"\"):\n",
    "    \n",
    "    print(\"biosamples:\", biosamples)\n",
    "    if biosamples == \"\":\n",
    "        biosamples = get_biosamples(var_data)\n",
    "    \n",
    "    #get max number of items in one annotation (to compute plot height)\n",
    "    max_items = max([len([item for item in var_data[anno] if item[\"biosample_term_name\"] in biosamples]) for anno in var_data.keys()])\n",
    "    num_annotations = len(var_data.keys())\n",
    "    plot_height = 350*np.log(max_items)\n",
    "    plot_width = 900 * np.log(num_annotations)\n",
    " \n",
    "    #longest label\n",
    "    box_width = max_text_len(var_data)\n",
    "    offset = box_width + 5\n",
    "\n",
    "    positions = generate_positions(var_data, var_name, expanded=expanded, box_height=box_height, \\\n",
    "                                   box_width=box_width, offset=offset, text_y0=text_y0, biosamples=biosamples)\n",
    "    \n",
    "    #initialize node and edge traces:\n",
    "    node_trace = go.Scatter(\n",
    "        x = [],\n",
    "        y = [],\n",
    "        text = [],\n",
    "        mode='markers+text',\n",
    "        hoverinfo='closest',\n",
    "        marker=dict(\n",
    "            color=[],\n",
    "            size=10,\n",
    "            line=dict(width=10),\n",
    "            opacity=0.0\n",
    "        ),\n",
    "        textfont=dict(\n",
    "            color='black',\n",
    "            size=18,\n",
    "            family='Arail',\n",
    "        )\n",
    "    )\n",
    "\n",
    "    edge_trace = go.Scatter(\n",
    "        x = [],\n",
    "        y = [],\n",
    "        line=dict(width=2,color='#888'),\n",
    "        hoverinfo='none',\n",
    "        mode='lines'        \n",
    "    )\n",
    "    \n",
    "    #populate node information with text positions:\n",
    "    \n",
    "    node_trace['x'].append(positions[var_name][\"text-coords\"][0])\n",
    "    node_trace['y'].append(positions[var_name][\"text-coords\"][1])\n",
    "    node_trace['text'].append(var_name)\n",
    "    for anno in positions[var_name][\"annotations\"].keys():\n",
    "        node_trace['x'].append(positions[var_name][\"annotations\"][anno][\"text-coords\"][0])\n",
    "        node_trace['y'].append(positions[var_name][\"annotations\"][anno][\"text-coords\"][1])\n",
    "        node_trace['text'].append(anno)\n",
    "        last_biosample = \"\"\n",
    "        for item in positions[var_name][\"annotations\"][anno][\"items\"]:\n",
    "            if item[\"biosample_term_name\"] in biosamples:\n",
    "                cur_biosample = item[\"biosample_term_name\"]\n",
    "                node_trace['x'].append(item[\"text-coords\"][0])\n",
    "                node_trace['y'].append(item[\"text-coords\"][1])\n",
    "                if cur_biosample != last_biosample:\n",
    "                    text = item[\"biosample_term_name\"] + \":<br>\"\n",
    "                else: \n",
    "                    text = \"\"\n",
    "                if \"state\" in item.keys():\n",
    "                    text += item[\"state\"]\n",
    "                elif \"footprint\" in item.keys():\n",
    "                    text += item[\"footprint\"]\n",
    "                elif \"target\" in item.keys():\n",
    "                    text += item['target']\n",
    "                node_trace[\"text\"].append(text)\n",
    "                last_biosample = cur_biosample\n",
    "\n",
    "            \n",
    "    #fill in edges between variant name and annotation names:\n",
    "    for anno in positions[var_name][\"annotations\"].keys():\n",
    "        edge_trace['x'] += [positions[var_name][\"text-coords\"][0], positions[var_name][\"annotations\"][anno][\"text-coords\"][0], None]\n",
    "        edge_trace['y'] += [positions[var_name][\"shape-coords\"][0][1], positions[var_name][\"annotations\"][anno][\"shape-coords\"][1][1], None]\n",
    "    \n",
    "    #add invisible points:\n",
    "    min_coords, max_coords = invisible_points(positions, var_name)\n",
    "    node_trace['x'].append(min_coords[0])\n",
    "    node_trace['y'].append(min_coords[1])\n",
    "    node_trace['x'].append(max_coords[0])\n",
    "    node_trace['y'].append(max_coords[1])\n",
    "    \n",
    "    layout = go.Layout(\n",
    "        width=plot_width,\n",
    "        height=plot_height,\n",
    "        xaxis = dict(\n",
    "            showgrid=False, \n",
    "            zeroline=False,\n",
    "            showline=False,\n",
    "            ticks='',\n",
    "            showticklabels=False\n",
    "        ),\n",
    "        yaxis = dict(\n",
    "            showgrid=False,\n",
    "            zeroline=False,\n",
    "            showline=False,\n",
    "            ticks='',\n",
    "            showticklabels=False\n",
    "        ),\n",
    "        showlegend=False,        \n",
    "    )\n",
    "    \n",
    "    biosample_colors = get_biosample_colors(biosamples)\n",
    "    layout['shapes'] = generate_shapes(positions, var_name, biosample_colors)\n",
    "\n",
    "    data = [node_trace, edge_trace]\n",
    "    fig = go.Figure(data=data, layout=layout)\n",
    "    return fig\n",
    "    "
   ]
  },
  {
   "cell_type": "code",
   "execution_count": 188,
   "metadata": {},
   "outputs": [],
   "source": [
    "#finds the longest label name\n",
    "def max_text_len(var_data):\n",
    "    \n",
    "    max_text_len = 0\n",
    "    \n",
    "    for anno, items in var_data.items():\n",
    "        if len(anno) > max_text_len:\n",
    "            max_text_len = len(anno)\n",
    "        for item in items:\n",
    "            text = item[\"biosample_term_name\"] + \": \"\n",
    "            if \"state\" in item.keys():\n",
    "                text += \"state\"\n",
    "            elif \"target\" in item.keys():\n",
    "                text += \"target\"\n",
    "            elif \"footprint\" in item.keys():\n",
    "                text += \"footprint\"\n",
    "            if len(text) > max_text_len:\n",
    "                max_text_len = len(text)\n",
    "    \n",
    "    return max_text_len"
   ]
  },
  {
   "cell_type": "code",
   "execution_count": 189,
   "metadata": {},
   "outputs": [],
   "source": [
    "def invisible_points(positions, var_name):\n",
    "    \n",
    "    min_coords = [i for i in positions[var_name][\"text-coords\"]]\n",
    "    max_coords = [i for i in positions[var_name][\"text-coords\"]]\n",
    "    \n",
    "    for anno, info in positions[var_name][\"annotations\"].items():\n",
    "        if info[\"text-coords\"][0] > max_coords[0]:\n",
    "            max_coords[0] = info[\"text-coords\"][0]\n",
    "        elif info[\"text-coords\"][0] < min_coords[0]:\n",
    "            min_coords[0] = info[\"text-coords\"][0]\n",
    "        if info[\"text-coords\"][1] > max_coords[1]:\n",
    "            max_coords[1] = info[\"text-coords\"][1]\n",
    "        elif info[\"text-coords\"][1] < min_coords[1]:\n",
    "            min_coords[1] = info[\"text-coords\"][1]\n",
    "        \n",
    "        for item in positions[var_name][\"annotations\"][anno][\"items\"]:\n",
    "            if \"text-coords\" in item.keys():\n",
    "                if item[\"text-coords\"][0] > max_coords[0]:\n",
    "                    max_coords[0] = item[\"text-coords\"][0]\n",
    "                elif item[\"text-coords\"][0] < min_coords[0]:\n",
    "                    min_coords[0] = item[\"text-coords\"][0]\n",
    "                if item[\"text-coords\"][1] > max_coords[1]:\n",
    "                    max_coords[1] = item[\"text-coords\"][1]\n",
    "                elif item[\"text-coords\"][1] < min_coords[1]:\n",
    "                    min_coords[1] = item[\"text-coords\"][1]\n",
    "        \n",
    "    #extend invisible x points to avoid text cutoffs:\n",
    "    min_coords[0] -= 25\n",
    "    max_coords[0] += 25\n",
    "    \n",
    "    return min_coords, max_coords"
   ]
  },
  {
   "cell_type": "code",
   "execution_count": 190,
   "metadata": {},
   "outputs": [],
   "source": [
    "#get all biosample_term_names in var_data:\n",
    "def get_biosamples(var_data):\n",
    "    biosamples = []\n",
    "    for anno in var_data.keys():\n",
    "        for item in var_data[anno]:\n",
    "            biosamples.append(item[\"biosample_term_name\"])\n",
    "\n",
    "    return list(set(biosamples))"
   ]
  },
  {
   "cell_type": "code",
   "execution_count": 202,
   "metadata": {},
   "outputs": [],
   "source": [
    "#get a unique random color for each biosample:\n",
    "def get_biosample_colors(biosamples):\n",
    "    print(\"get_biosample_colors\", len(biosamples)*3)\n",
    "    c = cl.scales['11']['qual']['Paired']\n",
    "    c_ = cl.interp(c, len(biosamples)*3)\n",
    "    return {biosample: c_[i] for i, biosample in enumerate(biosamples)}    "
   ]
  },
  {
   "cell_type": "code",
   "execution_count": 211,
   "metadata": {},
   "outputs": [],
   "source": [
    "c = cl.scales['11']['qual']['Paired']\n",
    "c_ = cl.interp(c, 57)"
   ]
  },
  {
   "cell_type": "code",
   "execution_count": 204,
   "metadata": {
    "scrolled": true
   },
   "outputs": [
    {
     "name": "stdout",
     "output_type": "stream",
     "text": [
      "biosamples: \n",
      "get_biosample_colors 51\n"
     ]
    },
    {
     "ename": "IndexError",
     "evalue": "list index out of range",
     "output_type": "error",
     "traceback": [
      "\u001b[0;31m---------------------------------------------------------------------------\u001b[0m",
      "\u001b[0;31mIndexError\u001b[0m                                Traceback (most recent call last)",
      "\u001b[0;32m<ipython-input-204-37881d2522b3>\u001b[0m in \u001b[0;36m<module>\u001b[0;34m()\u001b[0m\n\u001b[1;32m      1\u001b[0m \u001b[0mthing\u001b[0m \u001b[0;34m=\u001b[0m \u001b[0mjson\u001b[0m\u001b[0;34m.\u001b[0m\u001b[0mloads\u001b[0m\u001b[0;34m(\u001b[0m\u001b[0mopen\u001b[0m\u001b[0;34m(\u001b[0m\u001b[0;34m\"../testing_files/testing.json\"\u001b[0m\u001b[0;34m)\u001b[0m\u001b[0;34m.\u001b[0m\u001b[0mread\u001b[0m\u001b[0;34m(\u001b[0m\u001b[0;34m)\u001b[0m\u001b[0;34m)\u001b[0m\u001b[0;34m\u001b[0m\u001b[0m\n\u001b[1;32m      2\u001b[0m \u001b[0;31m#iplot(make_graph(var_data=thing, var_name=\"test\",box_height=4, biosamples=[\"skeletal muscle tissue\"]))\u001b[0m\u001b[0;34m\u001b[0m\u001b[0;34m\u001b[0m\u001b[0m\n\u001b[0;32m----> 3\u001b[0;31m \u001b[0miplot\u001b[0m\u001b[0;34m(\u001b[0m\u001b[0mmake_graph\u001b[0m\u001b[0;34m(\u001b[0m\u001b[0mvar_data\u001b[0m\u001b[0;34m=\u001b[0m\u001b[0mthing\u001b[0m\u001b[0;34m,\u001b[0m \u001b[0mvar_name\u001b[0m\u001b[0;34m=\u001b[0m\u001b[0;34m\"test\"\u001b[0m\u001b[0;34m,\u001b[0m\u001b[0mbox_height\u001b[0m\u001b[0;34m=\u001b[0m\u001b[0;36m4\u001b[0m\u001b[0;34m)\u001b[0m\u001b[0;34m)\u001b[0m\u001b[0;34m\u001b[0m\u001b[0m\n\u001b[0m",
      "\u001b[0;32m<ipython-input-187-c05c374536de>\u001b[0m in \u001b[0;36mmake_graph\u001b[0;34m(var_data, var_name, vert_space, box_width, box_height, text_y0, plot_width, plot_height, offset, expanded, biosamples)\u001b[0m\n\u001b[1;32m    106\u001b[0m     )\n\u001b[1;32m    107\u001b[0m \u001b[0;34m\u001b[0m\u001b[0m\n\u001b[0;32m--> 108\u001b[0;31m     \u001b[0mbiosample_colors\u001b[0m \u001b[0;34m=\u001b[0m \u001b[0mget_biosample_colors\u001b[0m\u001b[0;34m(\u001b[0m\u001b[0mbiosamples\u001b[0m\u001b[0;34m)\u001b[0m\u001b[0;34m\u001b[0m\u001b[0m\n\u001b[0m\u001b[1;32m    109\u001b[0m     \u001b[0mlayout\u001b[0m\u001b[0;34m[\u001b[0m\u001b[0;34m'shapes'\u001b[0m\u001b[0;34m]\u001b[0m \u001b[0;34m=\u001b[0m \u001b[0mgenerate_shapes\u001b[0m\u001b[0;34m(\u001b[0m\u001b[0mpositions\u001b[0m\u001b[0;34m,\u001b[0m \u001b[0mvar_name\u001b[0m\u001b[0;34m,\u001b[0m \u001b[0mbiosample_colors\u001b[0m\u001b[0;34m)\u001b[0m\u001b[0;34m\u001b[0m\u001b[0m\n\u001b[1;32m    110\u001b[0m \u001b[0;34m\u001b[0m\u001b[0m\n",
      "\u001b[0;32m<ipython-input-202-5859ee148cc9>\u001b[0m in \u001b[0;36mget_biosample_colors\u001b[0;34m(biosamples)\u001b[0m\n\u001b[1;32m      3\u001b[0m     \u001b[0mprint\u001b[0m\u001b[0;34m(\u001b[0m\u001b[0;34m\"get_biosample_colors\"\u001b[0m\u001b[0;34m,\u001b[0m \u001b[0mlen\u001b[0m\u001b[0;34m(\u001b[0m\u001b[0mbiosamples\u001b[0m\u001b[0;34m)\u001b[0m\u001b[0;34m*\u001b[0m\u001b[0;36m3\u001b[0m\u001b[0;34m)\u001b[0m\u001b[0;34m\u001b[0m\u001b[0m\n\u001b[1;32m      4\u001b[0m     \u001b[0mc\u001b[0m \u001b[0;34m=\u001b[0m \u001b[0mcl\u001b[0m\u001b[0;34m.\u001b[0m\u001b[0mscales\u001b[0m\u001b[0;34m[\u001b[0m\u001b[0;34m'11'\u001b[0m\u001b[0;34m]\u001b[0m\u001b[0;34m[\u001b[0m\u001b[0;34m'qual'\u001b[0m\u001b[0;34m]\u001b[0m\u001b[0;34m[\u001b[0m\u001b[0;34m'Paired'\u001b[0m\u001b[0;34m]\u001b[0m\u001b[0;34m\u001b[0m\u001b[0m\n\u001b[0;32m----> 5\u001b[0;31m     \u001b[0mc_\u001b[0m \u001b[0;34m=\u001b[0m \u001b[0mcl\u001b[0m\u001b[0;34m.\u001b[0m\u001b[0minterp\u001b[0m\u001b[0;34m(\u001b[0m\u001b[0mc\u001b[0m\u001b[0;34m,\u001b[0m \u001b[0mlen\u001b[0m\u001b[0;34m(\u001b[0m\u001b[0mbiosamples\u001b[0m\u001b[0;34m)\u001b[0m\u001b[0;34m*\u001b[0m\u001b[0;36m3\u001b[0m\u001b[0;34m)\u001b[0m\u001b[0;34m\u001b[0m\u001b[0m\n\u001b[0m\u001b[1;32m      6\u001b[0m     \u001b[0;32mreturn\u001b[0m \u001b[0;34m{\u001b[0m\u001b[0mbiosample\u001b[0m\u001b[0;34m:\u001b[0m \u001b[0mc_\u001b[0m\u001b[0;34m[\u001b[0m\u001b[0mi\u001b[0m\u001b[0;34m]\u001b[0m \u001b[0;32mfor\u001b[0m \u001b[0mi\u001b[0m\u001b[0;34m,\u001b[0m \u001b[0mbiosample\u001b[0m \u001b[0;32min\u001b[0m \u001b[0menumerate\u001b[0m\u001b[0;34m(\u001b[0m\u001b[0mbiosamples\u001b[0m\u001b[0;34m)\u001b[0m\u001b[0;34m}\u001b[0m\u001b[0;34m\u001b[0m\u001b[0m\n",
      "\u001b[0;32m/anaconda3/lib/python3.6/site-packages/colorlover/__init__.py\u001b[0m in \u001b[0;36minterp\u001b[0;34m(scl, r)\u001b[0m\n\u001b[1;32m   1821\u001b[0m         \u001b[0mc_i\u001b[0m \u001b[0;34m=\u001b[0m \u001b[0mint\u001b[0m\u001b[0;34m(\u001b[0m\u001b[0mi\u001b[0m\u001b[0;34m*\u001b[0m\u001b[0mmath\u001b[0m\u001b[0;34m.\u001b[0m\u001b[0mfloor\u001b[0m\u001b[0;34m(\u001b[0m\u001b[0mSCL_FI\u001b[0m\u001b[0;34m)\u001b[0m\u001b[0;34m/\u001b[0m\u001b[0mround\u001b[0m\u001b[0;34m(\u001b[0m\u001b[0mr\u001b[0m\u001b[0;34m[\u001b[0m\u001b[0;34m-\u001b[0m\u001b[0;36m1\u001b[0m\u001b[0;34m]\u001b[0m\u001b[0;34m)\u001b[0m\u001b[0;34m)\u001b[0m \u001b[0;31m# start color index\u001b[0m\u001b[0;34m\u001b[0m\u001b[0m\n\u001b[1;32m   1822\u001b[0m         \u001b[0mhsl_o\u001b[0m \u001b[0;34m=\u001b[0m \u001b[0mrgb_to_hsl\u001b[0m\u001b[0;34m(\u001b[0m \u001b[0mscl\u001b[0m\u001b[0;34m[\u001b[0m\u001b[0mc_i\u001b[0m\u001b[0;34m]\u001b[0m \u001b[0;34m)\u001b[0m \u001b[0;31m# convert rgb to hls\u001b[0m\u001b[0;34m\u001b[0m\u001b[0m\n\u001b[0;32m-> 1823\u001b[0;31m         \u001b[0mhsl_f\u001b[0m \u001b[0;34m=\u001b[0m \u001b[0mrgb_to_hsl\u001b[0m\u001b[0;34m(\u001b[0m \u001b[0mscl\u001b[0m\u001b[0;34m[\u001b[0m\u001b[0mc_i\u001b[0m\u001b[0;34m+\u001b[0m\u001b[0;36m1\u001b[0m\u001b[0;34m]\u001b[0m \u001b[0;34m)\u001b[0m\u001b[0;34m\u001b[0m\u001b[0m\n\u001b[0m\u001b[1;32m   1824\u001b[0m         \u001b[0msection_min\u001b[0m \u001b[0;34m=\u001b[0m \u001b[0mc_i\u001b[0m\u001b[0;34m*\u001b[0m\u001b[0mr\u001b[0m\u001b[0;34m[\u001b[0m\u001b[0;34m-\u001b[0m\u001b[0;36m1\u001b[0m\u001b[0;34m]\u001b[0m\u001b[0;34m/\u001b[0m\u001b[0mSCL_FI\u001b[0m\u001b[0;34m\u001b[0m\u001b[0m\n\u001b[1;32m   1825\u001b[0m         \u001b[0msection_max\u001b[0m \u001b[0;34m=\u001b[0m \u001b[0;34m(\u001b[0m\u001b[0mc_i\u001b[0m\u001b[0;34m+\u001b[0m\u001b[0;36m1\u001b[0m\u001b[0;34m)\u001b[0m\u001b[0;34m*\u001b[0m\u001b[0;34m(\u001b[0m\u001b[0mr\u001b[0m\u001b[0;34m[\u001b[0m\u001b[0;34m-\u001b[0m\u001b[0;36m1\u001b[0m\u001b[0;34m]\u001b[0m\u001b[0;34m/\u001b[0m\u001b[0mSCL_FI\u001b[0m\u001b[0;34m)\u001b[0m\u001b[0;34m\u001b[0m\u001b[0m\n",
      "\u001b[0;31mIndexError\u001b[0m: list index out of range"
     ]
    }
   ],
   "source": [
    "thing = json.loads(open(\"../testing_files/testing.json\").read())\n",
    "#iplot(make_graph(var_data=thing, var_name=\"test\",box_height=4, biosamples=[\"skeletal muscle tissue\"]))\n",
    "iplot(make_graph(var_data=thing, var_name=\"test\",box_height=4))"
   ]
  },
  {
   "cell_type": "code",
   "execution_count": 33,
   "metadata": {},
   "outputs": [],
   "source": [
    "thing = json.loads(open(\"../testing_files/testing.json\").read())\n",
    "thing = {anno: sorted(items, key=lambda x: x['biosample_term_name']) for anno, items in thing.items()}"
   ]
  }
 ],
 "metadata": {
  "kernelspec": {
   "display_name": "Python 3",
   "language": "python",
   "name": "python3"
  },
  "language_info": {
   "codemirror_mode": {
    "name": "ipython",
    "version": 3
   },
   "file_extension": ".py",
   "mimetype": "text/x-python",
   "name": "python",
   "nbconvert_exporter": "python",
   "pygments_lexer": "ipython3",
   "version": "3.6.5"
  }
 },
 "nbformat": 4,
 "nbformat_minor": 2
}
