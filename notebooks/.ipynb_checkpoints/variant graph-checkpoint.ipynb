{
 "cells": [
  {
   "cell_type": "code",
   "execution_count": 1,
   "metadata": {},
   "outputs": [
    {
     "data": {
      "text/html": [
       "<script>requirejs.config({paths: { 'plotly': ['https://cdn.plot.ly/plotly-latest.min']},});if(!window.Plotly) {{require(['plotly'],function(plotly) {window.Plotly=plotly;});}}</script>"
      ],
      "text/vnd.plotly.v1+html": [
       "<script>requirejs.config({paths: { 'plotly': ['https://cdn.plot.ly/plotly-latest.min']},});if(!window.Plotly) {{require(['plotly'],function(plotly) {window.Plotly=plotly;});}}</script>"
      ]
     },
     "metadata": {},
     "output_type": "display_data"
    }
   ],
   "source": [
    "import plotly\n",
    "import plotly.plotly as py\n",
    "import plotly.graph_objs as go\n",
    "import plotly.figure_factory as ff\n",
    "from plotly.offline import download_plotlyjs, init_notebook_mode, plot, iplot\n",
    "import numpy as np\n",
    "import json\n",
    "import urllib.request\n",
    "import numpy as np\n",
    "import time\n",
    "import dash\n",
    "import dash_core_components as dcc\n",
    "import dash_html_components as html\n",
    "\n",
    "#authenticate plotly:\n",
    "plotly.tools.set_credentials_file(username='smorabito', api_key='BoBmLuy3saDfBmpvhsM7')\n",
    "\n",
    "#necessary for plotly offline:\n",
    "init_notebook_mode(connected=True)"
   ]
  },
  {
   "cell_type": "code",
   "execution_count": 13,
   "metadata": {},
   "outputs": [],
   "source": [
    "#better dummy data:\n",
    "var_data = {\n",
    "    \"chromatin_state\": [\n",
    "        {\n",
    "            \"state\": \"enhA1\",\n",
    "            \"biosample_term_name\": \"skeletal muscle\"\n",
    "        },\n",
    "        {\n",
    "            \"state\": \"promoter\",\n",
    "            \"biosample_term_name\": \"islet\"\n",
    "        }\n",
    "    ],\n",
    "    \"footprints\": [\n",
    "        {\n",
    "            \"footprint\": \"HNF4\",\n",
    "            \"biosample_term_name\": \"islet\"\n",
    "        },\n",
    "        {\n",
    "            \"footprint\": \"PPARA\",\n",
    "            \"biosample_term_name\": \"islet\",\n",
    "        },\n",
    "        {\n",
    "            \"footprint\": \"TCF3\",\n",
    "            \"biosample_term_name\": \"hippocampus\"\n",
    "        },\n",
    "        {\n",
    "            \"footprint\": \"STAT\",\n",
    "            \"biosample_term_name\": \"skeletal muscle\"\n",
    "        }\n",
    "        \n",
    "    ],\n",
    "    \"ChIP\": [\n",
    "        {\n",
    "            \"target\": \"FOXA2\",\n",
    "            \"biosample_term_name\": \"islet\",\n",
    "        },\n",
    "        {\n",
    "            \"target\": \"NKX2.2\",\n",
    "            \"biosample_term_name\": \"skeletal muscle\"\n",
    "        },\n",
    "        {\n",
    "            \"target\": \"CTCF\",\n",
    "            \"biosample_term_name\": \"islet\"\n",
    "        },\n",
    "    ]\n",
    "    \n",
    "}"
   ]
  },
  {
   "cell_type": "code",
   "execution_count": 180,
   "metadata": {},
   "outputs": [],
   "source": [
    "#start dealing with actual JSON to build these graphs:\n",
    "\n",
    "def rsid_url(rsid):\n",
    "    return \"https://www.t2depigenome.org/peak_metadata/region=%s&genome=GRCh37/peak_metadata.tsv\" % rsid"
   ]
  },
  {
   "cell_type": "code",
   "execution_count": 8,
   "metadata": {},
   "outputs": [],
   "source": [
    "def generate_positions(var_data, var_name, vert_space=4, box_width=10, \\\n",
    "                       box_height=4, text_y0=100, plot_width=100, offset=20, expanded=True):\n",
    "    \n",
    "    #get number of annotations\n",
    "    num_annotations = len(var_data.keys())\n",
    "    num_sides = int(num_annotations/2)   \n",
    "    \n",
    "    positions = {\n",
    "        var_name: {\n",
    "            \"text-coords\": [plot_width/2, text_y0],\n",
    "            \"shape-coords\": [\n",
    "                [(plot_width/2)-box_width/2, text_y0-box_height/2],\n",
    "                [(plot_width/2)+box_width/2, text_y0+box_height/2]\n",
    "            ],\n",
    "            \"annotations\": {key: {\"items\": val} for key, val in var_data.items()}\n",
    "        }\n",
    "    }\n",
    "    \n",
    "    for i, anno in enumerate(positions[var_name][\"annotations\"].keys()):\n",
    "        #get x offset:\n",
    "        if num_annotations % 2 == 1 and i == int(num_annotations/2)+1:\n",
    "            x_offset = positions[var_name][\"text-coords\"][0] + offset\n",
    "        elif i+1 <= num_sides: \n",
    "            x_offset = positions[var_name][\"text-coords\"][0] - offset*(i+1)\n",
    "        elif i+1 > num_sides and num_annotations % 2 == 1:\n",
    "            x_offset = positions[var_name][\"text-coords\"][0] + offset*(i-int(num_annotations/2))\n",
    "        else:\n",
    "            x_offset = positions[var_name][\"text-coords\"][0] + offset*((i+1)-int(num_annotations/2))\n",
    "            \n",
    "        #set text coordinates for this annotation\n",
    "        positions[var_name][\"annotations\"][anno][\"text-coords\"] = [\n",
    "            x_offset, \n",
    "            text_y0-(2*vert_space)\n",
    "        ]\n",
    "        \n",
    "        #set shape coordinates for this annotation\n",
    "        positions[var_name][\"annotations\"][anno][\"shape-coords\"] = [\n",
    "            [\n",
    "                positions[var_name][\"annotations\"][anno][\"text-coords\"][0]-box_width/2,\n",
    "                positions[var_name][\"annotations\"][anno][\"text-coords\"][1]-box_height/2\n",
    "            ],\n",
    "            [\n",
    "                positions[var_name][\"annotations\"][anno][\"text-coords\"][0]+box_width/2,\n",
    "                positions[var_name][\"annotations\"][anno][\"text-coords\"][1]+box_height/2\n",
    "            ]\n",
    "        ]\n",
    "        \n",
    "        if expanded == True:\n",
    "            for j, item in enumerate(positions[var_name][\"annotations\"][anno][\"items\"]):\n",
    "                if j == 0:\n",
    "                    item[\"text-coords\"] = [\n",
    "                        positions[var_name][\"annotations\"][anno][\"text-coords\"][0],\n",
    "                        positions[var_name][\"annotations\"][anno][\"text-coords\"][1] - box_height\n",
    "                    ]\n",
    "                else:\n",
    "                    item[\"text-coords\"] = [\n",
    "                        positions[var_name][\"annotations\"][anno][\"items\"][j-1][\"text-coords\"][0],\n",
    "                        positions[var_name][\"annotations\"][anno][\"items\"][j-1][\"text-coords\"][1] - box_height\n",
    "                    ]\n",
    "                item[\"shape-coords\"] = [\n",
    "                    [item[\"text-coords\"][0]-box_width/2, item[\"text-coords\"][1]-box_height/2],\n",
    "                    [item[\"text-coords\"][0]+box_width/2, item[\"text-coords\"][1]+box_height/2]\n",
    "                ]\n",
    "\n",
    "    return positions"
   ]
  },
  {
   "cell_type": "code",
   "execution_count": 17,
   "metadata": {},
   "outputs": [],
   "source": [
    "def generate_shapes(var_data, var_name, colors=\"\"):\n",
    "\n",
    "    shape_coords = [var_data[var_name][\"shape-coords\"]]\n",
    "    shapes = []\n",
    "\n",
    "    for anno in var_data[var_name][\"annotations\"].keys():\n",
    "        shape_coords.append(var_data[var_name][\"annotations\"][anno][\"shape-coords\"])\n",
    "        for item in var_data[var_name][\"annotations\"][anno][\"items\"]:\n",
    "            shape_coords.append(item[\"shape-coords\"])\n",
    "\n",
    "    if colors == \"\":\n",
    "        colors = ['#888' for i in range(len(shape_coords))]\n",
    "    \n",
    "    for i, coords in enumerate(shape_coords):\n",
    "        shapes.append({\n",
    "            'type': 'rect',\n",
    "            'xref': 'x',\n",
    "            'yref': 'y',\n",
    "            'x0': coords[0][0],\n",
    "            'y0': coords[0][1],\n",
    "            'x1': coords[1][0],\n",
    "            'y1': coords[1][1],\n",
    "            'line': {\n",
    "                'color': '#888',\n",
    "                'width': 2,\n",
    "            },\n",
    "            'fillcolor': 'rgba(55, 128, 191, 0.6)',\n",
    "            'opacity': 0.5\n",
    "        })\n",
    "    return shapes"
   ]
  },
  {
   "cell_type": "code",
   "execution_count": 226,
   "metadata": {},
   "outputs": [],
   "source": [
    "def make_graph(var_data, var_name, vert_space=4, box_width=10, \\\n",
    "                box_height=4, text_y0=100, plot_width=1000, plot_height=500, offset=20, expanded=True):\n",
    "    \n",
    "    #get max number of items in one annotation (to compute plot height)\n",
    "    max_items = max([len(var_data[anno]) for anno in var_data.keys()])\n",
    "    num_annotations = len(var_data.keys())\n",
    "    print(\"max items\", max_items)\n",
    "    print(\"num annotations\", num_annotations)\n",
    "    plot_height = 350*np.log(max_items)\n",
    "    plot_width = 900 * np.log(num_annotations)\n",
    "    print(\"height\", plot_height)\n",
    "    print(\"width\", plot_width)\n",
    "    \n",
    "    #longest label:\n",
    "    print(\"max text len:\", max_text_len(var_data))\n",
    "    box_width = max_text_len(var_data)\n",
    "    offset = box_width + 5\n",
    "\n",
    "    \n",
    "    positions = generate_positions(var_data, var_name, expanded=expanded, box_height=box_height, \\\n",
    "                                   box_width=box_width, offset=offset, text_y0=text_y0)\n",
    "    \n",
    "    print(\"max items:\", max_items, num_annotations)\n",
    "    #initialize node and edge traces:\n",
    "    node_trace = go.Scatter(\n",
    "        x = [],\n",
    "        y = [],\n",
    "        text = [],\n",
    "        mode='markers+text',\n",
    "        hoverinfo='closest',\n",
    "        marker=dict(\n",
    "            color=[],\n",
    "            size=10,\n",
    "            line=dict(width=10),\n",
    "            opacity=0.0\n",
    "        )\n",
    "    )\n",
    "\n",
    "    edge_trace = go.Scatter(\n",
    "        x = [],\n",
    "        y = [],\n",
    "        line=dict(width=2,color='#888'),\n",
    "        hoverinfo='none',\n",
    "        mode='lines'        \n",
    "    )\n",
    "    \n",
    "    #populate node information with text positions:\n",
    "    node_trace['x'].append(positions[var_name][\"text-coords\"][0])\n",
    "    node_trace['y'].append(positions[var_name][\"text-coords\"][1])\n",
    "    node_trace['text'].append(var_name)\n",
    "    for anno in positions[var_name][\"annotations\"].keys():\n",
    "        node_trace['x'].append(positions[var_name][\"annotations\"][anno][\"text-coords\"][0])\n",
    "        node_trace['y'].append(positions[var_name][\"annotations\"][anno][\"text-coords\"][1])\n",
    "        node_trace['text'].append(anno)\n",
    "        for item in positions[var_name][\"annotations\"][anno][\"items\"]:\n",
    "            node_trace['x'].append(item[\"text-coords\"][0])\n",
    "            node_trace['y'].append(item[\"text-coords\"][1])\n",
    "            text = item[\"biosample_term_name\"] + \": \"\n",
    "            if \"state\" in item.keys():\n",
    "                text += item[\"state\"]\n",
    "            elif \"footprint\" in item.keys():\n",
    "                text += item[\"footprint\"]\n",
    "            elif \"target\" in item.keys():\n",
    "                text += item['target']\n",
    "            node_trace[\"text\"].append(text)\n",
    "\n",
    "            \n",
    "    #fill in edges between variant name and annotation names:\n",
    "    for anno in positions[var_name][\"annotations\"].keys():\n",
    "        edge_trace['x'] += [positions[var_name][\"text-coords\"][0], positions[var_name][\"annotations\"][anno][\"text-coords\"][0], None]\n",
    "        edge_trace['y'] += [positions[var_name][\"shape-coords\"][0][1], positions[var_name][\"annotations\"][anno][\"shape-coords\"][1][1], None]\n",
    "    \n",
    "    #add invisible points:\n",
    "    min_coords, max_coords = invisible_points(positions, var_name)\n",
    "    node_trace['x'].append(min_coords[0])\n",
    "    node_trace['y'].append(min_coords[1])\n",
    "    node_trace['x'].append(max_coords[0])\n",
    "    node_trace['y'].append(max_coords[1])\n",
    "    \n",
    "    layout = go.Layout(\n",
    "        width=plot_width,\n",
    "        height=plot_height,\n",
    "        xaxis = dict(\n",
    "            showgrid=False, \n",
    "            zeroline=False,\n",
    "            showline=False,\n",
    "            ticks='',\n",
    "            showticklabels=False\n",
    "        ),\n",
    "        yaxis = dict(\n",
    "            showgrid=False,\n",
    "            zeroline=False,\n",
    "            showline=False,\n",
    "            ticks='',\n",
    "            showticklabels=False\n",
    "        ),\n",
    "        showlegend=False,        \n",
    "    )\n",
    "\n",
    "    layout['shapes'] = generate_shapes(positions, var_name)\n",
    "\n",
    "    data = [node_trace, edge_trace]\n",
    "    fig = go.Figure(data=data, layout=layout)\n",
    "    return fig\n",
    "    "
   ]
  },
  {
   "cell_type": "code",
   "execution_count": 227,
   "metadata": {},
   "outputs": [],
   "source": [
    "#finds the longest label name\n",
    "def max_text_len(var_data):\n",
    "    \n",
    "    max_text_len = 0\n",
    "    \n",
    "    for anno, items in var_data.items():\n",
    "        if len(anno) > max_text_len:\n",
    "            max_text_len = len(anno)\n",
    "        for item in items:\n",
    "            text = item[\"biosample_term_name\"] + \": \"\n",
    "            if \"state\" in item.keys():\n",
    "                text += \"state\"\n",
    "            elif \"target\" in item.keys():\n",
    "                text += \"target\"\n",
    "            elif \"footprint\" in item.keys():\n",
    "                text += \"footprint\"\n",
    "            if len(text) > max_text_len:\n",
    "                max_text_len = len(text)\n",
    "    \n",
    "    return max_text_len"
   ]
  },
  {
   "cell_type": "code",
   "execution_count": 228,
   "metadata": {},
   "outputs": [],
   "source": [
    "def invisible_points(positions, var_name):\n",
    "    \n",
    "    min_coords = [i for i in positions[var_name][\"text-coords\"]]\n",
    "    max_coords = [i for i in positions[var_name][\"text-coords\"]]\n",
    "    \n",
    "    for anno, info in positions[var_name][\"annotations\"].items():\n",
    "        if info[\"text-coords\"][0] > max_coords[0]:\n",
    "            max_coords[0] = info[\"text-coords\"][0]\n",
    "        elif info[\"text-coords\"][0] < min_coords[0]:\n",
    "            min_coords[0] = info[\"text-coords\"][0]\n",
    "        if info[\"text-coords\"][1] > max_coords[1]:\n",
    "            max_coords[1] = info[\"text-coords\"][1]\n",
    "        elif info[\"text-coords\"][1] < min_coords[1]:\n",
    "            min_coords[1] = info[\"text-coords\"][1]\n",
    "        \n",
    "        for item in positions[var_name][\"annotations\"][anno][\"items\"]:\n",
    "            if item[\"text-coords\"][0] > max_coords[0]:\n",
    "                max_coords[0] = item[\"text-coords\"][0]\n",
    "            elif item[\"text-coords\"][0] < min_coords[0]:\n",
    "                min_coords[0] = item[\"text-coords\"][0]\n",
    "            if item[\"text-coords\"][1] > max_coords[1]:\n",
    "                max_coords[1] = item[\"text-coords\"][1]\n",
    "            elif item[\"text-coords\"][1] < min_coords[1]:\n",
    "                min_coords[1] = item[\"text-coords\"][1]\n",
    "        \n",
    "    #extend invisible x points to avoid text cutoffs:\n",
    "    min_coords[0] -= 25\n",
    "    max_coords[0] += 25\n",
    "    \n",
    "    return min_coords, max_coords"
   ]
  },
  {
   "cell_type": "code",
   "execution_count": 229,
   "metadata": {},
   "outputs": [
    {
     "name": "stdout",
     "output_type": "stream",
     "text": [
      "max items 4\n",
      "num annotations 3\n",
      "height 485.2030263919617\n",
      "width 988.7510598012988\n",
      "max text len: 26\n",
      "max items: 4 3\n"
     ]
    },
    {
     "data": {
      "application/vnd.plotly.v1+json": {
       "data": [
        {
         "hoverinfo": "closest",
         "marker": {
          "color": [],
          "line": {
           "width": 10
          },
          "opacity": 0,
          "size": 10
         },
         "mode": "markers+text",
         "text": [
          "test",
          "chromatin_state",
          "skeletal muscle: enhA1",
          "islet: promoter",
          "footprints",
          "islet: HNF4",
          "islet: PPARA",
          "hippocampus: TCF3",
          "skeletal muscle: STAT",
          "ChIP",
          "islet: FOXA2",
          "skeletal muscle: NKX2.2",
          "islet: CTCF"
         ],
         "type": "scatter",
         "x": [
          50,
          19,
          19,
          19,
          50,
          50,
          50,
          50,
          50,
          81,
          81,
          81,
          81,
          -6,
          106
         ],
         "y": [
          100,
          92,
          89,
          86,
          92,
          89,
          86,
          83,
          80,
          92,
          89,
          86,
          83,
          80,
          100
         ]
        },
        {
         "hoverinfo": "none",
         "line": {
          "color": "#888",
          "width": 2
         },
         "mode": "lines",
         "type": "scatter",
         "x": [
          50,
          19,
          null,
          50,
          50,
          null,
          50,
          81,
          null
         ],
         "y": [
          98.5,
          93.5,
          null,
          98.5,
          93.5,
          null,
          98.5,
          93.5,
          null
         ]
        }
       ],
       "layout": {
        "height": 485.2030263919617,
        "shapes": [
         {
          "fillcolor": "rgba(55, 128, 191, 0.6)",
          "line": {
           "color": "#888",
           "width": 2
          },
          "opacity": 0.5,
          "type": "rect",
          "x0": 37,
          "x1": 63,
          "xref": "x",
          "y0": 98.5,
          "y1": 101.5,
          "yref": "y"
         },
         {
          "fillcolor": "rgba(55, 128, 191, 0.6)",
          "line": {
           "color": "#888",
           "width": 2
          },
          "opacity": 0.5,
          "type": "rect",
          "x0": 6,
          "x1": 32,
          "xref": "x",
          "y0": 90.5,
          "y1": 93.5,
          "yref": "y"
         },
         {
          "fillcolor": "rgba(55, 128, 191, 0.6)",
          "line": {
           "color": "#888",
           "width": 2
          },
          "opacity": 0.5,
          "type": "rect",
          "x0": 6,
          "x1": 32,
          "xref": "x",
          "y0": 87.5,
          "y1": 90.5,
          "yref": "y"
         },
         {
          "fillcolor": "rgba(55, 128, 191, 0.6)",
          "line": {
           "color": "#888",
           "width": 2
          },
          "opacity": 0.5,
          "type": "rect",
          "x0": 6,
          "x1": 32,
          "xref": "x",
          "y0": 84.5,
          "y1": 87.5,
          "yref": "y"
         },
         {
          "fillcolor": "rgba(55, 128, 191, 0.6)",
          "line": {
           "color": "#888",
           "width": 2
          },
          "opacity": 0.5,
          "type": "rect",
          "x0": 37,
          "x1": 63,
          "xref": "x",
          "y0": 90.5,
          "y1": 93.5,
          "yref": "y"
         },
         {
          "fillcolor": "rgba(55, 128, 191, 0.6)",
          "line": {
           "color": "#888",
           "width": 2
          },
          "opacity": 0.5,
          "type": "rect",
          "x0": 37,
          "x1": 63,
          "xref": "x",
          "y0": 87.5,
          "y1": 90.5,
          "yref": "y"
         },
         {
          "fillcolor": "rgba(55, 128, 191, 0.6)",
          "line": {
           "color": "#888",
           "width": 2
          },
          "opacity": 0.5,
          "type": "rect",
          "x0": 37,
          "x1": 63,
          "xref": "x",
          "y0": 84.5,
          "y1": 87.5,
          "yref": "y"
         },
         {
          "fillcolor": "rgba(55, 128, 191, 0.6)",
          "line": {
           "color": "#888",
           "width": 2
          },
          "opacity": 0.5,
          "type": "rect",
          "x0": 37,
          "x1": 63,
          "xref": "x",
          "y0": 81.5,
          "y1": 84.5,
          "yref": "y"
         },
         {
          "fillcolor": "rgba(55, 128, 191, 0.6)",
          "line": {
           "color": "#888",
           "width": 2
          },
          "opacity": 0.5,
          "type": "rect",
          "x0": 37,
          "x1": 63,
          "xref": "x",
          "y0": 78.5,
          "y1": 81.5,
          "yref": "y"
         },
         {
          "fillcolor": "rgba(55, 128, 191, 0.6)",
          "line": {
           "color": "#888",
           "width": 2
          },
          "opacity": 0.5,
          "type": "rect",
          "x0": 68,
          "x1": 94,
          "xref": "x",
          "y0": 90.5,
          "y1": 93.5,
          "yref": "y"
         },
         {
          "fillcolor": "rgba(55, 128, 191, 0.6)",
          "line": {
           "color": "#888",
           "width": 2
          },
          "opacity": 0.5,
          "type": "rect",
          "x0": 68,
          "x1": 94,
          "xref": "x",
          "y0": 87.5,
          "y1": 90.5,
          "yref": "y"
         },
         {
          "fillcolor": "rgba(55, 128, 191, 0.6)",
          "line": {
           "color": "#888",
           "width": 2
          },
          "opacity": 0.5,
          "type": "rect",
          "x0": 68,
          "x1": 94,
          "xref": "x",
          "y0": 84.5,
          "y1": 87.5,
          "yref": "y"
         },
         {
          "fillcolor": "rgba(55, 128, 191, 0.6)",
          "line": {
           "color": "#888",
           "width": 2
          },
          "opacity": 0.5,
          "type": "rect",
          "x0": 68,
          "x1": 94,
          "xref": "x",
          "y0": 81.5,
          "y1": 84.5,
          "yref": "y"
         }
        ],
        "showlegend": false,
        "width": 988.7510598012988,
        "xaxis": {
         "showgrid": false,
         "showline": false,
         "showticklabels": false,
         "ticks": "",
         "zeroline": false
        },
        "yaxis": {
         "showgrid": false,
         "showline": false,
         "showticklabels": false,
         "ticks": "",
         "zeroline": false
        }
       }
      },
      "text/html": [
       "<div id=\"03d3c490-3aa3-493b-b95e-83e0fa2199f0\" style=\"height: 485.2030263919617px; width: 988.7510598012988px;\" class=\"plotly-graph-div\"></div><script type=\"text/javascript\">require([\"plotly\"], function(Plotly) { window.PLOTLYENV=window.PLOTLYENV || {};window.PLOTLYENV.BASE_URL=\"https://plot.ly\";Plotly.newPlot(\"03d3c490-3aa3-493b-b95e-83e0fa2199f0\", [{\"type\": \"scatter\", \"x\": [50.0, 19.0, 19.0, 19.0, 50.0, 50.0, 50.0, 50.0, 50.0, 81.0, 81.0, 81.0, 81.0, -6.0, 106.0], \"y\": [100, 92, 89, 86, 92, 89, 86, 83, 80, 92, 89, 86, 83, 80, 100], \"text\": [\"test\", \"chromatin_state\", \"skeletal muscle: enhA1\", \"islet: promoter\", \"footprints\", \"islet: HNF4\", \"islet: PPARA\", \"hippocampus: TCF3\", \"skeletal muscle: STAT\", \"ChIP\", \"islet: FOXA2\", \"skeletal muscle: NKX2.2\", \"islet: CTCF\"], \"mode\": \"markers+text\", \"hoverinfo\": \"closest\", \"marker\": {\"color\": [], \"size\": 10, \"line\": {\"width\": 10}, \"opacity\": 0.0}}, {\"type\": \"scatter\", \"x\": [50.0, 19.0, null, 50.0, 50.0, null, 50.0, 81.0, null], \"y\": [98.5, 93.5, null, 98.5, 93.5, null, 98.5, 93.5, null], \"line\": {\"width\": 2, \"color\": \"#888\"}, \"hoverinfo\": \"none\", \"mode\": \"lines\"}], {\"width\": 988.7510598012988, \"height\": 485.2030263919617, \"xaxis\": {\"showgrid\": false, \"zeroline\": false, \"showline\": false, \"ticks\": \"\", \"showticklabels\": false}, \"yaxis\": {\"showgrid\": false, \"zeroline\": false, \"showline\": false, \"ticks\": \"\", \"showticklabels\": false}, \"showlegend\": false, \"shapes\": [{\"type\": \"rect\", \"xref\": \"x\", \"yref\": \"y\", \"x0\": 37.0, \"y0\": 98.5, \"x1\": 63.0, \"y1\": 101.5, \"line\": {\"color\": \"#888\", \"width\": 2}, \"fillcolor\": \"rgba(55, 128, 191, 0.6)\", \"opacity\": 0.5}, {\"type\": \"rect\", \"xref\": \"x\", \"yref\": \"y\", \"x0\": 6.0, \"y0\": 90.5, \"x1\": 32.0, \"y1\": 93.5, \"line\": {\"color\": \"#888\", \"width\": 2}, \"fillcolor\": \"rgba(55, 128, 191, 0.6)\", \"opacity\": 0.5}, {\"type\": \"rect\", \"xref\": \"x\", \"yref\": \"y\", \"x0\": 6.0, \"y0\": 87.5, \"x1\": 32.0, \"y1\": 90.5, \"line\": {\"color\": \"#888\", \"width\": 2}, \"fillcolor\": \"rgba(55, 128, 191, 0.6)\", \"opacity\": 0.5}, {\"type\": \"rect\", \"xref\": \"x\", \"yref\": \"y\", \"x0\": 6.0, \"y0\": 84.5, \"x1\": 32.0, \"y1\": 87.5, \"line\": {\"color\": \"#888\", \"width\": 2}, \"fillcolor\": \"rgba(55, 128, 191, 0.6)\", \"opacity\": 0.5}, {\"type\": \"rect\", \"xref\": \"x\", \"yref\": \"y\", \"x0\": 37.0, \"y0\": 90.5, \"x1\": 63.0, \"y1\": 93.5, \"line\": {\"color\": \"#888\", \"width\": 2}, \"fillcolor\": \"rgba(55, 128, 191, 0.6)\", \"opacity\": 0.5}, {\"type\": \"rect\", \"xref\": \"x\", \"yref\": \"y\", \"x0\": 37.0, \"y0\": 87.5, \"x1\": 63.0, \"y1\": 90.5, \"line\": {\"color\": \"#888\", \"width\": 2}, \"fillcolor\": \"rgba(55, 128, 191, 0.6)\", \"opacity\": 0.5}, {\"type\": \"rect\", \"xref\": \"x\", \"yref\": \"y\", \"x0\": 37.0, \"y0\": 84.5, \"x1\": 63.0, \"y1\": 87.5, \"line\": {\"color\": \"#888\", \"width\": 2}, \"fillcolor\": \"rgba(55, 128, 191, 0.6)\", \"opacity\": 0.5}, {\"type\": \"rect\", \"xref\": \"x\", \"yref\": \"y\", \"x0\": 37.0, \"y0\": 81.5, \"x1\": 63.0, \"y1\": 84.5, \"line\": {\"color\": \"#888\", \"width\": 2}, \"fillcolor\": \"rgba(55, 128, 191, 0.6)\", \"opacity\": 0.5}, {\"type\": \"rect\", \"xref\": \"x\", \"yref\": \"y\", \"x0\": 37.0, \"y0\": 78.5, \"x1\": 63.0, \"y1\": 81.5, \"line\": {\"color\": \"#888\", \"width\": 2}, \"fillcolor\": \"rgba(55, 128, 191, 0.6)\", \"opacity\": 0.5}, {\"type\": \"rect\", \"xref\": \"x\", \"yref\": \"y\", \"x0\": 68.0, \"y0\": 90.5, \"x1\": 94.0, \"y1\": 93.5, \"line\": {\"color\": \"#888\", \"width\": 2}, \"fillcolor\": \"rgba(55, 128, 191, 0.6)\", \"opacity\": 0.5}, {\"type\": \"rect\", \"xref\": \"x\", \"yref\": \"y\", \"x0\": 68.0, \"y0\": 87.5, \"x1\": 94.0, \"y1\": 90.5, \"line\": {\"color\": \"#888\", \"width\": 2}, \"fillcolor\": \"rgba(55, 128, 191, 0.6)\", \"opacity\": 0.5}, {\"type\": \"rect\", \"xref\": \"x\", \"yref\": \"y\", \"x0\": 68.0, \"y0\": 84.5, \"x1\": 94.0, \"y1\": 87.5, \"line\": {\"color\": \"#888\", \"width\": 2}, \"fillcolor\": \"rgba(55, 128, 191, 0.6)\", \"opacity\": 0.5}, {\"type\": \"rect\", \"xref\": \"x\", \"yref\": \"y\", \"x0\": 68.0, \"y0\": 81.5, \"x1\": 94.0, \"y1\": 84.5, \"line\": {\"color\": \"#888\", \"width\": 2}, \"fillcolor\": \"rgba(55, 128, 191, 0.6)\", \"opacity\": 0.5}]}, {\"showLink\": true, \"linkText\": \"Export to plot.ly\"})});</script>"
      ],
      "text/vnd.plotly.v1+html": [
       "<div id=\"03d3c490-3aa3-493b-b95e-83e0fa2199f0\" style=\"height: 485.2030263919617px; width: 988.7510598012988px;\" class=\"plotly-graph-div\"></div><script type=\"text/javascript\">require([\"plotly\"], function(Plotly) { window.PLOTLYENV=window.PLOTLYENV || {};window.PLOTLYENV.BASE_URL=\"https://plot.ly\";Plotly.newPlot(\"03d3c490-3aa3-493b-b95e-83e0fa2199f0\", [{\"type\": \"scatter\", \"x\": [50.0, 19.0, 19.0, 19.0, 50.0, 50.0, 50.0, 50.0, 50.0, 81.0, 81.0, 81.0, 81.0, -6.0, 106.0], \"y\": [100, 92, 89, 86, 92, 89, 86, 83, 80, 92, 89, 86, 83, 80, 100], \"text\": [\"test\", \"chromatin_state\", \"skeletal muscle: enhA1\", \"islet: promoter\", \"footprints\", \"islet: HNF4\", \"islet: PPARA\", \"hippocampus: TCF3\", \"skeletal muscle: STAT\", \"ChIP\", \"islet: FOXA2\", \"skeletal muscle: NKX2.2\", \"islet: CTCF\"], \"mode\": \"markers+text\", \"hoverinfo\": \"closest\", \"marker\": {\"color\": [], \"size\": 10, \"line\": {\"width\": 10}, \"opacity\": 0.0}}, {\"type\": \"scatter\", \"x\": [50.0, 19.0, null, 50.0, 50.0, null, 50.0, 81.0, null], \"y\": [98.5, 93.5, null, 98.5, 93.5, null, 98.5, 93.5, null], \"line\": {\"width\": 2, \"color\": \"#888\"}, \"hoverinfo\": \"none\", \"mode\": \"lines\"}], {\"width\": 988.7510598012988, \"height\": 485.2030263919617, \"xaxis\": {\"showgrid\": false, \"zeroline\": false, \"showline\": false, \"ticks\": \"\", \"showticklabels\": false}, \"yaxis\": {\"showgrid\": false, \"zeroline\": false, \"showline\": false, \"ticks\": \"\", \"showticklabels\": false}, \"showlegend\": false, \"shapes\": [{\"type\": \"rect\", \"xref\": \"x\", \"yref\": \"y\", \"x0\": 37.0, \"y0\": 98.5, \"x1\": 63.0, \"y1\": 101.5, \"line\": {\"color\": \"#888\", \"width\": 2}, \"fillcolor\": \"rgba(55, 128, 191, 0.6)\", \"opacity\": 0.5}, {\"type\": \"rect\", \"xref\": \"x\", \"yref\": \"y\", \"x0\": 6.0, \"y0\": 90.5, \"x1\": 32.0, \"y1\": 93.5, \"line\": {\"color\": \"#888\", \"width\": 2}, \"fillcolor\": \"rgba(55, 128, 191, 0.6)\", \"opacity\": 0.5}, {\"type\": \"rect\", \"xref\": \"x\", \"yref\": \"y\", \"x0\": 6.0, \"y0\": 87.5, \"x1\": 32.0, \"y1\": 90.5, \"line\": {\"color\": \"#888\", \"width\": 2}, \"fillcolor\": \"rgba(55, 128, 191, 0.6)\", \"opacity\": 0.5}, {\"type\": \"rect\", \"xref\": \"x\", \"yref\": \"y\", \"x0\": 6.0, \"y0\": 84.5, \"x1\": 32.0, \"y1\": 87.5, \"line\": {\"color\": \"#888\", \"width\": 2}, \"fillcolor\": \"rgba(55, 128, 191, 0.6)\", \"opacity\": 0.5}, {\"type\": \"rect\", \"xref\": \"x\", \"yref\": \"y\", \"x0\": 37.0, \"y0\": 90.5, \"x1\": 63.0, \"y1\": 93.5, \"line\": {\"color\": \"#888\", \"width\": 2}, \"fillcolor\": \"rgba(55, 128, 191, 0.6)\", \"opacity\": 0.5}, {\"type\": \"rect\", \"xref\": \"x\", \"yref\": \"y\", \"x0\": 37.0, \"y0\": 87.5, \"x1\": 63.0, \"y1\": 90.5, \"line\": {\"color\": \"#888\", \"width\": 2}, \"fillcolor\": \"rgba(55, 128, 191, 0.6)\", \"opacity\": 0.5}, {\"type\": \"rect\", \"xref\": \"x\", \"yref\": \"y\", \"x0\": 37.0, \"y0\": 84.5, \"x1\": 63.0, \"y1\": 87.5, \"line\": {\"color\": \"#888\", \"width\": 2}, \"fillcolor\": \"rgba(55, 128, 191, 0.6)\", \"opacity\": 0.5}, {\"type\": \"rect\", \"xref\": \"x\", \"yref\": \"y\", \"x0\": 37.0, \"y0\": 81.5, \"x1\": 63.0, \"y1\": 84.5, \"line\": {\"color\": \"#888\", \"width\": 2}, \"fillcolor\": \"rgba(55, 128, 191, 0.6)\", \"opacity\": 0.5}, {\"type\": \"rect\", \"xref\": \"x\", \"yref\": \"y\", \"x0\": 37.0, \"y0\": 78.5, \"x1\": 63.0, \"y1\": 81.5, \"line\": {\"color\": \"#888\", \"width\": 2}, \"fillcolor\": \"rgba(55, 128, 191, 0.6)\", \"opacity\": 0.5}, {\"type\": \"rect\", \"xref\": \"x\", \"yref\": \"y\", \"x0\": 68.0, \"y0\": 90.5, \"x1\": 94.0, \"y1\": 93.5, \"line\": {\"color\": \"#888\", \"width\": 2}, \"fillcolor\": \"rgba(55, 128, 191, 0.6)\", \"opacity\": 0.5}, {\"type\": \"rect\", \"xref\": \"x\", \"yref\": \"y\", \"x0\": 68.0, \"y0\": 87.5, \"x1\": 94.0, \"y1\": 90.5, \"line\": {\"color\": \"#888\", \"width\": 2}, \"fillcolor\": \"rgba(55, 128, 191, 0.6)\", \"opacity\": 0.5}, {\"type\": \"rect\", \"xref\": \"x\", \"yref\": \"y\", \"x0\": 68.0, \"y0\": 84.5, \"x1\": 94.0, \"y1\": 87.5, \"line\": {\"color\": \"#888\", \"width\": 2}, \"fillcolor\": \"rgba(55, 128, 191, 0.6)\", \"opacity\": 0.5}, {\"type\": \"rect\", \"xref\": \"x\", \"yref\": \"y\", \"x0\": 68.0, \"y0\": 81.5, \"x1\": 94.0, \"y1\": 84.5, \"line\": {\"color\": \"#888\", \"width\": 2}, \"fillcolor\": \"rgba(55, 128, 191, 0.6)\", \"opacity\": 0.5}]}, {\"showLink\": true, \"linkText\": \"Export to plot.ly\"})});</script>"
      ]
     },
     "metadata": {},
     "output_type": "display_data"
    }
   ],
   "source": [
    "#thing = json.loads(open(\"testing.json\").read())\n",
    "#plot(make_graph(var_data=thing, var_name=\"test\", plot_height=1000, plot_width=600))\n",
    "iplot(make_graph(var_data=var_data, var_name=\"test\", plot_height=500, plot_width=1000, box_height=3, box_width=22, offset=27))"
   ]
  },
  {
   "cell_type": "code",
   "execution_count": 232,
   "metadata": {},
   "outputs": [
    {
     "name": "stdout",
     "output_type": "stream",
     "text": [
      "max items 22\n",
      "num annotations 2\n",
      "height 1081.8648586754107\n",
      "width 623.8324625039508\n",
      "max text len: 41\n",
      "max items: 22 2\n"
     ]
    },
    {
     "data": {
      "application/vnd.plotly.v1+json": {
       "data": [
        {
         "hoverinfo": "closest",
         "marker": {
          "color": [],
          "line": {
           "width": 10
          },
          "opacity": 0,
          "size": 10
         },
         "mode": "markers+text",
         "text": [
          "test",
          "chromatin state",
          "skeletal muscle tissue: 6_Weak_transcription",
          "keratinocyte: 6_Weak_transcription",
          "adipocyte: 6_Weak_transcription",
          "liver: 6_Weak_transcription",
          "mid-frontal lobe: 6_Weak_transcription",
          "CD34-PB: 6_Weak_transcription",
          "HepG2: 5_Strong_transcription",
          "islet of Langerhans: 10_Active_enhancer_2",
          "adipocyte: 11_Weak_enhancer",
          "skeletal muscle myoblast: 6_Weak_transcription",
          "endothelial cell of umbilical vein: 6_Weak_transcription",
          "layer of hippocampus: 6_Weak_transcription",
          "GM12878: 17_Weak_repressed_polycomb",
          "mucosa of rectum: 6_Weak_transcription",
          "substantia nigra: 6_Weak_transcription",
          "duodenum mucosa: 6_Weak_transcription",
          "rectal smooth muscle tissue: 6_Weak_transcription",
          "ESC derived cell line: 6_Weak_transcription",
          "footprint",
          "skeletal muscle tissue: HNF4",
          "skeletal muscle tissue: STAT",
          "skeletal muscle tissue: PPARA",
          "skeletal muscle tissue: TCF3",
          "keratinocyte: STAT",
          "keratinocyte: PPARA",
          "keratinocyte: TCF3",
          "adipocyte: PPARA",
          "adipocyte: TCF3",
          "liver: STAT",
          "mid-frontal lobe: PPARA",
          "mid-frontal lobe: TCF3",
          "mid-frontal lobe: STAT",
          "CD34-PB: TCF3",
          "CD34-PB: STAT",
          "CD34-PB: HNF4",
          "HepG2: TCF3",
          "HepG2: STAT",
          "HepG2: HNF4",
          "islet of Langerhans: STAT",
          "islet of Langerhans: HNF4",
          "islet of Langerhans: PPARA"
         ],
         "type": "scatter",
         "x": [
          50,
          4,
          4,
          4,
          4,
          4,
          4,
          4,
          4,
          4,
          4,
          4,
          4,
          4,
          4,
          4,
          4,
          4,
          4,
          4,
          96,
          96,
          96,
          96,
          96,
          96,
          96,
          96,
          96,
          96,
          96,
          96,
          96,
          96,
          96,
          96,
          96,
          96,
          96,
          96,
          96,
          96,
          96,
          -21,
          121
         ],
         "y": [
          100,
          92,
          88,
          84,
          80,
          76,
          72,
          68,
          64,
          60,
          56,
          52,
          48,
          44,
          40,
          36,
          32,
          28,
          24,
          20,
          92,
          88,
          84,
          80,
          76,
          72,
          68,
          64,
          60,
          56,
          52,
          48,
          44,
          40,
          36,
          32,
          28,
          24,
          20,
          16,
          12,
          8,
          4,
          4,
          100
         ]
        },
        {
         "hoverinfo": "none",
         "line": {
          "color": "#888",
          "width": 2
         },
         "mode": "lines",
         "type": "scatter",
         "x": [
          50,
          4,
          null,
          50,
          96,
          null
         ],
         "y": [
          98,
          94,
          null,
          98,
          94,
          null
         ]
        }
       ],
       "layout": {
        "height": 1081.8648586754107,
        "shapes": [
         {
          "fillcolor": "rgba(55, 128, 191, 0.6)",
          "line": {
           "color": "#888",
           "width": 2
          },
          "opacity": 0.5,
          "type": "rect",
          "x0": 29.5,
          "x1": 70.5,
          "xref": "x",
          "y0": 98,
          "y1": 102,
          "yref": "y"
         },
         {
          "fillcolor": "rgba(55, 128, 191, 0.6)",
          "line": {
           "color": "#888",
           "width": 2
          },
          "opacity": 0.5,
          "type": "rect",
          "x0": -16.5,
          "x1": 24.5,
          "xref": "x",
          "y0": 90,
          "y1": 94,
          "yref": "y"
         },
         {
          "fillcolor": "rgba(55, 128, 191, 0.6)",
          "line": {
           "color": "#888",
           "width": 2
          },
          "opacity": 0.5,
          "type": "rect",
          "x0": -16.5,
          "x1": 24.5,
          "xref": "x",
          "y0": 86,
          "y1": 90,
          "yref": "y"
         },
         {
          "fillcolor": "rgba(55, 128, 191, 0.6)",
          "line": {
           "color": "#888",
           "width": 2
          },
          "opacity": 0.5,
          "type": "rect",
          "x0": -16.5,
          "x1": 24.5,
          "xref": "x",
          "y0": 82,
          "y1": 86,
          "yref": "y"
         },
         {
          "fillcolor": "rgba(55, 128, 191, 0.6)",
          "line": {
           "color": "#888",
           "width": 2
          },
          "opacity": 0.5,
          "type": "rect",
          "x0": -16.5,
          "x1": 24.5,
          "xref": "x",
          "y0": 78,
          "y1": 82,
          "yref": "y"
         },
         {
          "fillcolor": "rgba(55, 128, 191, 0.6)",
          "line": {
           "color": "#888",
           "width": 2
          },
          "opacity": 0.5,
          "type": "rect",
          "x0": -16.5,
          "x1": 24.5,
          "xref": "x",
          "y0": 74,
          "y1": 78,
          "yref": "y"
         },
         {
          "fillcolor": "rgba(55, 128, 191, 0.6)",
          "line": {
           "color": "#888",
           "width": 2
          },
          "opacity": 0.5,
          "type": "rect",
          "x0": -16.5,
          "x1": 24.5,
          "xref": "x",
          "y0": 70,
          "y1": 74,
          "yref": "y"
         },
         {
          "fillcolor": "rgba(55, 128, 191, 0.6)",
          "line": {
           "color": "#888",
           "width": 2
          },
          "opacity": 0.5,
          "type": "rect",
          "x0": -16.5,
          "x1": 24.5,
          "xref": "x",
          "y0": 66,
          "y1": 70,
          "yref": "y"
         },
         {
          "fillcolor": "rgba(55, 128, 191, 0.6)",
          "line": {
           "color": "#888",
           "width": 2
          },
          "opacity": 0.5,
          "type": "rect",
          "x0": -16.5,
          "x1": 24.5,
          "xref": "x",
          "y0": 62,
          "y1": 66,
          "yref": "y"
         },
         {
          "fillcolor": "rgba(55, 128, 191, 0.6)",
          "line": {
           "color": "#888",
           "width": 2
          },
          "opacity": 0.5,
          "type": "rect",
          "x0": -16.5,
          "x1": 24.5,
          "xref": "x",
          "y0": 58,
          "y1": 62,
          "yref": "y"
         },
         {
          "fillcolor": "rgba(55, 128, 191, 0.6)",
          "line": {
           "color": "#888",
           "width": 2
          },
          "opacity": 0.5,
          "type": "rect",
          "x0": -16.5,
          "x1": 24.5,
          "xref": "x",
          "y0": 54,
          "y1": 58,
          "yref": "y"
         },
         {
          "fillcolor": "rgba(55, 128, 191, 0.6)",
          "line": {
           "color": "#888",
           "width": 2
          },
          "opacity": 0.5,
          "type": "rect",
          "x0": -16.5,
          "x1": 24.5,
          "xref": "x",
          "y0": 50,
          "y1": 54,
          "yref": "y"
         },
         {
          "fillcolor": "rgba(55, 128, 191, 0.6)",
          "line": {
           "color": "#888",
           "width": 2
          },
          "opacity": 0.5,
          "type": "rect",
          "x0": -16.5,
          "x1": 24.5,
          "xref": "x",
          "y0": 46,
          "y1": 50,
          "yref": "y"
         },
         {
          "fillcolor": "rgba(55, 128, 191, 0.6)",
          "line": {
           "color": "#888",
           "width": 2
          },
          "opacity": 0.5,
          "type": "rect",
          "x0": -16.5,
          "x1": 24.5,
          "xref": "x",
          "y0": 42,
          "y1": 46,
          "yref": "y"
         },
         {
          "fillcolor": "rgba(55, 128, 191, 0.6)",
          "line": {
           "color": "#888",
           "width": 2
          },
          "opacity": 0.5,
          "type": "rect",
          "x0": -16.5,
          "x1": 24.5,
          "xref": "x",
          "y0": 38,
          "y1": 42,
          "yref": "y"
         },
         {
          "fillcolor": "rgba(55, 128, 191, 0.6)",
          "line": {
           "color": "#888",
           "width": 2
          },
          "opacity": 0.5,
          "type": "rect",
          "x0": -16.5,
          "x1": 24.5,
          "xref": "x",
          "y0": 34,
          "y1": 38,
          "yref": "y"
         },
         {
          "fillcolor": "rgba(55, 128, 191, 0.6)",
          "line": {
           "color": "#888",
           "width": 2
          },
          "opacity": 0.5,
          "type": "rect",
          "x0": -16.5,
          "x1": 24.5,
          "xref": "x",
          "y0": 30,
          "y1": 34,
          "yref": "y"
         },
         {
          "fillcolor": "rgba(55, 128, 191, 0.6)",
          "line": {
           "color": "#888",
           "width": 2
          },
          "opacity": 0.5,
          "type": "rect",
          "x0": -16.5,
          "x1": 24.5,
          "xref": "x",
          "y0": 26,
          "y1": 30,
          "yref": "y"
         },
         {
          "fillcolor": "rgba(55, 128, 191, 0.6)",
          "line": {
           "color": "#888",
           "width": 2
          },
          "opacity": 0.5,
          "type": "rect",
          "x0": -16.5,
          "x1": 24.5,
          "xref": "x",
          "y0": 22,
          "y1": 26,
          "yref": "y"
         },
         {
          "fillcolor": "rgba(55, 128, 191, 0.6)",
          "line": {
           "color": "#888",
           "width": 2
          },
          "opacity": 0.5,
          "type": "rect",
          "x0": -16.5,
          "x1": 24.5,
          "xref": "x",
          "y0": 18,
          "y1": 22,
          "yref": "y"
         },
         {
          "fillcolor": "rgba(55, 128, 191, 0.6)",
          "line": {
           "color": "#888",
           "width": 2
          },
          "opacity": 0.5,
          "type": "rect",
          "x0": 75.5,
          "x1": 116.5,
          "xref": "x",
          "y0": 90,
          "y1": 94,
          "yref": "y"
         },
         {
          "fillcolor": "rgba(55, 128, 191, 0.6)",
          "line": {
           "color": "#888",
           "width": 2
          },
          "opacity": 0.5,
          "type": "rect",
          "x0": 75.5,
          "x1": 116.5,
          "xref": "x",
          "y0": 86,
          "y1": 90,
          "yref": "y"
         },
         {
          "fillcolor": "rgba(55, 128, 191, 0.6)",
          "line": {
           "color": "#888",
           "width": 2
          },
          "opacity": 0.5,
          "type": "rect",
          "x0": 75.5,
          "x1": 116.5,
          "xref": "x",
          "y0": 82,
          "y1": 86,
          "yref": "y"
         },
         {
          "fillcolor": "rgba(55, 128, 191, 0.6)",
          "line": {
           "color": "#888",
           "width": 2
          },
          "opacity": 0.5,
          "type": "rect",
          "x0": 75.5,
          "x1": 116.5,
          "xref": "x",
          "y0": 78,
          "y1": 82,
          "yref": "y"
         },
         {
          "fillcolor": "rgba(55, 128, 191, 0.6)",
          "line": {
           "color": "#888",
           "width": 2
          },
          "opacity": 0.5,
          "type": "rect",
          "x0": 75.5,
          "x1": 116.5,
          "xref": "x",
          "y0": 74,
          "y1": 78,
          "yref": "y"
         },
         {
          "fillcolor": "rgba(55, 128, 191, 0.6)",
          "line": {
           "color": "#888",
           "width": 2
          },
          "opacity": 0.5,
          "type": "rect",
          "x0": 75.5,
          "x1": 116.5,
          "xref": "x",
          "y0": 70,
          "y1": 74,
          "yref": "y"
         },
         {
          "fillcolor": "rgba(55, 128, 191, 0.6)",
          "line": {
           "color": "#888",
           "width": 2
          },
          "opacity": 0.5,
          "type": "rect",
          "x0": 75.5,
          "x1": 116.5,
          "xref": "x",
          "y0": 66,
          "y1": 70,
          "yref": "y"
         },
         {
          "fillcolor": "rgba(55, 128, 191, 0.6)",
          "line": {
           "color": "#888",
           "width": 2
          },
          "opacity": 0.5,
          "type": "rect",
          "x0": 75.5,
          "x1": 116.5,
          "xref": "x",
          "y0": 62,
          "y1": 66,
          "yref": "y"
         },
         {
          "fillcolor": "rgba(55, 128, 191, 0.6)",
          "line": {
           "color": "#888",
           "width": 2
          },
          "opacity": 0.5,
          "type": "rect",
          "x0": 75.5,
          "x1": 116.5,
          "xref": "x",
          "y0": 58,
          "y1": 62,
          "yref": "y"
         },
         {
          "fillcolor": "rgba(55, 128, 191, 0.6)",
          "line": {
           "color": "#888",
           "width": 2
          },
          "opacity": 0.5,
          "type": "rect",
          "x0": 75.5,
          "x1": 116.5,
          "xref": "x",
          "y0": 54,
          "y1": 58,
          "yref": "y"
         },
         {
          "fillcolor": "rgba(55, 128, 191, 0.6)",
          "line": {
           "color": "#888",
           "width": 2
          },
          "opacity": 0.5,
          "type": "rect",
          "x0": 75.5,
          "x1": 116.5,
          "xref": "x",
          "y0": 50,
          "y1": 54,
          "yref": "y"
         },
         {
          "fillcolor": "rgba(55, 128, 191, 0.6)",
          "line": {
           "color": "#888",
           "width": 2
          },
          "opacity": 0.5,
          "type": "rect",
          "x0": 75.5,
          "x1": 116.5,
          "xref": "x",
          "y0": 46,
          "y1": 50,
          "yref": "y"
         },
         {
          "fillcolor": "rgba(55, 128, 191, 0.6)",
          "line": {
           "color": "#888",
           "width": 2
          },
          "opacity": 0.5,
          "type": "rect",
          "x0": 75.5,
          "x1": 116.5,
          "xref": "x",
          "y0": 42,
          "y1": 46,
          "yref": "y"
         },
         {
          "fillcolor": "rgba(55, 128, 191, 0.6)",
          "line": {
           "color": "#888",
           "width": 2
          },
          "opacity": 0.5,
          "type": "rect",
          "x0": 75.5,
          "x1": 116.5,
          "xref": "x",
          "y0": 38,
          "y1": 42,
          "yref": "y"
         },
         {
          "fillcolor": "rgba(55, 128, 191, 0.6)",
          "line": {
           "color": "#888",
           "width": 2
          },
          "opacity": 0.5,
          "type": "rect",
          "x0": 75.5,
          "x1": 116.5,
          "xref": "x",
          "y0": 34,
          "y1": 38,
          "yref": "y"
         },
         {
          "fillcolor": "rgba(55, 128, 191, 0.6)",
          "line": {
           "color": "#888",
           "width": 2
          },
          "opacity": 0.5,
          "type": "rect",
          "x0": 75.5,
          "x1": 116.5,
          "xref": "x",
          "y0": 30,
          "y1": 34,
          "yref": "y"
         },
         {
          "fillcolor": "rgba(55, 128, 191, 0.6)",
          "line": {
           "color": "#888",
           "width": 2
          },
          "opacity": 0.5,
          "type": "rect",
          "x0": 75.5,
          "x1": 116.5,
          "xref": "x",
          "y0": 26,
          "y1": 30,
          "yref": "y"
         },
         {
          "fillcolor": "rgba(55, 128, 191, 0.6)",
          "line": {
           "color": "#888",
           "width": 2
          },
          "opacity": 0.5,
          "type": "rect",
          "x0": 75.5,
          "x1": 116.5,
          "xref": "x",
          "y0": 22,
          "y1": 26,
          "yref": "y"
         },
         {
          "fillcolor": "rgba(55, 128, 191, 0.6)",
          "line": {
           "color": "#888",
           "width": 2
          },
          "opacity": 0.5,
          "type": "rect",
          "x0": 75.5,
          "x1": 116.5,
          "xref": "x",
          "y0": 18,
          "y1": 22,
          "yref": "y"
         },
         {
          "fillcolor": "rgba(55, 128, 191, 0.6)",
          "line": {
           "color": "#888",
           "width": 2
          },
          "opacity": 0.5,
          "type": "rect",
          "x0": 75.5,
          "x1": 116.5,
          "xref": "x",
          "y0": 14,
          "y1": 18,
          "yref": "y"
         },
         {
          "fillcolor": "rgba(55, 128, 191, 0.6)",
          "line": {
           "color": "#888",
           "width": 2
          },
          "opacity": 0.5,
          "type": "rect",
          "x0": 75.5,
          "x1": 116.5,
          "xref": "x",
          "y0": 10,
          "y1": 14,
          "yref": "y"
         },
         {
          "fillcolor": "rgba(55, 128, 191, 0.6)",
          "line": {
           "color": "#888",
           "width": 2
          },
          "opacity": 0.5,
          "type": "rect",
          "x0": 75.5,
          "x1": 116.5,
          "xref": "x",
          "y0": 6,
          "y1": 10,
          "yref": "y"
         },
         {
          "fillcolor": "rgba(55, 128, 191, 0.6)",
          "line": {
           "color": "#888",
           "width": 2
          },
          "opacity": 0.5,
          "type": "rect",
          "x0": 75.5,
          "x1": 116.5,
          "xref": "x",
          "y0": 2,
          "y1": 6,
          "yref": "y"
         }
        ],
        "showlegend": false,
        "width": 623.8324625039508,
        "xaxis": {
         "showgrid": false,
         "showline": false,
         "showticklabels": false,
         "ticks": "",
         "zeroline": false
        },
        "yaxis": {
         "showgrid": false,
         "showline": false,
         "showticklabels": false,
         "ticks": "",
         "zeroline": false
        }
       }
      },
      "text/html": [
       "<div id=\"ff8c11b8-ea65-4f26-a722-66a77e44f33f\" style=\"height: 1081.8648586754107px; width: 623.8324625039508px;\" class=\"plotly-graph-div\"></div><script type=\"text/javascript\">require([\"plotly\"], function(Plotly) { window.PLOTLYENV=window.PLOTLYENV || {};window.PLOTLYENV.BASE_URL=\"https://plot.ly\";Plotly.newPlot(\"ff8c11b8-ea65-4f26-a722-66a77e44f33f\", [{\"type\": \"scatter\", \"x\": [50.0, 4.0, 4.0, 4.0, 4.0, 4.0, 4.0, 4.0, 4.0, 4.0, 4.0, 4.0, 4.0, 4.0, 4.0, 4.0, 4.0, 4.0, 4.0, 4.0, 96.0, 96.0, 96.0, 96.0, 96.0, 96.0, 96.0, 96.0, 96.0, 96.0, 96.0, 96.0, 96.0, 96.0, 96.0, 96.0, 96.0, 96.0, 96.0, 96.0, 96.0, 96.0, 96.0, -21.0, 121.0], \"y\": [100, 92, 88, 84, 80, 76, 72, 68, 64, 60, 56, 52, 48, 44, 40, 36, 32, 28, 24, 20, 92, 88, 84, 80, 76, 72, 68, 64, 60, 56, 52, 48, 44, 40, 36, 32, 28, 24, 20, 16, 12, 8, 4, 4, 100], \"text\": [\"test\", \"chromatin state\", \"skeletal muscle tissue: 6_Weak_transcription\", \"keratinocyte: 6_Weak_transcription\", \"adipocyte: 6_Weak_transcription\", \"liver: 6_Weak_transcription\", \"mid-frontal lobe: 6_Weak_transcription\", \"CD34-PB: 6_Weak_transcription\", \"HepG2: 5_Strong_transcription\", \"islet of Langerhans: 10_Active_enhancer_2\", \"adipocyte: 11_Weak_enhancer\", \"skeletal muscle myoblast: 6_Weak_transcription\", \"endothelial cell of umbilical vein: 6_Weak_transcription\", \"layer of hippocampus: 6_Weak_transcription\", \"GM12878: 17_Weak_repressed_polycomb\", \"mucosa of rectum: 6_Weak_transcription\", \"substantia nigra: 6_Weak_transcription\", \"duodenum mucosa: 6_Weak_transcription\", \"rectal smooth muscle tissue: 6_Weak_transcription\", \"ESC derived cell line: 6_Weak_transcription\", \"footprint\", \"skeletal muscle tissue: HNF4\", \"skeletal muscle tissue: STAT\", \"skeletal muscle tissue: PPARA\", \"skeletal muscle tissue: TCF3\", \"keratinocyte: STAT\", \"keratinocyte: PPARA\", \"keratinocyte: TCF3\", \"adipocyte: PPARA\", \"adipocyte: TCF3\", \"liver: STAT\", \"mid-frontal lobe: PPARA\", \"mid-frontal lobe: TCF3\", \"mid-frontal lobe: STAT\", \"CD34-PB: TCF3\", \"CD34-PB: STAT\", \"CD34-PB: HNF4\", \"HepG2: TCF3\", \"HepG2: STAT\", \"HepG2: HNF4\", \"islet of Langerhans: STAT\", \"islet of Langerhans: HNF4\", \"islet of Langerhans: PPARA\"], \"mode\": \"markers+text\", \"hoverinfo\": \"closest\", \"marker\": {\"color\": [], \"size\": 10, \"line\": {\"width\": 10}, \"opacity\": 0.0}}, {\"type\": \"scatter\", \"x\": [50.0, 4.0, null, 50.0, 96.0, null], \"y\": [98.0, 94.0, null, 98.0, 94.0, null], \"line\": {\"width\": 2, \"color\": \"#888\"}, \"hoverinfo\": \"none\", \"mode\": \"lines\"}], {\"width\": 623.8324625039508, \"height\": 1081.8648586754107, \"xaxis\": {\"showgrid\": false, \"zeroline\": false, \"showline\": false, \"ticks\": \"\", \"showticklabels\": false}, \"yaxis\": {\"showgrid\": false, \"zeroline\": false, \"showline\": false, \"ticks\": \"\", \"showticklabels\": false}, \"showlegend\": false, \"shapes\": [{\"type\": \"rect\", \"xref\": \"x\", \"yref\": \"y\", \"x0\": 29.5, \"y0\": 98.0, \"x1\": 70.5, \"y1\": 102.0, \"line\": {\"color\": \"#888\", \"width\": 2}, \"fillcolor\": \"rgba(55, 128, 191, 0.6)\", \"opacity\": 0.5}, {\"type\": \"rect\", \"xref\": \"x\", \"yref\": \"y\", \"x0\": -16.5, \"y0\": 90.0, \"x1\": 24.5, \"y1\": 94.0, \"line\": {\"color\": \"#888\", \"width\": 2}, \"fillcolor\": \"rgba(55, 128, 191, 0.6)\", \"opacity\": 0.5}, {\"type\": \"rect\", \"xref\": \"x\", \"yref\": \"y\", \"x0\": -16.5, \"y0\": 86.0, \"x1\": 24.5, \"y1\": 90.0, \"line\": {\"color\": \"#888\", \"width\": 2}, \"fillcolor\": \"rgba(55, 128, 191, 0.6)\", \"opacity\": 0.5}, {\"type\": \"rect\", \"xref\": \"x\", \"yref\": \"y\", \"x0\": -16.5, \"y0\": 82.0, \"x1\": 24.5, \"y1\": 86.0, \"line\": {\"color\": \"#888\", \"width\": 2}, \"fillcolor\": \"rgba(55, 128, 191, 0.6)\", \"opacity\": 0.5}, {\"type\": \"rect\", \"xref\": \"x\", \"yref\": \"y\", \"x0\": -16.5, \"y0\": 78.0, \"x1\": 24.5, \"y1\": 82.0, \"line\": {\"color\": \"#888\", \"width\": 2}, \"fillcolor\": \"rgba(55, 128, 191, 0.6)\", \"opacity\": 0.5}, {\"type\": \"rect\", \"xref\": \"x\", \"yref\": \"y\", \"x0\": -16.5, \"y0\": 74.0, \"x1\": 24.5, \"y1\": 78.0, \"line\": {\"color\": \"#888\", \"width\": 2}, \"fillcolor\": \"rgba(55, 128, 191, 0.6)\", \"opacity\": 0.5}, {\"type\": \"rect\", \"xref\": \"x\", \"yref\": \"y\", \"x0\": -16.5, \"y0\": 70.0, \"x1\": 24.5, \"y1\": 74.0, \"line\": {\"color\": \"#888\", \"width\": 2}, \"fillcolor\": \"rgba(55, 128, 191, 0.6)\", \"opacity\": 0.5}, {\"type\": \"rect\", \"xref\": \"x\", \"yref\": \"y\", \"x0\": -16.5, \"y0\": 66.0, \"x1\": 24.5, \"y1\": 70.0, \"line\": {\"color\": \"#888\", \"width\": 2}, \"fillcolor\": \"rgba(55, 128, 191, 0.6)\", \"opacity\": 0.5}, {\"type\": \"rect\", \"xref\": \"x\", \"yref\": \"y\", \"x0\": -16.5, \"y0\": 62.0, \"x1\": 24.5, \"y1\": 66.0, \"line\": {\"color\": \"#888\", \"width\": 2}, \"fillcolor\": \"rgba(55, 128, 191, 0.6)\", \"opacity\": 0.5}, {\"type\": \"rect\", \"xref\": \"x\", \"yref\": \"y\", \"x0\": -16.5, \"y0\": 58.0, \"x1\": 24.5, \"y1\": 62.0, \"line\": {\"color\": \"#888\", \"width\": 2}, \"fillcolor\": \"rgba(55, 128, 191, 0.6)\", \"opacity\": 0.5}, {\"type\": \"rect\", \"xref\": \"x\", \"yref\": \"y\", \"x0\": -16.5, \"y0\": 54.0, \"x1\": 24.5, \"y1\": 58.0, \"line\": {\"color\": \"#888\", \"width\": 2}, \"fillcolor\": \"rgba(55, 128, 191, 0.6)\", \"opacity\": 0.5}, {\"type\": \"rect\", \"xref\": \"x\", \"yref\": \"y\", \"x0\": -16.5, \"y0\": 50.0, \"x1\": 24.5, \"y1\": 54.0, \"line\": {\"color\": \"#888\", \"width\": 2}, \"fillcolor\": \"rgba(55, 128, 191, 0.6)\", \"opacity\": 0.5}, {\"type\": \"rect\", \"xref\": \"x\", \"yref\": \"y\", \"x0\": -16.5, \"y0\": 46.0, \"x1\": 24.5, \"y1\": 50.0, \"line\": {\"color\": \"#888\", \"width\": 2}, \"fillcolor\": \"rgba(55, 128, 191, 0.6)\", \"opacity\": 0.5}, {\"type\": \"rect\", \"xref\": \"x\", \"yref\": \"y\", \"x0\": -16.5, \"y0\": 42.0, \"x1\": 24.5, \"y1\": 46.0, \"line\": {\"color\": \"#888\", \"width\": 2}, \"fillcolor\": \"rgba(55, 128, 191, 0.6)\", \"opacity\": 0.5}, {\"type\": \"rect\", \"xref\": \"x\", \"yref\": \"y\", \"x0\": -16.5, \"y0\": 38.0, \"x1\": 24.5, \"y1\": 42.0, \"line\": {\"color\": \"#888\", \"width\": 2}, \"fillcolor\": \"rgba(55, 128, 191, 0.6)\", \"opacity\": 0.5}, {\"type\": \"rect\", \"xref\": \"x\", \"yref\": \"y\", \"x0\": -16.5, \"y0\": 34.0, \"x1\": 24.5, \"y1\": 38.0, \"line\": {\"color\": \"#888\", \"width\": 2}, \"fillcolor\": \"rgba(55, 128, 191, 0.6)\", \"opacity\": 0.5}, {\"type\": \"rect\", \"xref\": \"x\", \"yref\": \"y\", \"x0\": -16.5, \"y0\": 30.0, \"x1\": 24.5, \"y1\": 34.0, \"line\": {\"color\": \"#888\", \"width\": 2}, \"fillcolor\": \"rgba(55, 128, 191, 0.6)\", \"opacity\": 0.5}, {\"type\": \"rect\", \"xref\": \"x\", \"yref\": \"y\", \"x0\": -16.5, \"y0\": 26.0, \"x1\": 24.5, \"y1\": 30.0, \"line\": {\"color\": \"#888\", \"width\": 2}, \"fillcolor\": \"rgba(55, 128, 191, 0.6)\", \"opacity\": 0.5}, {\"type\": \"rect\", \"xref\": \"x\", \"yref\": \"y\", \"x0\": -16.5, \"y0\": 22.0, \"x1\": 24.5, \"y1\": 26.0, \"line\": {\"color\": \"#888\", \"width\": 2}, \"fillcolor\": \"rgba(55, 128, 191, 0.6)\", \"opacity\": 0.5}, {\"type\": \"rect\", \"xref\": \"x\", \"yref\": \"y\", \"x0\": -16.5, \"y0\": 18.0, \"x1\": 24.5, \"y1\": 22.0, \"line\": {\"color\": \"#888\", \"width\": 2}, \"fillcolor\": \"rgba(55, 128, 191, 0.6)\", \"opacity\": 0.5}, {\"type\": \"rect\", \"xref\": \"x\", \"yref\": \"y\", \"x0\": 75.5, \"y0\": 90.0, \"x1\": 116.5, \"y1\": 94.0, \"line\": {\"color\": \"#888\", \"width\": 2}, \"fillcolor\": \"rgba(55, 128, 191, 0.6)\", \"opacity\": 0.5}, {\"type\": \"rect\", \"xref\": \"x\", \"yref\": \"y\", \"x0\": 75.5, \"y0\": 86.0, \"x1\": 116.5, \"y1\": 90.0, \"line\": {\"color\": \"#888\", \"width\": 2}, \"fillcolor\": \"rgba(55, 128, 191, 0.6)\", \"opacity\": 0.5}, {\"type\": \"rect\", \"xref\": \"x\", \"yref\": \"y\", \"x0\": 75.5, \"y0\": 82.0, \"x1\": 116.5, \"y1\": 86.0, \"line\": {\"color\": \"#888\", \"width\": 2}, \"fillcolor\": \"rgba(55, 128, 191, 0.6)\", \"opacity\": 0.5}, {\"type\": \"rect\", \"xref\": \"x\", \"yref\": \"y\", \"x0\": 75.5, \"y0\": 78.0, \"x1\": 116.5, \"y1\": 82.0, \"line\": {\"color\": \"#888\", \"width\": 2}, \"fillcolor\": \"rgba(55, 128, 191, 0.6)\", \"opacity\": 0.5}, {\"type\": \"rect\", \"xref\": \"x\", \"yref\": \"y\", \"x0\": 75.5, \"y0\": 74.0, \"x1\": 116.5, \"y1\": 78.0, \"line\": {\"color\": \"#888\", \"width\": 2}, \"fillcolor\": \"rgba(55, 128, 191, 0.6)\", \"opacity\": 0.5}, {\"type\": \"rect\", \"xref\": \"x\", \"yref\": \"y\", \"x0\": 75.5, \"y0\": 70.0, \"x1\": 116.5, \"y1\": 74.0, \"line\": {\"color\": \"#888\", \"width\": 2}, \"fillcolor\": \"rgba(55, 128, 191, 0.6)\", \"opacity\": 0.5}, {\"type\": \"rect\", \"xref\": \"x\", \"yref\": \"y\", \"x0\": 75.5, \"y0\": 66.0, \"x1\": 116.5, \"y1\": 70.0, \"line\": {\"color\": \"#888\", \"width\": 2}, \"fillcolor\": \"rgba(55, 128, 191, 0.6)\", \"opacity\": 0.5}, {\"type\": \"rect\", \"xref\": \"x\", \"yref\": \"y\", \"x0\": 75.5, \"y0\": 62.0, \"x1\": 116.5, \"y1\": 66.0, \"line\": {\"color\": \"#888\", \"width\": 2}, \"fillcolor\": \"rgba(55, 128, 191, 0.6)\", \"opacity\": 0.5}, {\"type\": \"rect\", \"xref\": \"x\", \"yref\": \"y\", \"x0\": 75.5, \"y0\": 58.0, \"x1\": 116.5, \"y1\": 62.0, \"line\": {\"color\": \"#888\", \"width\": 2}, \"fillcolor\": \"rgba(55, 128, 191, 0.6)\", \"opacity\": 0.5}, {\"type\": \"rect\", \"xref\": \"x\", \"yref\": \"y\", \"x0\": 75.5, \"y0\": 54.0, \"x1\": 116.5, \"y1\": 58.0, \"line\": {\"color\": \"#888\", \"width\": 2}, \"fillcolor\": \"rgba(55, 128, 191, 0.6)\", \"opacity\": 0.5}, {\"type\": \"rect\", \"xref\": \"x\", \"yref\": \"y\", \"x0\": 75.5, \"y0\": 50.0, \"x1\": 116.5, \"y1\": 54.0, \"line\": {\"color\": \"#888\", \"width\": 2}, \"fillcolor\": \"rgba(55, 128, 191, 0.6)\", \"opacity\": 0.5}, {\"type\": \"rect\", \"xref\": \"x\", \"yref\": \"y\", \"x0\": 75.5, \"y0\": 46.0, \"x1\": 116.5, \"y1\": 50.0, \"line\": {\"color\": \"#888\", \"width\": 2}, \"fillcolor\": \"rgba(55, 128, 191, 0.6)\", \"opacity\": 0.5}, {\"type\": \"rect\", \"xref\": \"x\", \"yref\": \"y\", \"x0\": 75.5, \"y0\": 42.0, \"x1\": 116.5, \"y1\": 46.0, \"line\": {\"color\": \"#888\", \"width\": 2}, \"fillcolor\": \"rgba(55, 128, 191, 0.6)\", \"opacity\": 0.5}, {\"type\": \"rect\", \"xref\": \"x\", \"yref\": \"y\", \"x0\": 75.5, \"y0\": 38.0, \"x1\": 116.5, \"y1\": 42.0, \"line\": {\"color\": \"#888\", \"width\": 2}, \"fillcolor\": \"rgba(55, 128, 191, 0.6)\", \"opacity\": 0.5}, {\"type\": \"rect\", \"xref\": \"x\", \"yref\": \"y\", \"x0\": 75.5, \"y0\": 34.0, \"x1\": 116.5, \"y1\": 38.0, \"line\": {\"color\": \"#888\", \"width\": 2}, \"fillcolor\": \"rgba(55, 128, 191, 0.6)\", \"opacity\": 0.5}, {\"type\": \"rect\", \"xref\": \"x\", \"yref\": \"y\", \"x0\": 75.5, \"y0\": 30.0, \"x1\": 116.5, \"y1\": 34.0, \"line\": {\"color\": \"#888\", \"width\": 2}, \"fillcolor\": \"rgba(55, 128, 191, 0.6)\", \"opacity\": 0.5}, {\"type\": \"rect\", \"xref\": \"x\", \"yref\": \"y\", \"x0\": 75.5, \"y0\": 26.0, \"x1\": 116.5, \"y1\": 30.0, \"line\": {\"color\": \"#888\", \"width\": 2}, \"fillcolor\": \"rgba(55, 128, 191, 0.6)\", \"opacity\": 0.5}, {\"type\": \"rect\", \"xref\": \"x\", \"yref\": \"y\", \"x0\": 75.5, \"y0\": 22.0, \"x1\": 116.5, \"y1\": 26.0, \"line\": {\"color\": \"#888\", \"width\": 2}, \"fillcolor\": \"rgba(55, 128, 191, 0.6)\", \"opacity\": 0.5}, {\"type\": \"rect\", \"xref\": \"x\", \"yref\": \"y\", \"x0\": 75.5, \"y0\": 18.0, \"x1\": 116.5, \"y1\": 22.0, \"line\": {\"color\": \"#888\", \"width\": 2}, \"fillcolor\": \"rgba(55, 128, 191, 0.6)\", \"opacity\": 0.5}, {\"type\": \"rect\", \"xref\": \"x\", \"yref\": \"y\", \"x0\": 75.5, \"y0\": 14.0, \"x1\": 116.5, \"y1\": 18.0, \"line\": {\"color\": \"#888\", \"width\": 2}, \"fillcolor\": \"rgba(55, 128, 191, 0.6)\", \"opacity\": 0.5}, {\"type\": \"rect\", \"xref\": \"x\", \"yref\": \"y\", \"x0\": 75.5, \"y0\": 10.0, \"x1\": 116.5, \"y1\": 14.0, \"line\": {\"color\": \"#888\", \"width\": 2}, \"fillcolor\": \"rgba(55, 128, 191, 0.6)\", \"opacity\": 0.5}, {\"type\": \"rect\", \"xref\": \"x\", \"yref\": \"y\", \"x0\": 75.5, \"y0\": 6.0, \"x1\": 116.5, \"y1\": 10.0, \"line\": {\"color\": \"#888\", \"width\": 2}, \"fillcolor\": \"rgba(55, 128, 191, 0.6)\", \"opacity\": 0.5}, {\"type\": \"rect\", \"xref\": \"x\", \"yref\": \"y\", \"x0\": 75.5, \"y0\": 2.0, \"x1\": 116.5, \"y1\": 6.0, \"line\": {\"color\": \"#888\", \"width\": 2}, \"fillcolor\": \"rgba(55, 128, 191, 0.6)\", \"opacity\": 0.5}]}, {\"showLink\": true, \"linkText\": \"Export to plot.ly\"})});</script>"
      ],
      "text/vnd.plotly.v1+html": [
       "<div id=\"ff8c11b8-ea65-4f26-a722-66a77e44f33f\" style=\"height: 1081.8648586754107px; width: 623.8324625039508px;\" class=\"plotly-graph-div\"></div><script type=\"text/javascript\">require([\"plotly\"], function(Plotly) { window.PLOTLYENV=window.PLOTLYENV || {};window.PLOTLYENV.BASE_URL=\"https://plot.ly\";Plotly.newPlot(\"ff8c11b8-ea65-4f26-a722-66a77e44f33f\", [{\"type\": \"scatter\", \"x\": [50.0, 4.0, 4.0, 4.0, 4.0, 4.0, 4.0, 4.0, 4.0, 4.0, 4.0, 4.0, 4.0, 4.0, 4.0, 4.0, 4.0, 4.0, 4.0, 4.0, 96.0, 96.0, 96.0, 96.0, 96.0, 96.0, 96.0, 96.0, 96.0, 96.0, 96.0, 96.0, 96.0, 96.0, 96.0, 96.0, 96.0, 96.0, 96.0, 96.0, 96.0, 96.0, 96.0, -21.0, 121.0], \"y\": [100, 92, 88, 84, 80, 76, 72, 68, 64, 60, 56, 52, 48, 44, 40, 36, 32, 28, 24, 20, 92, 88, 84, 80, 76, 72, 68, 64, 60, 56, 52, 48, 44, 40, 36, 32, 28, 24, 20, 16, 12, 8, 4, 4, 100], \"text\": [\"test\", \"chromatin state\", \"skeletal muscle tissue: 6_Weak_transcription\", \"keratinocyte: 6_Weak_transcription\", \"adipocyte: 6_Weak_transcription\", \"liver: 6_Weak_transcription\", \"mid-frontal lobe: 6_Weak_transcription\", \"CD34-PB: 6_Weak_transcription\", \"HepG2: 5_Strong_transcription\", \"islet of Langerhans: 10_Active_enhancer_2\", \"adipocyte: 11_Weak_enhancer\", \"skeletal muscle myoblast: 6_Weak_transcription\", \"endothelial cell of umbilical vein: 6_Weak_transcription\", \"layer of hippocampus: 6_Weak_transcription\", \"GM12878: 17_Weak_repressed_polycomb\", \"mucosa of rectum: 6_Weak_transcription\", \"substantia nigra: 6_Weak_transcription\", \"duodenum mucosa: 6_Weak_transcription\", \"rectal smooth muscle tissue: 6_Weak_transcription\", \"ESC derived cell line: 6_Weak_transcription\", \"footprint\", \"skeletal muscle tissue: HNF4\", \"skeletal muscle tissue: STAT\", \"skeletal muscle tissue: PPARA\", \"skeletal muscle tissue: TCF3\", \"keratinocyte: STAT\", \"keratinocyte: PPARA\", \"keratinocyte: TCF3\", \"adipocyte: PPARA\", \"adipocyte: TCF3\", \"liver: STAT\", \"mid-frontal lobe: PPARA\", \"mid-frontal lobe: TCF3\", \"mid-frontal lobe: STAT\", \"CD34-PB: TCF3\", \"CD34-PB: STAT\", \"CD34-PB: HNF4\", \"HepG2: TCF3\", \"HepG2: STAT\", \"HepG2: HNF4\", \"islet of Langerhans: STAT\", \"islet of Langerhans: HNF4\", \"islet of Langerhans: PPARA\"], \"mode\": \"markers+text\", \"hoverinfo\": \"closest\", \"marker\": {\"color\": [], \"size\": 10, \"line\": {\"width\": 10}, \"opacity\": 0.0}}, {\"type\": \"scatter\", \"x\": [50.0, 4.0, null, 50.0, 96.0, null], \"y\": [98.0, 94.0, null, 98.0, 94.0, null], \"line\": {\"width\": 2, \"color\": \"#888\"}, \"hoverinfo\": \"none\", \"mode\": \"lines\"}], {\"width\": 623.8324625039508, \"height\": 1081.8648586754107, \"xaxis\": {\"showgrid\": false, \"zeroline\": false, \"showline\": false, \"ticks\": \"\", \"showticklabels\": false}, \"yaxis\": {\"showgrid\": false, \"zeroline\": false, \"showline\": false, \"ticks\": \"\", \"showticklabels\": false}, \"showlegend\": false, \"shapes\": [{\"type\": \"rect\", \"xref\": \"x\", \"yref\": \"y\", \"x0\": 29.5, \"y0\": 98.0, \"x1\": 70.5, \"y1\": 102.0, \"line\": {\"color\": \"#888\", \"width\": 2}, \"fillcolor\": \"rgba(55, 128, 191, 0.6)\", \"opacity\": 0.5}, {\"type\": \"rect\", \"xref\": \"x\", \"yref\": \"y\", \"x0\": -16.5, \"y0\": 90.0, \"x1\": 24.5, \"y1\": 94.0, \"line\": {\"color\": \"#888\", \"width\": 2}, \"fillcolor\": \"rgba(55, 128, 191, 0.6)\", \"opacity\": 0.5}, {\"type\": \"rect\", \"xref\": \"x\", \"yref\": \"y\", \"x0\": -16.5, \"y0\": 86.0, \"x1\": 24.5, \"y1\": 90.0, \"line\": {\"color\": \"#888\", \"width\": 2}, \"fillcolor\": \"rgba(55, 128, 191, 0.6)\", \"opacity\": 0.5}, {\"type\": \"rect\", \"xref\": \"x\", \"yref\": \"y\", \"x0\": -16.5, \"y0\": 82.0, \"x1\": 24.5, \"y1\": 86.0, \"line\": {\"color\": \"#888\", \"width\": 2}, \"fillcolor\": \"rgba(55, 128, 191, 0.6)\", \"opacity\": 0.5}, {\"type\": \"rect\", \"xref\": \"x\", \"yref\": \"y\", \"x0\": -16.5, \"y0\": 78.0, \"x1\": 24.5, \"y1\": 82.0, \"line\": {\"color\": \"#888\", \"width\": 2}, \"fillcolor\": \"rgba(55, 128, 191, 0.6)\", \"opacity\": 0.5}, {\"type\": \"rect\", \"xref\": \"x\", \"yref\": \"y\", \"x0\": -16.5, \"y0\": 74.0, \"x1\": 24.5, \"y1\": 78.0, \"line\": {\"color\": \"#888\", \"width\": 2}, \"fillcolor\": \"rgba(55, 128, 191, 0.6)\", \"opacity\": 0.5}, {\"type\": \"rect\", \"xref\": \"x\", \"yref\": \"y\", \"x0\": -16.5, \"y0\": 70.0, \"x1\": 24.5, \"y1\": 74.0, \"line\": {\"color\": \"#888\", \"width\": 2}, \"fillcolor\": \"rgba(55, 128, 191, 0.6)\", \"opacity\": 0.5}, {\"type\": \"rect\", \"xref\": \"x\", \"yref\": \"y\", \"x0\": -16.5, \"y0\": 66.0, \"x1\": 24.5, \"y1\": 70.0, \"line\": {\"color\": \"#888\", \"width\": 2}, \"fillcolor\": \"rgba(55, 128, 191, 0.6)\", \"opacity\": 0.5}, {\"type\": \"rect\", \"xref\": \"x\", \"yref\": \"y\", \"x0\": -16.5, \"y0\": 62.0, \"x1\": 24.5, \"y1\": 66.0, \"line\": {\"color\": \"#888\", \"width\": 2}, \"fillcolor\": \"rgba(55, 128, 191, 0.6)\", \"opacity\": 0.5}, {\"type\": \"rect\", \"xref\": \"x\", \"yref\": \"y\", \"x0\": -16.5, \"y0\": 58.0, \"x1\": 24.5, \"y1\": 62.0, \"line\": {\"color\": \"#888\", \"width\": 2}, \"fillcolor\": \"rgba(55, 128, 191, 0.6)\", \"opacity\": 0.5}, {\"type\": \"rect\", \"xref\": \"x\", \"yref\": \"y\", \"x0\": -16.5, \"y0\": 54.0, \"x1\": 24.5, \"y1\": 58.0, \"line\": {\"color\": \"#888\", \"width\": 2}, \"fillcolor\": \"rgba(55, 128, 191, 0.6)\", \"opacity\": 0.5}, {\"type\": \"rect\", \"xref\": \"x\", \"yref\": \"y\", \"x0\": -16.5, \"y0\": 50.0, \"x1\": 24.5, \"y1\": 54.0, \"line\": {\"color\": \"#888\", \"width\": 2}, \"fillcolor\": \"rgba(55, 128, 191, 0.6)\", \"opacity\": 0.5}, {\"type\": \"rect\", \"xref\": \"x\", \"yref\": \"y\", \"x0\": -16.5, \"y0\": 46.0, \"x1\": 24.5, \"y1\": 50.0, \"line\": {\"color\": \"#888\", \"width\": 2}, \"fillcolor\": \"rgba(55, 128, 191, 0.6)\", \"opacity\": 0.5}, {\"type\": \"rect\", \"xref\": \"x\", \"yref\": \"y\", \"x0\": -16.5, \"y0\": 42.0, \"x1\": 24.5, \"y1\": 46.0, \"line\": {\"color\": \"#888\", \"width\": 2}, \"fillcolor\": \"rgba(55, 128, 191, 0.6)\", \"opacity\": 0.5}, {\"type\": \"rect\", \"xref\": \"x\", \"yref\": \"y\", \"x0\": -16.5, \"y0\": 38.0, \"x1\": 24.5, \"y1\": 42.0, \"line\": {\"color\": \"#888\", \"width\": 2}, \"fillcolor\": \"rgba(55, 128, 191, 0.6)\", \"opacity\": 0.5}, {\"type\": \"rect\", \"xref\": \"x\", \"yref\": \"y\", \"x0\": -16.5, \"y0\": 34.0, \"x1\": 24.5, \"y1\": 38.0, \"line\": {\"color\": \"#888\", \"width\": 2}, \"fillcolor\": \"rgba(55, 128, 191, 0.6)\", \"opacity\": 0.5}, {\"type\": \"rect\", \"xref\": \"x\", \"yref\": \"y\", \"x0\": -16.5, \"y0\": 30.0, \"x1\": 24.5, \"y1\": 34.0, \"line\": {\"color\": \"#888\", \"width\": 2}, \"fillcolor\": \"rgba(55, 128, 191, 0.6)\", \"opacity\": 0.5}, {\"type\": \"rect\", \"xref\": \"x\", \"yref\": \"y\", \"x0\": -16.5, \"y0\": 26.0, \"x1\": 24.5, \"y1\": 30.0, \"line\": {\"color\": \"#888\", \"width\": 2}, \"fillcolor\": \"rgba(55, 128, 191, 0.6)\", \"opacity\": 0.5}, {\"type\": \"rect\", \"xref\": \"x\", \"yref\": \"y\", \"x0\": -16.5, \"y0\": 22.0, \"x1\": 24.5, \"y1\": 26.0, \"line\": {\"color\": \"#888\", \"width\": 2}, \"fillcolor\": \"rgba(55, 128, 191, 0.6)\", \"opacity\": 0.5}, {\"type\": \"rect\", \"xref\": \"x\", \"yref\": \"y\", \"x0\": -16.5, \"y0\": 18.0, \"x1\": 24.5, \"y1\": 22.0, \"line\": {\"color\": \"#888\", \"width\": 2}, \"fillcolor\": \"rgba(55, 128, 191, 0.6)\", \"opacity\": 0.5}, {\"type\": \"rect\", \"xref\": \"x\", \"yref\": \"y\", \"x0\": 75.5, \"y0\": 90.0, \"x1\": 116.5, \"y1\": 94.0, \"line\": {\"color\": \"#888\", \"width\": 2}, \"fillcolor\": \"rgba(55, 128, 191, 0.6)\", \"opacity\": 0.5}, {\"type\": \"rect\", \"xref\": \"x\", \"yref\": \"y\", \"x0\": 75.5, \"y0\": 86.0, \"x1\": 116.5, \"y1\": 90.0, \"line\": {\"color\": \"#888\", \"width\": 2}, \"fillcolor\": \"rgba(55, 128, 191, 0.6)\", \"opacity\": 0.5}, {\"type\": \"rect\", \"xref\": \"x\", \"yref\": \"y\", \"x0\": 75.5, \"y0\": 82.0, \"x1\": 116.5, \"y1\": 86.0, \"line\": {\"color\": \"#888\", \"width\": 2}, \"fillcolor\": \"rgba(55, 128, 191, 0.6)\", \"opacity\": 0.5}, {\"type\": \"rect\", \"xref\": \"x\", \"yref\": \"y\", \"x0\": 75.5, \"y0\": 78.0, \"x1\": 116.5, \"y1\": 82.0, \"line\": {\"color\": \"#888\", \"width\": 2}, \"fillcolor\": \"rgba(55, 128, 191, 0.6)\", \"opacity\": 0.5}, {\"type\": \"rect\", \"xref\": \"x\", \"yref\": \"y\", \"x0\": 75.5, \"y0\": 74.0, \"x1\": 116.5, \"y1\": 78.0, \"line\": {\"color\": \"#888\", \"width\": 2}, \"fillcolor\": \"rgba(55, 128, 191, 0.6)\", \"opacity\": 0.5}, {\"type\": \"rect\", \"xref\": \"x\", \"yref\": \"y\", \"x0\": 75.5, \"y0\": 70.0, \"x1\": 116.5, \"y1\": 74.0, \"line\": {\"color\": \"#888\", \"width\": 2}, \"fillcolor\": \"rgba(55, 128, 191, 0.6)\", \"opacity\": 0.5}, {\"type\": \"rect\", \"xref\": \"x\", \"yref\": \"y\", \"x0\": 75.5, \"y0\": 66.0, \"x1\": 116.5, \"y1\": 70.0, \"line\": {\"color\": \"#888\", \"width\": 2}, \"fillcolor\": \"rgba(55, 128, 191, 0.6)\", \"opacity\": 0.5}, {\"type\": \"rect\", \"xref\": \"x\", \"yref\": \"y\", \"x0\": 75.5, \"y0\": 62.0, \"x1\": 116.5, \"y1\": 66.0, \"line\": {\"color\": \"#888\", \"width\": 2}, \"fillcolor\": \"rgba(55, 128, 191, 0.6)\", \"opacity\": 0.5}, {\"type\": \"rect\", \"xref\": \"x\", \"yref\": \"y\", \"x0\": 75.5, \"y0\": 58.0, \"x1\": 116.5, \"y1\": 62.0, \"line\": {\"color\": \"#888\", \"width\": 2}, \"fillcolor\": \"rgba(55, 128, 191, 0.6)\", \"opacity\": 0.5}, {\"type\": \"rect\", \"xref\": \"x\", \"yref\": \"y\", \"x0\": 75.5, \"y0\": 54.0, \"x1\": 116.5, \"y1\": 58.0, \"line\": {\"color\": \"#888\", \"width\": 2}, \"fillcolor\": \"rgba(55, 128, 191, 0.6)\", \"opacity\": 0.5}, {\"type\": \"rect\", \"xref\": \"x\", \"yref\": \"y\", \"x0\": 75.5, \"y0\": 50.0, \"x1\": 116.5, \"y1\": 54.0, \"line\": {\"color\": \"#888\", \"width\": 2}, \"fillcolor\": \"rgba(55, 128, 191, 0.6)\", \"opacity\": 0.5}, {\"type\": \"rect\", \"xref\": \"x\", \"yref\": \"y\", \"x0\": 75.5, \"y0\": 46.0, \"x1\": 116.5, \"y1\": 50.0, \"line\": {\"color\": \"#888\", \"width\": 2}, \"fillcolor\": \"rgba(55, 128, 191, 0.6)\", \"opacity\": 0.5}, {\"type\": \"rect\", \"xref\": \"x\", \"yref\": \"y\", \"x0\": 75.5, \"y0\": 42.0, \"x1\": 116.5, \"y1\": 46.0, \"line\": {\"color\": \"#888\", \"width\": 2}, \"fillcolor\": \"rgba(55, 128, 191, 0.6)\", \"opacity\": 0.5}, {\"type\": \"rect\", \"xref\": \"x\", \"yref\": \"y\", \"x0\": 75.5, \"y0\": 38.0, \"x1\": 116.5, \"y1\": 42.0, \"line\": {\"color\": \"#888\", \"width\": 2}, \"fillcolor\": \"rgba(55, 128, 191, 0.6)\", \"opacity\": 0.5}, {\"type\": \"rect\", \"xref\": \"x\", \"yref\": \"y\", \"x0\": 75.5, \"y0\": 34.0, \"x1\": 116.5, \"y1\": 38.0, \"line\": {\"color\": \"#888\", \"width\": 2}, \"fillcolor\": \"rgba(55, 128, 191, 0.6)\", \"opacity\": 0.5}, {\"type\": \"rect\", \"xref\": \"x\", \"yref\": \"y\", \"x0\": 75.5, \"y0\": 30.0, \"x1\": 116.5, \"y1\": 34.0, \"line\": {\"color\": \"#888\", \"width\": 2}, \"fillcolor\": \"rgba(55, 128, 191, 0.6)\", \"opacity\": 0.5}, {\"type\": \"rect\", \"xref\": \"x\", \"yref\": \"y\", \"x0\": 75.5, \"y0\": 26.0, \"x1\": 116.5, \"y1\": 30.0, \"line\": {\"color\": \"#888\", \"width\": 2}, \"fillcolor\": \"rgba(55, 128, 191, 0.6)\", \"opacity\": 0.5}, {\"type\": \"rect\", \"xref\": \"x\", \"yref\": \"y\", \"x0\": 75.5, \"y0\": 22.0, \"x1\": 116.5, \"y1\": 26.0, \"line\": {\"color\": \"#888\", \"width\": 2}, \"fillcolor\": \"rgba(55, 128, 191, 0.6)\", \"opacity\": 0.5}, {\"type\": \"rect\", \"xref\": \"x\", \"yref\": \"y\", \"x0\": 75.5, \"y0\": 18.0, \"x1\": 116.5, \"y1\": 22.0, \"line\": {\"color\": \"#888\", \"width\": 2}, \"fillcolor\": \"rgba(55, 128, 191, 0.6)\", \"opacity\": 0.5}, {\"type\": \"rect\", \"xref\": \"x\", \"yref\": \"y\", \"x0\": 75.5, \"y0\": 14.0, \"x1\": 116.5, \"y1\": 18.0, \"line\": {\"color\": \"#888\", \"width\": 2}, \"fillcolor\": \"rgba(55, 128, 191, 0.6)\", \"opacity\": 0.5}, {\"type\": \"rect\", \"xref\": \"x\", \"yref\": \"y\", \"x0\": 75.5, \"y0\": 10.0, \"x1\": 116.5, \"y1\": 14.0, \"line\": {\"color\": \"#888\", \"width\": 2}, \"fillcolor\": \"rgba(55, 128, 191, 0.6)\", \"opacity\": 0.5}, {\"type\": \"rect\", \"xref\": \"x\", \"yref\": \"y\", \"x0\": 75.5, \"y0\": 6.0, \"x1\": 116.5, \"y1\": 10.0, \"line\": {\"color\": \"#888\", \"width\": 2}, \"fillcolor\": \"rgba(55, 128, 191, 0.6)\", \"opacity\": 0.5}, {\"type\": \"rect\", \"xref\": \"x\", \"yref\": \"y\", \"x0\": 75.5, \"y0\": 2.0, \"x1\": 116.5, \"y1\": 6.0, \"line\": {\"color\": \"#888\", \"width\": 2}, \"fillcolor\": \"rgba(55, 128, 191, 0.6)\", \"opacity\": 0.5}]}, {\"showLink\": true, \"linkText\": \"Export to plot.ly\"})});</script>"
      ]
     },
     "metadata": {},
     "output_type": "display_data"
    }
   ],
   "source": [
    "iplot(make_graph(var_data=thing, var_name=\"test\",box_height=4))"
   ]
  },
  {
   "cell_type": "code",
   "execution_count": 26,
   "metadata": {},
   "outputs": [],
   "source": [
    "thing = json.loads(open(\"testing.json\").read())"
   ]
  },
  {
   "cell_type": "code",
   "execution_count": 242,
   "metadata": {},
   "outputs": [
    {
     "name": "stdout",
     "output_type": "stream",
     "text": [
      "b'{\\n  \"accessible chromatin\": [\\n    {\\n      \"accession\": \"TSTSR557905\",\\n      \"annotation_type\": \"accessible chromatin\",\\n      \"biosample_term_name\": \"islet of Langerhans\",\\n      \"coordinates\": \"chr10:12307606-12308011\",\\n      \"genome\": \"hg19\",\\n      \"state\": \".\",\\n      \"value\": \"2\"\\n    }\\n  ],\\n  \"binding footprints\": [\\n    {\\n      \"accession\": \"TSTSR773285\",\\n      \"annotation_type\": \"binding footprints\",\\n      \"biosample_term_name\": \"islet of Langerhans\",\\n      \"coordinates\": \"chr10:12307883-12307903\",\\n      \"genome\": \"hg19\",\\n      \"state\": \"TP63\",\\n      \"value\": \"11.764\"\\n    },\\n    {\\n      \"accession\": \"TSTSR773285\",\\n      \"annotation_type\": \"binding footprints\",\\n      \"biosample_term_name\": \"islet of Langerhans\",\\n      \"coordinates\": \"chr10:12307883-12307895\",\\n      \"genome\": \"hg19\",\\n      \"state\": \"J4188\",\\n      \"value\": \"8.47934\"\\n    },\\n    {\\n      \"accession\": \"TSTSR773285\",\\n      \"annotation_type\": \"binding footprints\",\\n      \"biosample_term_name\": \"islet of Langerhans\",\\n      \"coordinates\": \"chr10:12307883-12307895\",\\n      \"genome\": \"hg19\",\\n      \"state\": \"HES5_1\",\\n      \"value\": \"8.85047\"\\n    },\\n    {\\n      \"accession\": \"TSTSR773285\",\\n      \"annotation_type\": \"binding footprints\",\\n      \"biosample_term_name\": \"islet of Langerhans\",\\n      \"coordinates\": \"chr10:12307882-12307897\",\\n      \"genome\": \"hg19\",\\n      \"state\": \"TCF3_1\",\\n      \"value\": \"8.4486\"\\n    },\\n    {\\n      \"accession\": \"TSTSR773285\",\\n      \"annotation_type\": \"binding footprints\",\\n      \"biosample_term_name\": \"islet of Langerhans\",\\n      \"coordinates\": \"chr10:12307882-12307895\",\\n      \"genome\": \"hg19\",\\n      \"state\": \"PPARA_4\",\\n      \"value\": \"11.789\"\\n    },\\n    {\\n      \"accession\": \"TSTSR773285\",\\n      \"annotation_type\": \"binding footprints\",\\n      \"biosample_term_name\": \"islet of Langerhans\",\\n      \"coordinates\": \"chr10:12307882-12307895\",\\n      \"genome\": \"hg19\",\\n      \"state\": \"HNF4_known7\",\\n      \"value\": \"8.81308\"\\n    },\\n    {\\n      \"accession\": \"TSTSR773285\",\\n      \"annotation_type\": \"binding footprints\",\\n      \"biosample_term_name\": \"islet of Langerhans\",\\n      \"coordinates\": \"chr10:12307882-12307895\",\\n      \"genome\": \"hg19\",\\n      \"state\": \"HNF4_known6\",\\n      \"value\": \"11.3119\"\\n    },\\n    {\\n      \"accession\": \"TSTSR773285\",\\n      \"annotation_type\": \"binding footprints\",\\n      \"biosample_term_name\": \"islet of Langerhans\",\\n      \"coordinates\": \"chr10:12307882-12307895\",\\n      \"genome\": \"hg19\",\\n      \"state\": \"HNF4_known5\",\\n      \"value\": \"12.2\"\\n    },\\n    {\\n      \"accession\": \"TSTSR773285\",\\n      \"annotation_type\": \"binding footprints\",\\n      \"biosample_term_name\": \"islet of Langerhans\",\\n      \"coordinates\": \"chr10:12307879-12307903\",\\n      \"genome\": \"hg19\",\\n      \"state\": \"STAT_known6\",\\n      \"value\": \"12.0093\"\\n    },\\n    {\\n      \"accession\": \"TSTSR773285\",\\n      \"annotation_type\": \"binding footprints\",\\n      \"biosample_term_name\": \"islet of Langerhans\",\\n      \"coordinates\": \"chr10:12307879-12307896\",\\n      \"genome\": \"hg19\",\\n      \"state\": \"ZNF713_1\",\\n      \"value\": \"6.70093\"\\n    },\\n    {\\n      \"accession\": \"TSTSR773285\",\\n      \"annotation_type\": \"binding footprints\",\\n      \"biosample_term_name\": \"islet of Langerhans\",\\n      \"coordinates\": \"chr10:12307879-12307894\",\\n      \"genome\": \"hg19\",\\n      \"state\": \"HIC1_1\",\\n      \"value\": \"10.8505\"\\n    }\\n  ],\\n  \"chromatin state\": [\\n    {\\n      \"accession\": \"TSTSR644651\",\\n      \"annotation_type\": \"chromatin state\",\\n      \"biosample_term_name\": \"adipocyte\",\\n      \"coordinates\": \"chr10:12306800-12312600\",\\n      \"genome\": \"hg19\",\\n      \"state\": \"17_Weak_repressed_polycomb\",\\n      \"value\": \"192,192,192\"\\n    },\\n    {\\n      \"accession\": \"TSTSR926942\",\\n      \"annotation_type\": \"chromatin state\",\\n      \"biosample_term_name\": \"keratinocyte\",\\n      \"coordinates\": \"chr10:12306800-12312800\",\\n      \"genome\": \"hg19\",\\n      \"state\": \"6_Weak_transcription\",\\n      \"value\": \"0,100,0\"\\n    },\\n    {\\n      \"accession\": \"TSTSR000759\",\\n      \"annotation_type\": \"chromatin state\",\\n      \"biosample_term_name\": \"endothelial cell of umbilical vein\",\\n      \"coordinates\": \"chr10:12295600-12380800\",\\n      \"genome\": \"hg19\",\\n      \"state\": \"18_Quiescent/low_signal\",\\n      \"value\": \"255,255,255\"\\n    },\\n    {\\n      \"accession\": \"TSTSR362251\",\\n      \"annotation_type\": \"chromatin state\",\\n      \"biosample_term_name\": \"mucosa of rectum\",\\n      \"coordinates\": \"chr10:12307000-12308000\",\\n      \"genome\": \"hg19\",\\n      \"state\": \"11_Weak_enhancer\",\\n      \"value\": \"255,255,0\"\\n    },\\n    {\\n      \"accession\": \"TSTSR642714\",\\n      \"annotation_type\": \"chromatin state\",\\n      \"biosample_term_name\": \"H1\",\\n      \"coordinates\": \"chr10:12306800-12387200\",\\n      \"genome\": \"hg19\",\\n      \"state\": \"18_Quiescent/low_signal\",\\n      \"value\": \"255,255,255\"\\n    },\\n    {\\n      \"accession\": \"TSTSR679993\",\\n      \"annotation_type\": \"chromatin state\",\\n      \"biosample_term_name\": \"islet of Langerhans\",\\n      \"coordinates\": \"chr10:12306400-12308600\",\\n      \"genome\": \"hg19\",\\n      \"state\": \"10_Active_enhancer_2\",\\n      \"value\": \"255,195,77\"\\n    },\\n    {\\n      \"accession\": \"TSTSR952582\",\\n      \"annotation_type\": \"chromatin state\",\\n      \"biosample_term_name\": \"caudate nucleus\",\\n      \"coordinates\": \"chr10:12306800-12364800\",\\n      \"genome\": \"hg19\",\\n      \"state\": \"18_Quiescent/low_signal\",\\n      \"value\": \"255,255,255\"\\n    },\\n    {\\n      \"accession\": \"TSTSR295022\",\\n      \"annotation_type\": \"chromatin state\",\\n      \"biosample_term_name\": \"CD34-PB\",\\n      \"coordinates\": \"chr10:12305600-12308600\",\\n      \"genome\": \"hg19\",\\n      \"state\": \"9_Active_enhancer_1\",\\n      \"value\": \"255,195,77\"\\n    },\\n    {\\n      \"accession\": \"TSTSR420347\",\\n      \"annotation_type\": \"chromatin state\",\\n      \"biosample_term_name\": \"colonic mucosa\",\\n      \"coordinates\": \"chr10:12306800-12308000\",\\n      \"genome\": \"hg19\",\\n      \"state\": \"10_Active_enhancer_2\",\\n      \"value\": \"255,195,77\"\\n    },\\n    {\\n      \"accession\": \"TSTSR344424\",\\n      \"annotation_type\": \"chromatin state\",\\n      \"biosample_term_name\": \"skeletal muscle tissue\",\\n      \"coordinates\": \"chr10:12306800-12312800\",\\n      \"genome\": \"hg19\",\\n      \"state\": \"6_Weak_transcription\",\\n      \"value\": \"0,100,0\"\\n    },\\n    {\\n      \"accession\": \"TSTSR027410\",\\n      \"annotation_type\": \"chromatin state\",\\n      \"biosample_term_name\": \"liver\",\\n      \"coordinates\": \"chr10:12307200-12308200\",\\n      \"genome\": \"hg19\",\\n      \"state\": \"9_Active_enhancer_1\",\\n      \"value\": \"255,195,77\"\\n    },\\n    {\\n      \"accession\": \"TSTSR538274\",\\n      \"annotation_type\": \"chromatin state\",\\n      \"biosample_term_name\": \"mammary epithelial cell\",\\n      \"coordinates\": \"chr10:12306800-12312800\",\\n      \"genome\": \"hg19\",\\n      \"state\": \"6_Weak_transcription\",\\n      \"value\": \"0,100,0\"\\n    },\\n    {\\n      \"accession\": \"TSTSR828132\",\\n      \"annotation_type\": \"chromatin state\",\\n      \"biosample_term_name\": \"substantia nigra\",\\n      \"coordinates\": \"chr10:12306800-12375200\",\\n      \"genome\": \"hg19\",\\n      \"state\": \"18_Quiescent/low_signal\",\\n      \"value\": \"255,255,255\"\\n    },\\n    {\\n      \"accession\": \"TSTSR418295\",\\n      \"annotation_type\": \"chromatin state\",\\n      \"biosample_term_name\": \"K562\",\\n      \"coordinates\": \"chr10:12307600-12308000\",\\n      \"genome\": \"hg19\",\\n      \"state\": \"3_Flanking_TSS\",\\n      \"value\": \"255,69,0\"\\n    },\\n    {\\n      \"accession\": \"TSTSR459407\",\\n      \"annotation_type\": \"chromatin state\",\\n      \"biosample_term_name\": \"duodenum mucosa\",\\n      \"coordinates\": \"chr10:12306800-12308600\",\\n      \"genome\": \"hg19\",\\n      \"state\": \"11_Weak_enhancer\",\\n      \"value\": \"255,255,0\"\\n    },\\n    {\\n      \"accession\": \"TSTSR558538\",\\n      \"annotation_type\": \"chromatin state\",\\n      \"biosample_term_name\": \"skeletal muscle myoblast\",\\n      \"coordinates\": \"chr10:12306800-12371600\",\\n      \"genome\": \"hg19\",\\n      \"state\": \"18_Quiescent/low_signal\",\\n      \"value\": \"255,255,255\"\\n    },\\n    {\\n      \"accession\": \"TSTSR798156\",\\n      \"annotation_type\": \"chromatin state\",\\n      \"biosample_term_name\": \"adipocyte\",\\n      \"coordinates\": \"chr10:12306600-12312600\",\\n      \"genome\": \"hg19\",\\n      \"state\": \"6_Weak_transcription\",\\n      \"value\": \"0,100,0\"\\n    },\\n    {\\n      \"accession\": \"TSTSR863340\",\\n      \"annotation_type\": \"chromatin state\",\\n      \"biosample_term_name\": \"adipocyte\",\\n      \"coordinates\": \"chr10:12306800-12375000\",\\n      \"genome\": \"hg19\",\\n      \"state\": \"18_Quiescent/low_signal\",\\n      \"value\": \"255,255,255\"\\n    },\\n    {\\n      \"accession\": \"TSTSR646989\",\\n      \"annotation_type\": \"chromatin state\",\\n      \"biosample_term_name\": \"fibroblast of lung\",\\n      \"coordinates\": \"chr10:12306800-12312600\",\\n      \"genome\": \"hg19\",\\n      \"state\": \"6_Weak_transcription\",\\n      \"value\": \"0,100,0\"\\n    },\\n    {\\n      \"accession\": \"TSTSR360658\",\\n      \"annotation_type\": \"chromatin state\",\\n      \"biosample_term_name\": \"ESC derived cell line\",\\n      \"coordinates\": \"chr10:12307800-12308000\",\\n      \"genome\": \"hg19\",\\n      \"state\": \"11_Weak_enhancer\",\\n      \"value\": \"255,255,0\"\\n    },\\n    {\\n      \"accession\": \"TSTSR013323\",\\n      \"annotation_type\": \"chromatin state\",\\n      \"biosample_term_name\": \"layer of hippocampus\",\\n      \"coordinates\": \"chr10:12307800-12308000\",\\n      \"genome\": \"hg19\",\\n      \"state\": \"11_Weak_enhancer\",\\n      \"value\": \"255,255,0\"\\n    },\\n    {\\n      \"accession\": \"TSTSR035696\",\\n      \"annotation_type\": \"chromatin state\",\\n      \"biosample_term_name\": \"HepG2\",\\n      \"coordinates\": \"chr10:12307600-12308600\",\\n      \"genome\": \"hg19\",\\n      \"state\": \"11_Weak_enhancer\",\\n      \"value\": \"255,255,0\"\\n    },\\n    {\\n      \"accession\": \"TSTSR798820\",\\n      \"annotation_type\": \"chromatin state\",\\n      \"biosample_term_name\": \" temporal lobe\",\\n      \"coordinates\": \"chr10:12306800-12371800\",\\n      \"genome\": \"hg19\",\\n      \"state\": \"18_Quiescent/low_signal\",\\n      \"value\": \"255,255,255\"\\n    },\\n    {\\n      \"accession\": \"TSTSR632525\",\\n      \"annotation_type\": \"chromatin state\",\\n      \"biosample_term_name\": \"mid-frontal lobe\",\\n      \"coordinates\": \"chr10:12306800-12375400\",\\n      \"genome\": \"hg19\",\\n      \"state\": \"18_Quiescent/low_signal\",\\n      \"value\": \"255,255,255\"\\n    },\\n    {\\n      \"accession\": \"TSTSR903521\",\\n      \"annotation_type\": \"chromatin state\",\\n      \"biosample_term_name\": \"cingulate gyrus\",\\n      \"coordinates\": \"chr10:12306800-12370600\",\\n      \"genome\": \"hg19\",\\n      \"state\": \"18_Quiescent/low_signal\",\\n      \"value\": \"255,255,255\"\\n    },\\n    {\\n      \"accession\": \"TSTSR802789\",\\n      \"annotation_type\": \"chromatin state\",\\n      \"biosample_term_name\": \"ESC derived cell line\",\\n      \"coordinates\": \"chr10:12306800-12375200\",\\n      \"genome\": \"hg19\",\\n      \"state\": \"18_Quiescent/low_signal\",\\n      \"value\": \"255,255,255\"\\n    },\\n    {\\n      \"accession\": \"TSTSR804392\",\\n      \"annotation_type\": \"chromatin state\",\\n      \"biosample_term_name\": \"adipose tissue\",\\n      \"coordinates\": \"chr10:12305000-12308000\",\\n      \"genome\": \"hg19\",\\n      \"state\": \"11_Weak_enhancer\",\\n      \"value\": \"255,255,0\"\\n    },\\n    {\\n      \"accession\": \"TSTSR802656\",\\n      \"annotation_type\": \"chromatin state\",\\n      \"biosample_term_name\": \"rectal smooth muscle tissue\",\\n      \"coordinates\": \"chr10:12307800-12312600\",\\n      \"genome\": \"hg19\",\\n      \"state\": \"6_Weak_transcription\",\\n      \"value\": \"0,100,0\"\\n    },\\n    {\\n      \"accession\": \"TSTSR104634\",\\n      \"annotation_type\": \"chromatin state\",\\n      \"biosample_term_name\": \"adipocyte\",\\n      \"coordinates\": \"chr10:12306800-12374800\",\\n      \"genome\": \"hg19\",\\n      \"state\": \"18_Quiescent/low_signal\",\\n      \"value\": \"255,255,255\"\\n    },\\n    {\\n      \"accession\": \"TSTSR588101\",\\n      \"annotation_type\": \"chromatin state\",\\n      \"biosample_term_name\": \"GM12878\",\\n      \"coordinates\": \"chr10:12306800-12308000\",\\n      \"genome\": \"hg19\",\\n      \"state\": \"9_Active_enhancer_1\",\\n      \"value\": \"255,195,77\"\\n    }\\n  ]\\n}'\n"
     ]
    },
    {
     "ename": "JSONDecodeError",
     "evalue": "Expecting value: line 1 column 1 (char 0)",
     "output_type": "error",
     "traceback": [
      "\u001b[0;31m---------------------------------------------------------------------------\u001b[0m",
      "\u001b[0;31mJSONDecodeError\u001b[0m                           Traceback (most recent call last)",
      "\u001b[0;32m<ipython-input-242-063659d44ea6>\u001b[0m in \u001b[0;36m<module>\u001b[0;34m()\u001b[0m\n\u001b[1;32m      3\u001b[0m \u001b[0;32mwith\u001b[0m \u001b[0murllib\u001b[0m\u001b[0;34m.\u001b[0m\u001b[0mrequest\u001b[0m\u001b[0;34m.\u001b[0m\u001b[0murlopen\u001b[0m\u001b[0;34m(\u001b[0m\u001b[0mrsid_url\u001b[0m\u001b[0;34m(\u001b[0m\u001b[0mrsid\u001b[0m\u001b[0;34m)\u001b[0m\u001b[0;34m)\u001b[0m \u001b[0;32mas\u001b[0m \u001b[0murl\u001b[0m\u001b[0;34m:\u001b[0m\u001b[0;34m\u001b[0m\u001b[0m\n\u001b[1;32m      4\u001b[0m     \u001b[0mprint\u001b[0m\u001b[0;34m(\u001b[0m\u001b[0murl\u001b[0m\u001b[0;34m.\u001b[0m\u001b[0mread\u001b[0m\u001b[0;34m(\u001b[0m\u001b[0;34m)\u001b[0m\u001b[0;34m)\u001b[0m\u001b[0;34m\u001b[0m\u001b[0m\n\u001b[0;32m----> 5\u001b[0;31m     \u001b[0mjson_thing\u001b[0m \u001b[0;34m=\u001b[0m \u001b[0mjson\u001b[0m\u001b[0;34m.\u001b[0m\u001b[0mloads\u001b[0m\u001b[0;34m(\u001b[0m\u001b[0murl\u001b[0m\u001b[0;34m.\u001b[0m\u001b[0mread\u001b[0m\u001b[0;34m(\u001b[0m\u001b[0;34m)\u001b[0m\u001b[0;34m)\u001b[0m\u001b[0;34m\u001b[0m\u001b[0m\n\u001b[0m",
      "\u001b[0;32m/anaconda3/lib/python3.6/json/__init__.py\u001b[0m in \u001b[0;36mloads\u001b[0;34m(s, encoding, cls, object_hook, parse_float, parse_int, parse_constant, object_pairs_hook, **kw)\u001b[0m\n\u001b[1;32m    352\u001b[0m             \u001b[0mparse_int\u001b[0m \u001b[0;32mis\u001b[0m \u001b[0;32mNone\u001b[0m \u001b[0;32mand\u001b[0m \u001b[0mparse_float\u001b[0m \u001b[0;32mis\u001b[0m \u001b[0;32mNone\u001b[0m \u001b[0;32mand\u001b[0m\u001b[0;34m\u001b[0m\u001b[0m\n\u001b[1;32m    353\u001b[0m             parse_constant is None and object_pairs_hook is None and not kw):\n\u001b[0;32m--> 354\u001b[0;31m         \u001b[0;32mreturn\u001b[0m \u001b[0m_default_decoder\u001b[0m\u001b[0;34m.\u001b[0m\u001b[0mdecode\u001b[0m\u001b[0;34m(\u001b[0m\u001b[0ms\u001b[0m\u001b[0;34m)\u001b[0m\u001b[0;34m\u001b[0m\u001b[0m\n\u001b[0m\u001b[1;32m    355\u001b[0m     \u001b[0;32mif\u001b[0m \u001b[0mcls\u001b[0m \u001b[0;32mis\u001b[0m \u001b[0;32mNone\u001b[0m\u001b[0;34m:\u001b[0m\u001b[0;34m\u001b[0m\u001b[0m\n\u001b[1;32m    356\u001b[0m         \u001b[0mcls\u001b[0m \u001b[0;34m=\u001b[0m \u001b[0mJSONDecoder\u001b[0m\u001b[0;34m\u001b[0m\u001b[0m\n",
      "\u001b[0;32m/anaconda3/lib/python3.6/json/decoder.py\u001b[0m in \u001b[0;36mdecode\u001b[0;34m(self, s, _w)\u001b[0m\n\u001b[1;32m    337\u001b[0m \u001b[0;34m\u001b[0m\u001b[0m\n\u001b[1;32m    338\u001b[0m         \"\"\"\n\u001b[0;32m--> 339\u001b[0;31m         \u001b[0mobj\u001b[0m\u001b[0;34m,\u001b[0m \u001b[0mend\u001b[0m \u001b[0;34m=\u001b[0m \u001b[0mself\u001b[0m\u001b[0;34m.\u001b[0m\u001b[0mraw_decode\u001b[0m\u001b[0;34m(\u001b[0m\u001b[0ms\u001b[0m\u001b[0;34m,\u001b[0m \u001b[0midx\u001b[0m\u001b[0;34m=\u001b[0m\u001b[0m_w\u001b[0m\u001b[0;34m(\u001b[0m\u001b[0ms\u001b[0m\u001b[0;34m,\u001b[0m \u001b[0;36m0\u001b[0m\u001b[0;34m)\u001b[0m\u001b[0;34m.\u001b[0m\u001b[0mend\u001b[0m\u001b[0;34m(\u001b[0m\u001b[0;34m)\u001b[0m\u001b[0;34m)\u001b[0m\u001b[0;34m\u001b[0m\u001b[0m\n\u001b[0m\u001b[1;32m    340\u001b[0m         \u001b[0mend\u001b[0m \u001b[0;34m=\u001b[0m \u001b[0m_w\u001b[0m\u001b[0;34m(\u001b[0m\u001b[0ms\u001b[0m\u001b[0;34m,\u001b[0m \u001b[0mend\u001b[0m\u001b[0;34m)\u001b[0m\u001b[0;34m.\u001b[0m\u001b[0mend\u001b[0m\u001b[0;34m(\u001b[0m\u001b[0;34m)\u001b[0m\u001b[0;34m\u001b[0m\u001b[0m\n\u001b[1;32m    341\u001b[0m         \u001b[0;32mif\u001b[0m \u001b[0mend\u001b[0m \u001b[0;34m!=\u001b[0m \u001b[0mlen\u001b[0m\u001b[0;34m(\u001b[0m\u001b[0ms\u001b[0m\u001b[0;34m)\u001b[0m\u001b[0;34m:\u001b[0m\u001b[0;34m\u001b[0m\u001b[0m\n",
      "\u001b[0;32m/anaconda3/lib/python3.6/json/decoder.py\u001b[0m in \u001b[0;36mraw_decode\u001b[0;34m(self, s, idx)\u001b[0m\n\u001b[1;32m    355\u001b[0m             \u001b[0mobj\u001b[0m\u001b[0;34m,\u001b[0m \u001b[0mend\u001b[0m \u001b[0;34m=\u001b[0m \u001b[0mself\u001b[0m\u001b[0;34m.\u001b[0m\u001b[0mscan_once\u001b[0m\u001b[0;34m(\u001b[0m\u001b[0ms\u001b[0m\u001b[0;34m,\u001b[0m \u001b[0midx\u001b[0m\u001b[0;34m)\u001b[0m\u001b[0;34m\u001b[0m\u001b[0m\n\u001b[1;32m    356\u001b[0m         \u001b[0;32mexcept\u001b[0m \u001b[0mStopIteration\u001b[0m \u001b[0;32mas\u001b[0m \u001b[0merr\u001b[0m\u001b[0;34m:\u001b[0m\u001b[0;34m\u001b[0m\u001b[0m\n\u001b[0;32m--> 357\u001b[0;31m             \u001b[0;32mraise\u001b[0m \u001b[0mJSONDecodeError\u001b[0m\u001b[0;34m(\u001b[0m\u001b[0;34m\"Expecting value\"\u001b[0m\u001b[0;34m,\u001b[0m \u001b[0ms\u001b[0m\u001b[0;34m,\u001b[0m \u001b[0merr\u001b[0m\u001b[0;34m.\u001b[0m\u001b[0mvalue\u001b[0m\u001b[0;34m)\u001b[0m \u001b[0;32mfrom\u001b[0m \u001b[0;32mNone\u001b[0m\u001b[0;34m\u001b[0m\u001b[0m\n\u001b[0m\u001b[1;32m    358\u001b[0m         \u001b[0;32mreturn\u001b[0m \u001b[0mobj\u001b[0m\u001b[0;34m,\u001b[0m \u001b[0mend\u001b[0m\u001b[0;34m\u001b[0m\u001b[0m\n",
      "\u001b[0;31mJSONDecodeError\u001b[0m: Expecting value: line 1 column 1 (char 0)"
     ]
    }
   ],
   "source": [
    "rsid = \"rs11257655\"\n",
    "#rsid = \"rs7903146\"\n",
    "with urllib.request.urlopen(rsid_url(rsid)) as url:\n",
    "    print(url.read())\n",
    "    json_thing = json.loads(url.read())"
   ]
  },
  {
   "cell_type": "code",
   "execution_count": 235,
   "metadata": {
    "scrolled": false
   },
   "outputs": [
    {
     "name": "stdout",
     "output_type": "stream",
     "text": [
      "max items 30\n",
      "num annotations 3\n",
      "height 1190.4190835817544\n",
      "width 988.7510598012988\n",
      "max text len: 41\n",
      "max items: 30 3\n"
     ]
    },
    {
     "data": {
      "application/vnd.plotly.v1+json": {
       "data": [
        {
         "hoverinfo": "closest",
         "marker": {
          "color": [],
          "line": {
           "width": 10
          },
          "opacity": 0,
          "size": 10
         },
         "mode": "markers+text",
         "text": [
          "test",
          "accessible chromatin",
          "islet of Langerhans: .",
          "binding footprints",
          "islet of Langerhans: TP63",
          "islet of Langerhans: J4188",
          "islet of Langerhans: HES5_1",
          "islet of Langerhans: TCF3_1",
          "islet of Langerhans: PPARA_4",
          "islet of Langerhans: HNF4_known7",
          "islet of Langerhans: HNF4_known6",
          "islet of Langerhans: HNF4_known5",
          "islet of Langerhans: STAT_known6",
          "islet of Langerhans: ZNF713_1",
          "islet of Langerhans: HIC1_1",
          "chromatin state",
          "adipocyte: 17_Weak_repressed_polycomb",
          "keratinocyte: 6_Weak_transcription",
          "endothelial cell of umbilical vein: 18_Quiescent/low_signal",
          "mucosa of rectum: 11_Weak_enhancer",
          "H1: 18_Quiescent/low_signal",
          "islet of Langerhans: 10_Active_enhancer_2",
          "caudate nucleus: 18_Quiescent/low_signal",
          "CD34-PB: 9_Active_enhancer_1",
          "colonic mucosa: 10_Active_enhancer_2",
          "skeletal muscle tissue: 6_Weak_transcription",
          "liver: 9_Active_enhancer_1",
          "mammary epithelial cell: 6_Weak_transcription",
          "substantia nigra: 18_Quiescent/low_signal",
          "K562: 3_Flanking_TSS",
          "duodenum mucosa: 11_Weak_enhancer",
          "skeletal muscle myoblast: 18_Quiescent/low_signal",
          "adipocyte: 6_Weak_transcription",
          "adipocyte: 18_Quiescent/low_signal",
          "fibroblast of lung: 6_Weak_transcription",
          "ESC derived cell line: 11_Weak_enhancer",
          "layer of hippocampus: 11_Weak_enhancer",
          "HepG2: 11_Weak_enhancer",
          " temporal lobe: 18_Quiescent/low_signal",
          "mid-frontal lobe: 18_Quiescent/low_signal",
          "cingulate gyrus: 18_Quiescent/low_signal",
          "ESC derived cell line: 18_Quiescent/low_signal",
          "adipose tissue: 11_Weak_enhancer",
          "rectal smooth muscle tissue: 6_Weak_transcription",
          "adipocyte: 18_Quiescent/low_signal",
          "GM12878: 9_Active_enhancer_1"
         ],
         "type": "scatter",
         "x": [
          50,
          4,
          4,
          50,
          50,
          50,
          50,
          50,
          50,
          50,
          50,
          50,
          50,
          50,
          50,
          96,
          96,
          96,
          96,
          96,
          96,
          96,
          96,
          96,
          96,
          96,
          96,
          96,
          96,
          96,
          96,
          96,
          96,
          96,
          96,
          96,
          96,
          96,
          96,
          96,
          96,
          96,
          96,
          96,
          96,
          96,
          -21,
          121
         ],
         "y": [
          100,
          92,
          88,
          92,
          88,
          84,
          80,
          76,
          72,
          68,
          64,
          60,
          56,
          52,
          48,
          92,
          88,
          84,
          80,
          76,
          72,
          68,
          64,
          60,
          56,
          52,
          48,
          44,
          40,
          36,
          32,
          28,
          24,
          20,
          16,
          12,
          8,
          4,
          0,
          -4,
          -8,
          -12,
          -16,
          -20,
          -24,
          -28,
          -28,
          100
         ]
        },
        {
         "hoverinfo": "none",
         "line": {
          "color": "#888",
          "width": 2
         },
         "mode": "lines",
         "type": "scatter",
         "x": [
          50,
          4,
          null,
          50,
          50,
          null,
          50,
          96,
          null
         ],
         "y": [
          98,
          94,
          null,
          98,
          94,
          null,
          98,
          94,
          null
         ]
        }
       ],
       "layout": {
        "height": 1190.4190835817544,
        "shapes": [
         {
          "fillcolor": "rgba(55, 128, 191, 0.6)",
          "line": {
           "color": "#888",
           "width": 2
          },
          "opacity": 0.5,
          "type": "rect",
          "x0": 29.5,
          "x1": 70.5,
          "xref": "x",
          "y0": 98,
          "y1": 102,
          "yref": "y"
         },
         {
          "fillcolor": "rgba(55, 128, 191, 0.6)",
          "line": {
           "color": "#888",
           "width": 2
          },
          "opacity": 0.5,
          "type": "rect",
          "x0": -16.5,
          "x1": 24.5,
          "xref": "x",
          "y0": 90,
          "y1": 94,
          "yref": "y"
         },
         {
          "fillcolor": "rgba(55, 128, 191, 0.6)",
          "line": {
           "color": "#888",
           "width": 2
          },
          "opacity": 0.5,
          "type": "rect",
          "x0": -16.5,
          "x1": 24.5,
          "xref": "x",
          "y0": 86,
          "y1": 90,
          "yref": "y"
         },
         {
          "fillcolor": "rgba(55, 128, 191, 0.6)",
          "line": {
           "color": "#888",
           "width": 2
          },
          "opacity": 0.5,
          "type": "rect",
          "x0": 29.5,
          "x1": 70.5,
          "xref": "x",
          "y0": 90,
          "y1": 94,
          "yref": "y"
         },
         {
          "fillcolor": "rgba(55, 128, 191, 0.6)",
          "line": {
           "color": "#888",
           "width": 2
          },
          "opacity": 0.5,
          "type": "rect",
          "x0": 29.5,
          "x1": 70.5,
          "xref": "x",
          "y0": 86,
          "y1": 90,
          "yref": "y"
         },
         {
          "fillcolor": "rgba(55, 128, 191, 0.6)",
          "line": {
           "color": "#888",
           "width": 2
          },
          "opacity": 0.5,
          "type": "rect",
          "x0": 29.5,
          "x1": 70.5,
          "xref": "x",
          "y0": 82,
          "y1": 86,
          "yref": "y"
         },
         {
          "fillcolor": "rgba(55, 128, 191, 0.6)",
          "line": {
           "color": "#888",
           "width": 2
          },
          "opacity": 0.5,
          "type": "rect",
          "x0": 29.5,
          "x1": 70.5,
          "xref": "x",
          "y0": 78,
          "y1": 82,
          "yref": "y"
         },
         {
          "fillcolor": "rgba(55, 128, 191, 0.6)",
          "line": {
           "color": "#888",
           "width": 2
          },
          "opacity": 0.5,
          "type": "rect",
          "x0": 29.5,
          "x1": 70.5,
          "xref": "x",
          "y0": 74,
          "y1": 78,
          "yref": "y"
         },
         {
          "fillcolor": "rgba(55, 128, 191, 0.6)",
          "line": {
           "color": "#888",
           "width": 2
          },
          "opacity": 0.5,
          "type": "rect",
          "x0": 29.5,
          "x1": 70.5,
          "xref": "x",
          "y0": 70,
          "y1": 74,
          "yref": "y"
         },
         {
          "fillcolor": "rgba(55, 128, 191, 0.6)",
          "line": {
           "color": "#888",
           "width": 2
          },
          "opacity": 0.5,
          "type": "rect",
          "x0": 29.5,
          "x1": 70.5,
          "xref": "x",
          "y0": 66,
          "y1": 70,
          "yref": "y"
         },
         {
          "fillcolor": "rgba(55, 128, 191, 0.6)",
          "line": {
           "color": "#888",
           "width": 2
          },
          "opacity": 0.5,
          "type": "rect",
          "x0": 29.5,
          "x1": 70.5,
          "xref": "x",
          "y0": 62,
          "y1": 66,
          "yref": "y"
         },
         {
          "fillcolor": "rgba(55, 128, 191, 0.6)",
          "line": {
           "color": "#888",
           "width": 2
          },
          "opacity": 0.5,
          "type": "rect",
          "x0": 29.5,
          "x1": 70.5,
          "xref": "x",
          "y0": 58,
          "y1": 62,
          "yref": "y"
         },
         {
          "fillcolor": "rgba(55, 128, 191, 0.6)",
          "line": {
           "color": "#888",
           "width": 2
          },
          "opacity": 0.5,
          "type": "rect",
          "x0": 29.5,
          "x1": 70.5,
          "xref": "x",
          "y0": 54,
          "y1": 58,
          "yref": "y"
         },
         {
          "fillcolor": "rgba(55, 128, 191, 0.6)",
          "line": {
           "color": "#888",
           "width": 2
          },
          "opacity": 0.5,
          "type": "rect",
          "x0": 29.5,
          "x1": 70.5,
          "xref": "x",
          "y0": 50,
          "y1": 54,
          "yref": "y"
         },
         {
          "fillcolor": "rgba(55, 128, 191, 0.6)",
          "line": {
           "color": "#888",
           "width": 2
          },
          "opacity": 0.5,
          "type": "rect",
          "x0": 29.5,
          "x1": 70.5,
          "xref": "x",
          "y0": 46,
          "y1": 50,
          "yref": "y"
         },
         {
          "fillcolor": "rgba(55, 128, 191, 0.6)",
          "line": {
           "color": "#888",
           "width": 2
          },
          "opacity": 0.5,
          "type": "rect",
          "x0": 75.5,
          "x1": 116.5,
          "xref": "x",
          "y0": 90,
          "y1": 94,
          "yref": "y"
         },
         {
          "fillcolor": "rgba(55, 128, 191, 0.6)",
          "line": {
           "color": "#888",
           "width": 2
          },
          "opacity": 0.5,
          "type": "rect",
          "x0": 75.5,
          "x1": 116.5,
          "xref": "x",
          "y0": 86,
          "y1": 90,
          "yref": "y"
         },
         {
          "fillcolor": "rgba(55, 128, 191, 0.6)",
          "line": {
           "color": "#888",
           "width": 2
          },
          "opacity": 0.5,
          "type": "rect",
          "x0": 75.5,
          "x1": 116.5,
          "xref": "x",
          "y0": 82,
          "y1": 86,
          "yref": "y"
         },
         {
          "fillcolor": "rgba(55, 128, 191, 0.6)",
          "line": {
           "color": "#888",
           "width": 2
          },
          "opacity": 0.5,
          "type": "rect",
          "x0": 75.5,
          "x1": 116.5,
          "xref": "x",
          "y0": 78,
          "y1": 82,
          "yref": "y"
         },
         {
          "fillcolor": "rgba(55, 128, 191, 0.6)",
          "line": {
           "color": "#888",
           "width": 2
          },
          "opacity": 0.5,
          "type": "rect",
          "x0": 75.5,
          "x1": 116.5,
          "xref": "x",
          "y0": 74,
          "y1": 78,
          "yref": "y"
         },
         {
          "fillcolor": "rgba(55, 128, 191, 0.6)",
          "line": {
           "color": "#888",
           "width": 2
          },
          "opacity": 0.5,
          "type": "rect",
          "x0": 75.5,
          "x1": 116.5,
          "xref": "x",
          "y0": 70,
          "y1": 74,
          "yref": "y"
         },
         {
          "fillcolor": "rgba(55, 128, 191, 0.6)",
          "line": {
           "color": "#888",
           "width": 2
          },
          "opacity": 0.5,
          "type": "rect",
          "x0": 75.5,
          "x1": 116.5,
          "xref": "x",
          "y0": 66,
          "y1": 70,
          "yref": "y"
         },
         {
          "fillcolor": "rgba(55, 128, 191, 0.6)",
          "line": {
           "color": "#888",
           "width": 2
          },
          "opacity": 0.5,
          "type": "rect",
          "x0": 75.5,
          "x1": 116.5,
          "xref": "x",
          "y0": 62,
          "y1": 66,
          "yref": "y"
         },
         {
          "fillcolor": "rgba(55, 128, 191, 0.6)",
          "line": {
           "color": "#888",
           "width": 2
          },
          "opacity": 0.5,
          "type": "rect",
          "x0": 75.5,
          "x1": 116.5,
          "xref": "x",
          "y0": 58,
          "y1": 62,
          "yref": "y"
         },
         {
          "fillcolor": "rgba(55, 128, 191, 0.6)",
          "line": {
           "color": "#888",
           "width": 2
          },
          "opacity": 0.5,
          "type": "rect",
          "x0": 75.5,
          "x1": 116.5,
          "xref": "x",
          "y0": 54,
          "y1": 58,
          "yref": "y"
         },
         {
          "fillcolor": "rgba(55, 128, 191, 0.6)",
          "line": {
           "color": "#888",
           "width": 2
          },
          "opacity": 0.5,
          "type": "rect",
          "x0": 75.5,
          "x1": 116.5,
          "xref": "x",
          "y0": 50,
          "y1": 54,
          "yref": "y"
         },
         {
          "fillcolor": "rgba(55, 128, 191, 0.6)",
          "line": {
           "color": "#888",
           "width": 2
          },
          "opacity": 0.5,
          "type": "rect",
          "x0": 75.5,
          "x1": 116.5,
          "xref": "x",
          "y0": 46,
          "y1": 50,
          "yref": "y"
         },
         {
          "fillcolor": "rgba(55, 128, 191, 0.6)",
          "line": {
           "color": "#888",
           "width": 2
          },
          "opacity": 0.5,
          "type": "rect",
          "x0": 75.5,
          "x1": 116.5,
          "xref": "x",
          "y0": 42,
          "y1": 46,
          "yref": "y"
         },
         {
          "fillcolor": "rgba(55, 128, 191, 0.6)",
          "line": {
           "color": "#888",
           "width": 2
          },
          "opacity": 0.5,
          "type": "rect",
          "x0": 75.5,
          "x1": 116.5,
          "xref": "x",
          "y0": 38,
          "y1": 42,
          "yref": "y"
         },
         {
          "fillcolor": "rgba(55, 128, 191, 0.6)",
          "line": {
           "color": "#888",
           "width": 2
          },
          "opacity": 0.5,
          "type": "rect",
          "x0": 75.5,
          "x1": 116.5,
          "xref": "x",
          "y0": 34,
          "y1": 38,
          "yref": "y"
         },
         {
          "fillcolor": "rgba(55, 128, 191, 0.6)",
          "line": {
           "color": "#888",
           "width": 2
          },
          "opacity": 0.5,
          "type": "rect",
          "x0": 75.5,
          "x1": 116.5,
          "xref": "x",
          "y0": 30,
          "y1": 34,
          "yref": "y"
         },
         {
          "fillcolor": "rgba(55, 128, 191, 0.6)",
          "line": {
           "color": "#888",
           "width": 2
          },
          "opacity": 0.5,
          "type": "rect",
          "x0": 75.5,
          "x1": 116.5,
          "xref": "x",
          "y0": 26,
          "y1": 30,
          "yref": "y"
         },
         {
          "fillcolor": "rgba(55, 128, 191, 0.6)",
          "line": {
           "color": "#888",
           "width": 2
          },
          "opacity": 0.5,
          "type": "rect",
          "x0": 75.5,
          "x1": 116.5,
          "xref": "x",
          "y0": 22,
          "y1": 26,
          "yref": "y"
         },
         {
          "fillcolor": "rgba(55, 128, 191, 0.6)",
          "line": {
           "color": "#888",
           "width": 2
          },
          "opacity": 0.5,
          "type": "rect",
          "x0": 75.5,
          "x1": 116.5,
          "xref": "x",
          "y0": 18,
          "y1": 22,
          "yref": "y"
         },
         {
          "fillcolor": "rgba(55, 128, 191, 0.6)",
          "line": {
           "color": "#888",
           "width": 2
          },
          "opacity": 0.5,
          "type": "rect",
          "x0": 75.5,
          "x1": 116.5,
          "xref": "x",
          "y0": 14,
          "y1": 18,
          "yref": "y"
         },
         {
          "fillcolor": "rgba(55, 128, 191, 0.6)",
          "line": {
           "color": "#888",
           "width": 2
          },
          "opacity": 0.5,
          "type": "rect",
          "x0": 75.5,
          "x1": 116.5,
          "xref": "x",
          "y0": 10,
          "y1": 14,
          "yref": "y"
         },
         {
          "fillcolor": "rgba(55, 128, 191, 0.6)",
          "line": {
           "color": "#888",
           "width": 2
          },
          "opacity": 0.5,
          "type": "rect",
          "x0": 75.5,
          "x1": 116.5,
          "xref": "x",
          "y0": 6,
          "y1": 10,
          "yref": "y"
         },
         {
          "fillcolor": "rgba(55, 128, 191, 0.6)",
          "line": {
           "color": "#888",
           "width": 2
          },
          "opacity": 0.5,
          "type": "rect",
          "x0": 75.5,
          "x1": 116.5,
          "xref": "x",
          "y0": 2,
          "y1": 6,
          "yref": "y"
         },
         {
          "fillcolor": "rgba(55, 128, 191, 0.6)",
          "line": {
           "color": "#888",
           "width": 2
          },
          "opacity": 0.5,
          "type": "rect",
          "x0": 75.5,
          "x1": 116.5,
          "xref": "x",
          "y0": -2,
          "y1": 2,
          "yref": "y"
         },
         {
          "fillcolor": "rgba(55, 128, 191, 0.6)",
          "line": {
           "color": "#888",
           "width": 2
          },
          "opacity": 0.5,
          "type": "rect",
          "x0": 75.5,
          "x1": 116.5,
          "xref": "x",
          "y0": -6,
          "y1": -2,
          "yref": "y"
         },
         {
          "fillcolor": "rgba(55, 128, 191, 0.6)",
          "line": {
           "color": "#888",
           "width": 2
          },
          "opacity": 0.5,
          "type": "rect",
          "x0": 75.5,
          "x1": 116.5,
          "xref": "x",
          "y0": -10,
          "y1": -6,
          "yref": "y"
         },
         {
          "fillcolor": "rgba(55, 128, 191, 0.6)",
          "line": {
           "color": "#888",
           "width": 2
          },
          "opacity": 0.5,
          "type": "rect",
          "x0": 75.5,
          "x1": 116.5,
          "xref": "x",
          "y0": -14,
          "y1": -10,
          "yref": "y"
         },
         {
          "fillcolor": "rgba(55, 128, 191, 0.6)",
          "line": {
           "color": "#888",
           "width": 2
          },
          "opacity": 0.5,
          "type": "rect",
          "x0": 75.5,
          "x1": 116.5,
          "xref": "x",
          "y0": -18,
          "y1": -14,
          "yref": "y"
         },
         {
          "fillcolor": "rgba(55, 128, 191, 0.6)",
          "line": {
           "color": "#888",
           "width": 2
          },
          "opacity": 0.5,
          "type": "rect",
          "x0": 75.5,
          "x1": 116.5,
          "xref": "x",
          "y0": -22,
          "y1": -18,
          "yref": "y"
         },
         {
          "fillcolor": "rgba(55, 128, 191, 0.6)",
          "line": {
           "color": "#888",
           "width": 2
          },
          "opacity": 0.5,
          "type": "rect",
          "x0": 75.5,
          "x1": 116.5,
          "xref": "x",
          "y0": -26,
          "y1": -22,
          "yref": "y"
         },
         {
          "fillcolor": "rgba(55, 128, 191, 0.6)",
          "line": {
           "color": "#888",
           "width": 2
          },
          "opacity": 0.5,
          "type": "rect",
          "x0": 75.5,
          "x1": 116.5,
          "xref": "x",
          "y0": -30,
          "y1": -26,
          "yref": "y"
         }
        ],
        "showlegend": false,
        "width": 988.7510598012988,
        "xaxis": {
         "showgrid": false,
         "showline": false,
         "showticklabels": false,
         "ticks": "",
         "zeroline": false
        },
        "yaxis": {
         "showgrid": false,
         "showline": false,
         "showticklabels": false,
         "ticks": "",
         "zeroline": false
        }
       }
      },
      "text/html": [
       "<div id=\"eb914d67-dbef-4a60-8688-740af6706e0c\" style=\"height: 1190.4190835817544px; width: 988.7510598012988px;\" class=\"plotly-graph-div\"></div><script type=\"text/javascript\">require([\"plotly\"], function(Plotly) { window.PLOTLYENV=window.PLOTLYENV || {};window.PLOTLYENV.BASE_URL=\"https://plot.ly\";Plotly.newPlot(\"eb914d67-dbef-4a60-8688-740af6706e0c\", [{\"type\": \"scatter\", \"x\": [50.0, 4.0, 4.0, 50.0, 50.0, 50.0, 50.0, 50.0, 50.0, 50.0, 50.0, 50.0, 50.0, 50.0, 50.0, 96.0, 96.0, 96.0, 96.0, 96.0, 96.0, 96.0, 96.0, 96.0, 96.0, 96.0, 96.0, 96.0, 96.0, 96.0, 96.0, 96.0, 96.0, 96.0, 96.0, 96.0, 96.0, 96.0, 96.0, 96.0, 96.0, 96.0, 96.0, 96.0, 96.0, 96.0, -21.0, 121.0], \"y\": [100, 92, 88, 92, 88, 84, 80, 76, 72, 68, 64, 60, 56, 52, 48, 92, 88, 84, 80, 76, 72, 68, 64, 60, 56, 52, 48, 44, 40, 36, 32, 28, 24, 20, 16, 12, 8, 4, 0, -4, -8, -12, -16, -20, -24, -28, -28, 100], \"text\": [\"test\", \"accessible chromatin\", \"islet of Langerhans: .\", \"binding footprints\", \"islet of Langerhans: TP63\", \"islet of Langerhans: J4188\", \"islet of Langerhans: HES5_1\", \"islet of Langerhans: TCF3_1\", \"islet of Langerhans: PPARA_4\", \"islet of Langerhans: HNF4_known7\", \"islet of Langerhans: HNF4_known6\", \"islet of Langerhans: HNF4_known5\", \"islet of Langerhans: STAT_known6\", \"islet of Langerhans: ZNF713_1\", \"islet of Langerhans: HIC1_1\", \"chromatin state\", \"adipocyte: 17_Weak_repressed_polycomb\", \"keratinocyte: 6_Weak_transcription\", \"endothelial cell of umbilical vein: 18_Quiescent/low_signal\", \"mucosa of rectum: 11_Weak_enhancer\", \"H1: 18_Quiescent/low_signal\", \"islet of Langerhans: 10_Active_enhancer_2\", \"caudate nucleus: 18_Quiescent/low_signal\", \"CD34-PB: 9_Active_enhancer_1\", \"colonic mucosa: 10_Active_enhancer_2\", \"skeletal muscle tissue: 6_Weak_transcription\", \"liver: 9_Active_enhancer_1\", \"mammary epithelial cell: 6_Weak_transcription\", \"substantia nigra: 18_Quiescent/low_signal\", \"K562: 3_Flanking_TSS\", \"duodenum mucosa: 11_Weak_enhancer\", \"skeletal muscle myoblast: 18_Quiescent/low_signal\", \"adipocyte: 6_Weak_transcription\", \"adipocyte: 18_Quiescent/low_signal\", \"fibroblast of lung: 6_Weak_transcription\", \"ESC derived cell line: 11_Weak_enhancer\", \"layer of hippocampus: 11_Weak_enhancer\", \"HepG2: 11_Weak_enhancer\", \" temporal lobe: 18_Quiescent/low_signal\", \"mid-frontal lobe: 18_Quiescent/low_signal\", \"cingulate gyrus: 18_Quiescent/low_signal\", \"ESC derived cell line: 18_Quiescent/low_signal\", \"adipose tissue: 11_Weak_enhancer\", \"rectal smooth muscle tissue: 6_Weak_transcription\", \"adipocyte: 18_Quiescent/low_signal\", \"GM12878: 9_Active_enhancer_1\"], \"mode\": \"markers+text\", \"hoverinfo\": \"closest\", \"marker\": {\"color\": [], \"size\": 10, \"line\": {\"width\": 10}, \"opacity\": 0.0}}, {\"type\": \"scatter\", \"x\": [50.0, 4.0, null, 50.0, 50.0, null, 50.0, 96.0, null], \"y\": [98.0, 94.0, null, 98.0, 94.0, null, 98.0, 94.0, null], \"line\": {\"width\": 2, \"color\": \"#888\"}, \"hoverinfo\": \"none\", \"mode\": \"lines\"}], {\"width\": 988.7510598012988, \"height\": 1190.4190835817544, \"xaxis\": {\"showgrid\": false, \"zeroline\": false, \"showline\": false, \"ticks\": \"\", \"showticklabels\": false}, \"yaxis\": {\"showgrid\": false, \"zeroline\": false, \"showline\": false, \"ticks\": \"\", \"showticklabels\": false}, \"showlegend\": false, \"shapes\": [{\"type\": \"rect\", \"xref\": \"x\", \"yref\": \"y\", \"x0\": 29.5, \"y0\": 98.0, \"x1\": 70.5, \"y1\": 102.0, \"line\": {\"color\": \"#888\", \"width\": 2}, \"fillcolor\": \"rgba(55, 128, 191, 0.6)\", \"opacity\": 0.5}, {\"type\": \"rect\", \"xref\": \"x\", \"yref\": \"y\", \"x0\": -16.5, \"y0\": 90.0, \"x1\": 24.5, \"y1\": 94.0, \"line\": {\"color\": \"#888\", \"width\": 2}, \"fillcolor\": \"rgba(55, 128, 191, 0.6)\", \"opacity\": 0.5}, {\"type\": \"rect\", \"xref\": \"x\", \"yref\": \"y\", \"x0\": -16.5, \"y0\": 86.0, \"x1\": 24.5, \"y1\": 90.0, \"line\": {\"color\": \"#888\", \"width\": 2}, \"fillcolor\": \"rgba(55, 128, 191, 0.6)\", \"opacity\": 0.5}, {\"type\": \"rect\", \"xref\": \"x\", \"yref\": \"y\", \"x0\": 29.5, \"y0\": 90.0, \"x1\": 70.5, \"y1\": 94.0, \"line\": {\"color\": \"#888\", \"width\": 2}, \"fillcolor\": \"rgba(55, 128, 191, 0.6)\", \"opacity\": 0.5}, {\"type\": \"rect\", \"xref\": \"x\", \"yref\": \"y\", \"x0\": 29.5, \"y0\": 86.0, \"x1\": 70.5, \"y1\": 90.0, \"line\": {\"color\": \"#888\", \"width\": 2}, \"fillcolor\": \"rgba(55, 128, 191, 0.6)\", \"opacity\": 0.5}, {\"type\": \"rect\", \"xref\": \"x\", \"yref\": \"y\", \"x0\": 29.5, \"y0\": 82.0, \"x1\": 70.5, \"y1\": 86.0, \"line\": {\"color\": \"#888\", \"width\": 2}, \"fillcolor\": \"rgba(55, 128, 191, 0.6)\", \"opacity\": 0.5}, {\"type\": \"rect\", \"xref\": \"x\", \"yref\": \"y\", \"x0\": 29.5, \"y0\": 78.0, \"x1\": 70.5, \"y1\": 82.0, \"line\": {\"color\": \"#888\", \"width\": 2}, \"fillcolor\": \"rgba(55, 128, 191, 0.6)\", \"opacity\": 0.5}, {\"type\": \"rect\", \"xref\": \"x\", \"yref\": \"y\", \"x0\": 29.5, \"y0\": 74.0, \"x1\": 70.5, \"y1\": 78.0, \"line\": {\"color\": \"#888\", \"width\": 2}, \"fillcolor\": \"rgba(55, 128, 191, 0.6)\", \"opacity\": 0.5}, {\"type\": \"rect\", \"xref\": \"x\", \"yref\": \"y\", \"x0\": 29.5, \"y0\": 70.0, \"x1\": 70.5, \"y1\": 74.0, \"line\": {\"color\": \"#888\", \"width\": 2}, \"fillcolor\": \"rgba(55, 128, 191, 0.6)\", \"opacity\": 0.5}, {\"type\": \"rect\", \"xref\": \"x\", \"yref\": \"y\", \"x0\": 29.5, \"y0\": 66.0, \"x1\": 70.5, \"y1\": 70.0, \"line\": {\"color\": \"#888\", \"width\": 2}, \"fillcolor\": \"rgba(55, 128, 191, 0.6)\", \"opacity\": 0.5}, {\"type\": \"rect\", \"xref\": \"x\", \"yref\": \"y\", \"x0\": 29.5, \"y0\": 62.0, \"x1\": 70.5, \"y1\": 66.0, \"line\": {\"color\": \"#888\", \"width\": 2}, \"fillcolor\": \"rgba(55, 128, 191, 0.6)\", \"opacity\": 0.5}, {\"type\": \"rect\", \"xref\": \"x\", \"yref\": \"y\", \"x0\": 29.5, \"y0\": 58.0, \"x1\": 70.5, \"y1\": 62.0, \"line\": {\"color\": \"#888\", \"width\": 2}, \"fillcolor\": \"rgba(55, 128, 191, 0.6)\", \"opacity\": 0.5}, {\"type\": \"rect\", \"xref\": \"x\", \"yref\": \"y\", \"x0\": 29.5, \"y0\": 54.0, \"x1\": 70.5, \"y1\": 58.0, \"line\": {\"color\": \"#888\", \"width\": 2}, \"fillcolor\": \"rgba(55, 128, 191, 0.6)\", \"opacity\": 0.5}, {\"type\": \"rect\", \"xref\": \"x\", \"yref\": \"y\", \"x0\": 29.5, \"y0\": 50.0, \"x1\": 70.5, \"y1\": 54.0, \"line\": {\"color\": \"#888\", \"width\": 2}, \"fillcolor\": \"rgba(55, 128, 191, 0.6)\", \"opacity\": 0.5}, {\"type\": \"rect\", \"xref\": \"x\", \"yref\": \"y\", \"x0\": 29.5, \"y0\": 46.0, \"x1\": 70.5, \"y1\": 50.0, \"line\": {\"color\": \"#888\", \"width\": 2}, \"fillcolor\": \"rgba(55, 128, 191, 0.6)\", \"opacity\": 0.5}, {\"type\": \"rect\", \"xref\": \"x\", \"yref\": \"y\", \"x0\": 75.5, \"y0\": 90.0, \"x1\": 116.5, \"y1\": 94.0, \"line\": {\"color\": \"#888\", \"width\": 2}, \"fillcolor\": \"rgba(55, 128, 191, 0.6)\", \"opacity\": 0.5}, {\"type\": \"rect\", \"xref\": \"x\", \"yref\": \"y\", \"x0\": 75.5, \"y0\": 86.0, \"x1\": 116.5, \"y1\": 90.0, \"line\": {\"color\": \"#888\", \"width\": 2}, \"fillcolor\": \"rgba(55, 128, 191, 0.6)\", \"opacity\": 0.5}, {\"type\": \"rect\", \"xref\": \"x\", \"yref\": \"y\", \"x0\": 75.5, \"y0\": 82.0, \"x1\": 116.5, \"y1\": 86.0, \"line\": {\"color\": \"#888\", \"width\": 2}, \"fillcolor\": \"rgba(55, 128, 191, 0.6)\", \"opacity\": 0.5}, {\"type\": \"rect\", \"xref\": \"x\", \"yref\": \"y\", \"x0\": 75.5, \"y0\": 78.0, \"x1\": 116.5, \"y1\": 82.0, \"line\": {\"color\": \"#888\", \"width\": 2}, \"fillcolor\": \"rgba(55, 128, 191, 0.6)\", \"opacity\": 0.5}, {\"type\": \"rect\", \"xref\": \"x\", \"yref\": \"y\", \"x0\": 75.5, \"y0\": 74.0, \"x1\": 116.5, \"y1\": 78.0, \"line\": {\"color\": \"#888\", \"width\": 2}, \"fillcolor\": \"rgba(55, 128, 191, 0.6)\", \"opacity\": 0.5}, {\"type\": \"rect\", \"xref\": \"x\", \"yref\": \"y\", \"x0\": 75.5, \"y0\": 70.0, \"x1\": 116.5, \"y1\": 74.0, \"line\": {\"color\": \"#888\", \"width\": 2}, \"fillcolor\": \"rgba(55, 128, 191, 0.6)\", \"opacity\": 0.5}, {\"type\": \"rect\", \"xref\": \"x\", \"yref\": \"y\", \"x0\": 75.5, \"y0\": 66.0, \"x1\": 116.5, \"y1\": 70.0, \"line\": {\"color\": \"#888\", \"width\": 2}, \"fillcolor\": \"rgba(55, 128, 191, 0.6)\", \"opacity\": 0.5}, {\"type\": \"rect\", \"xref\": \"x\", \"yref\": \"y\", \"x0\": 75.5, \"y0\": 62.0, \"x1\": 116.5, \"y1\": 66.0, \"line\": {\"color\": \"#888\", \"width\": 2}, \"fillcolor\": \"rgba(55, 128, 191, 0.6)\", \"opacity\": 0.5}, {\"type\": \"rect\", \"xref\": \"x\", \"yref\": \"y\", \"x0\": 75.5, \"y0\": 58.0, \"x1\": 116.5, \"y1\": 62.0, \"line\": {\"color\": \"#888\", \"width\": 2}, \"fillcolor\": \"rgba(55, 128, 191, 0.6)\", \"opacity\": 0.5}, {\"type\": \"rect\", \"xref\": \"x\", \"yref\": \"y\", \"x0\": 75.5, \"y0\": 54.0, \"x1\": 116.5, \"y1\": 58.0, \"line\": {\"color\": \"#888\", \"width\": 2}, \"fillcolor\": \"rgba(55, 128, 191, 0.6)\", \"opacity\": 0.5}, {\"type\": \"rect\", \"xref\": \"x\", \"yref\": \"y\", \"x0\": 75.5, \"y0\": 50.0, \"x1\": 116.5, \"y1\": 54.0, \"line\": {\"color\": \"#888\", \"width\": 2}, \"fillcolor\": \"rgba(55, 128, 191, 0.6)\", \"opacity\": 0.5}, {\"type\": \"rect\", \"xref\": \"x\", \"yref\": \"y\", \"x0\": 75.5, \"y0\": 46.0, \"x1\": 116.5, \"y1\": 50.0, \"line\": {\"color\": \"#888\", \"width\": 2}, \"fillcolor\": \"rgba(55, 128, 191, 0.6)\", \"opacity\": 0.5}, {\"type\": \"rect\", \"xref\": \"x\", \"yref\": \"y\", \"x0\": 75.5, \"y0\": 42.0, \"x1\": 116.5, \"y1\": 46.0, \"line\": {\"color\": \"#888\", \"width\": 2}, \"fillcolor\": \"rgba(55, 128, 191, 0.6)\", \"opacity\": 0.5}, {\"type\": \"rect\", \"xref\": \"x\", \"yref\": \"y\", \"x0\": 75.5, \"y0\": 38.0, \"x1\": 116.5, \"y1\": 42.0, \"line\": {\"color\": \"#888\", \"width\": 2}, \"fillcolor\": \"rgba(55, 128, 191, 0.6)\", \"opacity\": 0.5}, {\"type\": \"rect\", \"xref\": \"x\", \"yref\": \"y\", \"x0\": 75.5, \"y0\": 34.0, \"x1\": 116.5, \"y1\": 38.0, \"line\": {\"color\": \"#888\", \"width\": 2}, \"fillcolor\": \"rgba(55, 128, 191, 0.6)\", \"opacity\": 0.5}, {\"type\": \"rect\", \"xref\": \"x\", \"yref\": \"y\", \"x0\": 75.5, \"y0\": 30.0, \"x1\": 116.5, \"y1\": 34.0, \"line\": {\"color\": \"#888\", \"width\": 2}, \"fillcolor\": \"rgba(55, 128, 191, 0.6)\", \"opacity\": 0.5}, {\"type\": \"rect\", \"xref\": \"x\", \"yref\": \"y\", \"x0\": 75.5, \"y0\": 26.0, \"x1\": 116.5, \"y1\": 30.0, \"line\": {\"color\": \"#888\", \"width\": 2}, \"fillcolor\": \"rgba(55, 128, 191, 0.6)\", \"opacity\": 0.5}, {\"type\": \"rect\", \"xref\": \"x\", \"yref\": \"y\", \"x0\": 75.5, \"y0\": 22.0, \"x1\": 116.5, \"y1\": 26.0, \"line\": {\"color\": \"#888\", \"width\": 2}, \"fillcolor\": \"rgba(55, 128, 191, 0.6)\", \"opacity\": 0.5}, {\"type\": \"rect\", \"xref\": \"x\", \"yref\": \"y\", \"x0\": 75.5, \"y0\": 18.0, \"x1\": 116.5, \"y1\": 22.0, \"line\": {\"color\": \"#888\", \"width\": 2}, \"fillcolor\": \"rgba(55, 128, 191, 0.6)\", \"opacity\": 0.5}, {\"type\": \"rect\", \"xref\": \"x\", \"yref\": \"y\", \"x0\": 75.5, \"y0\": 14.0, \"x1\": 116.5, \"y1\": 18.0, \"line\": {\"color\": \"#888\", \"width\": 2}, \"fillcolor\": \"rgba(55, 128, 191, 0.6)\", \"opacity\": 0.5}, {\"type\": \"rect\", \"xref\": \"x\", \"yref\": \"y\", \"x0\": 75.5, \"y0\": 10.0, \"x1\": 116.5, \"y1\": 14.0, \"line\": {\"color\": \"#888\", \"width\": 2}, \"fillcolor\": \"rgba(55, 128, 191, 0.6)\", \"opacity\": 0.5}, {\"type\": \"rect\", \"xref\": \"x\", \"yref\": \"y\", \"x0\": 75.5, \"y0\": 6.0, \"x1\": 116.5, \"y1\": 10.0, \"line\": {\"color\": \"#888\", \"width\": 2}, \"fillcolor\": \"rgba(55, 128, 191, 0.6)\", \"opacity\": 0.5}, {\"type\": \"rect\", \"xref\": \"x\", \"yref\": \"y\", \"x0\": 75.5, \"y0\": 2.0, \"x1\": 116.5, \"y1\": 6.0, \"line\": {\"color\": \"#888\", \"width\": 2}, \"fillcolor\": \"rgba(55, 128, 191, 0.6)\", \"opacity\": 0.5}, {\"type\": \"rect\", \"xref\": \"x\", \"yref\": \"y\", \"x0\": 75.5, \"y0\": -2.0, \"x1\": 116.5, \"y1\": 2.0, \"line\": {\"color\": \"#888\", \"width\": 2}, \"fillcolor\": \"rgba(55, 128, 191, 0.6)\", \"opacity\": 0.5}, {\"type\": \"rect\", \"xref\": \"x\", \"yref\": \"y\", \"x0\": 75.5, \"y0\": -6.0, \"x1\": 116.5, \"y1\": -2.0, \"line\": {\"color\": \"#888\", \"width\": 2}, \"fillcolor\": \"rgba(55, 128, 191, 0.6)\", \"opacity\": 0.5}, {\"type\": \"rect\", \"xref\": \"x\", \"yref\": \"y\", \"x0\": 75.5, \"y0\": -10.0, \"x1\": 116.5, \"y1\": -6.0, \"line\": {\"color\": \"#888\", \"width\": 2}, \"fillcolor\": \"rgba(55, 128, 191, 0.6)\", \"opacity\": 0.5}, {\"type\": \"rect\", \"xref\": \"x\", \"yref\": \"y\", \"x0\": 75.5, \"y0\": -14.0, \"x1\": 116.5, \"y1\": -10.0, \"line\": {\"color\": \"#888\", \"width\": 2}, \"fillcolor\": \"rgba(55, 128, 191, 0.6)\", \"opacity\": 0.5}, {\"type\": \"rect\", \"xref\": \"x\", \"yref\": \"y\", \"x0\": 75.5, \"y0\": -18.0, \"x1\": 116.5, \"y1\": -14.0, \"line\": {\"color\": \"#888\", \"width\": 2}, \"fillcolor\": \"rgba(55, 128, 191, 0.6)\", \"opacity\": 0.5}, {\"type\": \"rect\", \"xref\": \"x\", \"yref\": \"y\", \"x0\": 75.5, \"y0\": -22.0, \"x1\": 116.5, \"y1\": -18.0, \"line\": {\"color\": \"#888\", \"width\": 2}, \"fillcolor\": \"rgba(55, 128, 191, 0.6)\", \"opacity\": 0.5}, {\"type\": \"rect\", \"xref\": \"x\", \"yref\": \"y\", \"x0\": 75.5, \"y0\": -26.0, \"x1\": 116.5, \"y1\": -22.0, \"line\": {\"color\": \"#888\", \"width\": 2}, \"fillcolor\": \"rgba(55, 128, 191, 0.6)\", \"opacity\": 0.5}, {\"type\": \"rect\", \"xref\": \"x\", \"yref\": \"y\", \"x0\": 75.5, \"y0\": -30.0, \"x1\": 116.5, \"y1\": -26.0, \"line\": {\"color\": \"#888\", \"width\": 2}, \"fillcolor\": \"rgba(55, 128, 191, 0.6)\", \"opacity\": 0.5}]}, {\"showLink\": true, \"linkText\": \"Export to plot.ly\"})});</script>"
      ],
      "text/vnd.plotly.v1+html": [
       "<div id=\"eb914d67-dbef-4a60-8688-740af6706e0c\" style=\"height: 1190.4190835817544px; width: 988.7510598012988px;\" class=\"plotly-graph-div\"></div><script type=\"text/javascript\">require([\"plotly\"], function(Plotly) { window.PLOTLYENV=window.PLOTLYENV || {};window.PLOTLYENV.BASE_URL=\"https://plot.ly\";Plotly.newPlot(\"eb914d67-dbef-4a60-8688-740af6706e0c\", [{\"type\": \"scatter\", \"x\": [50.0, 4.0, 4.0, 50.0, 50.0, 50.0, 50.0, 50.0, 50.0, 50.0, 50.0, 50.0, 50.0, 50.0, 50.0, 96.0, 96.0, 96.0, 96.0, 96.0, 96.0, 96.0, 96.0, 96.0, 96.0, 96.0, 96.0, 96.0, 96.0, 96.0, 96.0, 96.0, 96.0, 96.0, 96.0, 96.0, 96.0, 96.0, 96.0, 96.0, 96.0, 96.0, 96.0, 96.0, 96.0, 96.0, -21.0, 121.0], \"y\": [100, 92, 88, 92, 88, 84, 80, 76, 72, 68, 64, 60, 56, 52, 48, 92, 88, 84, 80, 76, 72, 68, 64, 60, 56, 52, 48, 44, 40, 36, 32, 28, 24, 20, 16, 12, 8, 4, 0, -4, -8, -12, -16, -20, -24, -28, -28, 100], \"text\": [\"test\", \"accessible chromatin\", \"islet of Langerhans: .\", \"binding footprints\", \"islet of Langerhans: TP63\", \"islet of Langerhans: J4188\", \"islet of Langerhans: HES5_1\", \"islet of Langerhans: TCF3_1\", \"islet of Langerhans: PPARA_4\", \"islet of Langerhans: HNF4_known7\", \"islet of Langerhans: HNF4_known6\", \"islet of Langerhans: HNF4_known5\", \"islet of Langerhans: STAT_known6\", \"islet of Langerhans: ZNF713_1\", \"islet of Langerhans: HIC1_1\", \"chromatin state\", \"adipocyte: 17_Weak_repressed_polycomb\", \"keratinocyte: 6_Weak_transcription\", \"endothelial cell of umbilical vein: 18_Quiescent/low_signal\", \"mucosa of rectum: 11_Weak_enhancer\", \"H1: 18_Quiescent/low_signal\", \"islet of Langerhans: 10_Active_enhancer_2\", \"caudate nucleus: 18_Quiescent/low_signal\", \"CD34-PB: 9_Active_enhancer_1\", \"colonic mucosa: 10_Active_enhancer_2\", \"skeletal muscle tissue: 6_Weak_transcription\", \"liver: 9_Active_enhancer_1\", \"mammary epithelial cell: 6_Weak_transcription\", \"substantia nigra: 18_Quiescent/low_signal\", \"K562: 3_Flanking_TSS\", \"duodenum mucosa: 11_Weak_enhancer\", \"skeletal muscle myoblast: 18_Quiescent/low_signal\", \"adipocyte: 6_Weak_transcription\", \"adipocyte: 18_Quiescent/low_signal\", \"fibroblast of lung: 6_Weak_transcription\", \"ESC derived cell line: 11_Weak_enhancer\", \"layer of hippocampus: 11_Weak_enhancer\", \"HepG2: 11_Weak_enhancer\", \" temporal lobe: 18_Quiescent/low_signal\", \"mid-frontal lobe: 18_Quiescent/low_signal\", \"cingulate gyrus: 18_Quiescent/low_signal\", \"ESC derived cell line: 18_Quiescent/low_signal\", \"adipose tissue: 11_Weak_enhancer\", \"rectal smooth muscle tissue: 6_Weak_transcription\", \"adipocyte: 18_Quiescent/low_signal\", \"GM12878: 9_Active_enhancer_1\"], \"mode\": \"markers+text\", \"hoverinfo\": \"closest\", \"marker\": {\"color\": [], \"size\": 10, \"line\": {\"width\": 10}, \"opacity\": 0.0}}, {\"type\": \"scatter\", \"x\": [50.0, 4.0, null, 50.0, 50.0, null, 50.0, 96.0, null], \"y\": [98.0, 94.0, null, 98.0, 94.0, null, 98.0, 94.0, null], \"line\": {\"width\": 2, \"color\": \"#888\"}, \"hoverinfo\": \"none\", \"mode\": \"lines\"}], {\"width\": 988.7510598012988, \"height\": 1190.4190835817544, \"xaxis\": {\"showgrid\": false, \"zeroline\": false, \"showline\": false, \"ticks\": \"\", \"showticklabels\": false}, \"yaxis\": {\"showgrid\": false, \"zeroline\": false, \"showline\": false, \"ticks\": \"\", \"showticklabels\": false}, \"showlegend\": false, \"shapes\": [{\"type\": \"rect\", \"xref\": \"x\", \"yref\": \"y\", \"x0\": 29.5, \"y0\": 98.0, \"x1\": 70.5, \"y1\": 102.0, \"line\": {\"color\": \"#888\", \"width\": 2}, \"fillcolor\": \"rgba(55, 128, 191, 0.6)\", \"opacity\": 0.5}, {\"type\": \"rect\", \"xref\": \"x\", \"yref\": \"y\", \"x0\": -16.5, \"y0\": 90.0, \"x1\": 24.5, \"y1\": 94.0, \"line\": {\"color\": \"#888\", \"width\": 2}, \"fillcolor\": \"rgba(55, 128, 191, 0.6)\", \"opacity\": 0.5}, {\"type\": \"rect\", \"xref\": \"x\", \"yref\": \"y\", \"x0\": -16.5, \"y0\": 86.0, \"x1\": 24.5, \"y1\": 90.0, \"line\": {\"color\": \"#888\", \"width\": 2}, \"fillcolor\": \"rgba(55, 128, 191, 0.6)\", \"opacity\": 0.5}, {\"type\": \"rect\", \"xref\": \"x\", \"yref\": \"y\", \"x0\": 29.5, \"y0\": 90.0, \"x1\": 70.5, \"y1\": 94.0, \"line\": {\"color\": \"#888\", \"width\": 2}, \"fillcolor\": \"rgba(55, 128, 191, 0.6)\", \"opacity\": 0.5}, {\"type\": \"rect\", \"xref\": \"x\", \"yref\": \"y\", \"x0\": 29.5, \"y0\": 86.0, \"x1\": 70.5, \"y1\": 90.0, \"line\": {\"color\": \"#888\", \"width\": 2}, \"fillcolor\": \"rgba(55, 128, 191, 0.6)\", \"opacity\": 0.5}, {\"type\": \"rect\", \"xref\": \"x\", \"yref\": \"y\", \"x0\": 29.5, \"y0\": 82.0, \"x1\": 70.5, \"y1\": 86.0, \"line\": {\"color\": \"#888\", \"width\": 2}, \"fillcolor\": \"rgba(55, 128, 191, 0.6)\", \"opacity\": 0.5}, {\"type\": \"rect\", \"xref\": \"x\", \"yref\": \"y\", \"x0\": 29.5, \"y0\": 78.0, \"x1\": 70.5, \"y1\": 82.0, \"line\": {\"color\": \"#888\", \"width\": 2}, \"fillcolor\": \"rgba(55, 128, 191, 0.6)\", \"opacity\": 0.5}, {\"type\": \"rect\", \"xref\": \"x\", \"yref\": \"y\", \"x0\": 29.5, \"y0\": 74.0, \"x1\": 70.5, \"y1\": 78.0, \"line\": {\"color\": \"#888\", \"width\": 2}, \"fillcolor\": \"rgba(55, 128, 191, 0.6)\", \"opacity\": 0.5}, {\"type\": \"rect\", \"xref\": \"x\", \"yref\": \"y\", \"x0\": 29.5, \"y0\": 70.0, \"x1\": 70.5, \"y1\": 74.0, \"line\": {\"color\": \"#888\", \"width\": 2}, \"fillcolor\": \"rgba(55, 128, 191, 0.6)\", \"opacity\": 0.5}, {\"type\": \"rect\", \"xref\": \"x\", \"yref\": \"y\", \"x0\": 29.5, \"y0\": 66.0, \"x1\": 70.5, \"y1\": 70.0, \"line\": {\"color\": \"#888\", \"width\": 2}, \"fillcolor\": \"rgba(55, 128, 191, 0.6)\", \"opacity\": 0.5}, {\"type\": \"rect\", \"xref\": \"x\", \"yref\": \"y\", \"x0\": 29.5, \"y0\": 62.0, \"x1\": 70.5, \"y1\": 66.0, \"line\": {\"color\": \"#888\", \"width\": 2}, \"fillcolor\": \"rgba(55, 128, 191, 0.6)\", \"opacity\": 0.5}, {\"type\": \"rect\", \"xref\": \"x\", \"yref\": \"y\", \"x0\": 29.5, \"y0\": 58.0, \"x1\": 70.5, \"y1\": 62.0, \"line\": {\"color\": \"#888\", \"width\": 2}, \"fillcolor\": \"rgba(55, 128, 191, 0.6)\", \"opacity\": 0.5}, {\"type\": \"rect\", \"xref\": \"x\", \"yref\": \"y\", \"x0\": 29.5, \"y0\": 54.0, \"x1\": 70.5, \"y1\": 58.0, \"line\": {\"color\": \"#888\", \"width\": 2}, \"fillcolor\": \"rgba(55, 128, 191, 0.6)\", \"opacity\": 0.5}, {\"type\": \"rect\", \"xref\": \"x\", \"yref\": \"y\", \"x0\": 29.5, \"y0\": 50.0, \"x1\": 70.5, \"y1\": 54.0, \"line\": {\"color\": \"#888\", \"width\": 2}, \"fillcolor\": \"rgba(55, 128, 191, 0.6)\", \"opacity\": 0.5}, {\"type\": \"rect\", \"xref\": \"x\", \"yref\": \"y\", \"x0\": 29.5, \"y0\": 46.0, \"x1\": 70.5, \"y1\": 50.0, \"line\": {\"color\": \"#888\", \"width\": 2}, \"fillcolor\": \"rgba(55, 128, 191, 0.6)\", \"opacity\": 0.5}, {\"type\": \"rect\", \"xref\": \"x\", \"yref\": \"y\", \"x0\": 75.5, \"y0\": 90.0, \"x1\": 116.5, \"y1\": 94.0, \"line\": {\"color\": \"#888\", \"width\": 2}, \"fillcolor\": \"rgba(55, 128, 191, 0.6)\", \"opacity\": 0.5}, {\"type\": \"rect\", \"xref\": \"x\", \"yref\": \"y\", \"x0\": 75.5, \"y0\": 86.0, \"x1\": 116.5, \"y1\": 90.0, \"line\": {\"color\": \"#888\", \"width\": 2}, \"fillcolor\": \"rgba(55, 128, 191, 0.6)\", \"opacity\": 0.5}, {\"type\": \"rect\", \"xref\": \"x\", \"yref\": \"y\", \"x0\": 75.5, \"y0\": 82.0, \"x1\": 116.5, \"y1\": 86.0, \"line\": {\"color\": \"#888\", \"width\": 2}, \"fillcolor\": \"rgba(55, 128, 191, 0.6)\", \"opacity\": 0.5}, {\"type\": \"rect\", \"xref\": \"x\", \"yref\": \"y\", \"x0\": 75.5, \"y0\": 78.0, \"x1\": 116.5, \"y1\": 82.0, \"line\": {\"color\": \"#888\", \"width\": 2}, \"fillcolor\": \"rgba(55, 128, 191, 0.6)\", \"opacity\": 0.5}, {\"type\": \"rect\", \"xref\": \"x\", \"yref\": \"y\", \"x0\": 75.5, \"y0\": 74.0, \"x1\": 116.5, \"y1\": 78.0, \"line\": {\"color\": \"#888\", \"width\": 2}, \"fillcolor\": \"rgba(55, 128, 191, 0.6)\", \"opacity\": 0.5}, {\"type\": \"rect\", \"xref\": \"x\", \"yref\": \"y\", \"x0\": 75.5, \"y0\": 70.0, \"x1\": 116.5, \"y1\": 74.0, \"line\": {\"color\": \"#888\", \"width\": 2}, \"fillcolor\": \"rgba(55, 128, 191, 0.6)\", \"opacity\": 0.5}, {\"type\": \"rect\", \"xref\": \"x\", \"yref\": \"y\", \"x0\": 75.5, \"y0\": 66.0, \"x1\": 116.5, \"y1\": 70.0, \"line\": {\"color\": \"#888\", \"width\": 2}, \"fillcolor\": \"rgba(55, 128, 191, 0.6)\", \"opacity\": 0.5}, {\"type\": \"rect\", \"xref\": \"x\", \"yref\": \"y\", \"x0\": 75.5, \"y0\": 62.0, \"x1\": 116.5, \"y1\": 66.0, \"line\": {\"color\": \"#888\", \"width\": 2}, \"fillcolor\": \"rgba(55, 128, 191, 0.6)\", \"opacity\": 0.5}, {\"type\": \"rect\", \"xref\": \"x\", \"yref\": \"y\", \"x0\": 75.5, \"y0\": 58.0, \"x1\": 116.5, \"y1\": 62.0, \"line\": {\"color\": \"#888\", \"width\": 2}, \"fillcolor\": \"rgba(55, 128, 191, 0.6)\", \"opacity\": 0.5}, {\"type\": \"rect\", \"xref\": \"x\", \"yref\": \"y\", \"x0\": 75.5, \"y0\": 54.0, \"x1\": 116.5, \"y1\": 58.0, \"line\": {\"color\": \"#888\", \"width\": 2}, \"fillcolor\": \"rgba(55, 128, 191, 0.6)\", \"opacity\": 0.5}, {\"type\": \"rect\", \"xref\": \"x\", \"yref\": \"y\", \"x0\": 75.5, \"y0\": 50.0, \"x1\": 116.5, \"y1\": 54.0, \"line\": {\"color\": \"#888\", \"width\": 2}, \"fillcolor\": \"rgba(55, 128, 191, 0.6)\", \"opacity\": 0.5}, {\"type\": \"rect\", \"xref\": \"x\", \"yref\": \"y\", \"x0\": 75.5, \"y0\": 46.0, \"x1\": 116.5, \"y1\": 50.0, \"line\": {\"color\": \"#888\", \"width\": 2}, \"fillcolor\": \"rgba(55, 128, 191, 0.6)\", \"opacity\": 0.5}, {\"type\": \"rect\", \"xref\": \"x\", \"yref\": \"y\", \"x0\": 75.5, \"y0\": 42.0, \"x1\": 116.5, \"y1\": 46.0, \"line\": {\"color\": \"#888\", \"width\": 2}, \"fillcolor\": \"rgba(55, 128, 191, 0.6)\", \"opacity\": 0.5}, {\"type\": \"rect\", \"xref\": \"x\", \"yref\": \"y\", \"x0\": 75.5, \"y0\": 38.0, \"x1\": 116.5, \"y1\": 42.0, \"line\": {\"color\": \"#888\", \"width\": 2}, \"fillcolor\": \"rgba(55, 128, 191, 0.6)\", \"opacity\": 0.5}, {\"type\": \"rect\", \"xref\": \"x\", \"yref\": \"y\", \"x0\": 75.5, \"y0\": 34.0, \"x1\": 116.5, \"y1\": 38.0, \"line\": {\"color\": \"#888\", \"width\": 2}, \"fillcolor\": \"rgba(55, 128, 191, 0.6)\", \"opacity\": 0.5}, {\"type\": \"rect\", \"xref\": \"x\", \"yref\": \"y\", \"x0\": 75.5, \"y0\": 30.0, \"x1\": 116.5, \"y1\": 34.0, \"line\": {\"color\": \"#888\", \"width\": 2}, \"fillcolor\": \"rgba(55, 128, 191, 0.6)\", \"opacity\": 0.5}, {\"type\": \"rect\", \"xref\": \"x\", \"yref\": \"y\", \"x0\": 75.5, \"y0\": 26.0, \"x1\": 116.5, \"y1\": 30.0, \"line\": {\"color\": \"#888\", \"width\": 2}, \"fillcolor\": \"rgba(55, 128, 191, 0.6)\", \"opacity\": 0.5}, {\"type\": \"rect\", \"xref\": \"x\", \"yref\": \"y\", \"x0\": 75.5, \"y0\": 22.0, \"x1\": 116.5, \"y1\": 26.0, \"line\": {\"color\": \"#888\", \"width\": 2}, \"fillcolor\": \"rgba(55, 128, 191, 0.6)\", \"opacity\": 0.5}, {\"type\": \"rect\", \"xref\": \"x\", \"yref\": \"y\", \"x0\": 75.5, \"y0\": 18.0, \"x1\": 116.5, \"y1\": 22.0, \"line\": {\"color\": \"#888\", \"width\": 2}, \"fillcolor\": \"rgba(55, 128, 191, 0.6)\", \"opacity\": 0.5}, {\"type\": \"rect\", \"xref\": \"x\", \"yref\": \"y\", \"x0\": 75.5, \"y0\": 14.0, \"x1\": 116.5, \"y1\": 18.0, \"line\": {\"color\": \"#888\", \"width\": 2}, \"fillcolor\": \"rgba(55, 128, 191, 0.6)\", \"opacity\": 0.5}, {\"type\": \"rect\", \"xref\": \"x\", \"yref\": \"y\", \"x0\": 75.5, \"y0\": 10.0, \"x1\": 116.5, \"y1\": 14.0, \"line\": {\"color\": \"#888\", \"width\": 2}, \"fillcolor\": \"rgba(55, 128, 191, 0.6)\", \"opacity\": 0.5}, {\"type\": \"rect\", \"xref\": \"x\", \"yref\": \"y\", \"x0\": 75.5, \"y0\": 6.0, \"x1\": 116.5, \"y1\": 10.0, \"line\": {\"color\": \"#888\", \"width\": 2}, \"fillcolor\": \"rgba(55, 128, 191, 0.6)\", \"opacity\": 0.5}, {\"type\": \"rect\", \"xref\": \"x\", \"yref\": \"y\", \"x0\": 75.5, \"y0\": 2.0, \"x1\": 116.5, \"y1\": 6.0, \"line\": {\"color\": \"#888\", \"width\": 2}, \"fillcolor\": \"rgba(55, 128, 191, 0.6)\", \"opacity\": 0.5}, {\"type\": \"rect\", \"xref\": \"x\", \"yref\": \"y\", \"x0\": 75.5, \"y0\": -2.0, \"x1\": 116.5, \"y1\": 2.0, \"line\": {\"color\": \"#888\", \"width\": 2}, \"fillcolor\": \"rgba(55, 128, 191, 0.6)\", \"opacity\": 0.5}, {\"type\": \"rect\", \"xref\": \"x\", \"yref\": \"y\", \"x0\": 75.5, \"y0\": -6.0, \"x1\": 116.5, \"y1\": -2.0, \"line\": {\"color\": \"#888\", \"width\": 2}, \"fillcolor\": \"rgba(55, 128, 191, 0.6)\", \"opacity\": 0.5}, {\"type\": \"rect\", \"xref\": \"x\", \"yref\": \"y\", \"x0\": 75.5, \"y0\": -10.0, \"x1\": 116.5, \"y1\": -6.0, \"line\": {\"color\": \"#888\", \"width\": 2}, \"fillcolor\": \"rgba(55, 128, 191, 0.6)\", \"opacity\": 0.5}, {\"type\": \"rect\", \"xref\": \"x\", \"yref\": \"y\", \"x0\": 75.5, \"y0\": -14.0, \"x1\": 116.5, \"y1\": -10.0, \"line\": {\"color\": \"#888\", \"width\": 2}, \"fillcolor\": \"rgba(55, 128, 191, 0.6)\", \"opacity\": 0.5}, {\"type\": \"rect\", \"xref\": \"x\", \"yref\": \"y\", \"x0\": 75.5, \"y0\": -18.0, \"x1\": 116.5, \"y1\": -14.0, \"line\": {\"color\": \"#888\", \"width\": 2}, \"fillcolor\": \"rgba(55, 128, 191, 0.6)\", \"opacity\": 0.5}, {\"type\": \"rect\", \"xref\": \"x\", \"yref\": \"y\", \"x0\": 75.5, \"y0\": -22.0, \"x1\": 116.5, \"y1\": -18.0, \"line\": {\"color\": \"#888\", \"width\": 2}, \"fillcolor\": \"rgba(55, 128, 191, 0.6)\", \"opacity\": 0.5}, {\"type\": \"rect\", \"xref\": \"x\", \"yref\": \"y\", \"x0\": 75.5, \"y0\": -26.0, \"x1\": 116.5, \"y1\": -22.0, \"line\": {\"color\": \"#888\", \"width\": 2}, \"fillcolor\": \"rgba(55, 128, 191, 0.6)\", \"opacity\": 0.5}, {\"type\": \"rect\", \"xref\": \"x\", \"yref\": \"y\", \"x0\": 75.5, \"y0\": -30.0, \"x1\": 116.5, \"y1\": -26.0, \"line\": {\"color\": \"#888\", \"width\": 2}, \"fillcolor\": \"rgba(55, 128, 191, 0.6)\", \"opacity\": 0.5}]}, {\"showLink\": true, \"linkText\": \"Export to plot.ly\"})});</script>"
      ]
     },
     "metadata": {},
     "output_type": "display_data"
    }
   ],
   "source": [
    "iplot(make_graph(var_data=json_thing, var_name=\"test\", plot_height=1000, plot_width=2000, box_height=4, box_width=20))"
   ]
  },
  {
   "cell_type": "code",
   "execution_count": 270,
   "metadata": {},
   "outputs": [
    {
     "name": "stdout",
     "output_type": "stream",
     "text": [
      "time to open url: 1.8910350799560547\n",
      "<http.client.HTTPResponse object at 0x1a130af940>\n"
     ]
    }
   ],
   "source": [
    "start_time = time.time()\n",
    "with urllib.request.urlopen(rsid_url(\"rs7903146\")) as url:\n",
    "    print(\"time to open url:\", time.time() - start_time)\n",
    "    print(url)\n",
    "    u = url.read()\n",
    "    json_thing = json.loads(u)"
   ]
  }
 ],
 "metadata": {
  "kernelspec": {
   "display_name": "Python 3",
   "language": "python",
   "name": "python3"
  },
  "language_info": {
   "codemirror_mode": {
    "name": "ipython",
    "version": 3
   },
   "file_extension": ".py",
   "mimetype": "text/x-python",
   "name": "python",
   "nbconvert_exporter": "python",
   "pygments_lexer": "ipython3",
   "version": "3.6.5"
  }
 },
 "nbformat": 4,
 "nbformat_minor": 2
}
